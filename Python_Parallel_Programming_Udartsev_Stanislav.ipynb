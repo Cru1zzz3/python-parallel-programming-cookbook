{
  "nbformat": 4,
  "nbformat_minor": 0,
  "metadata": {
    "colab": {
      "name": "Python Parallel Programming - Udartsev Stanislav.ipynb",
      "provenance": [],
      "collapsed_sections": [],
      "authorship_tag": "ABX9TyMYWIe9Dq0sYnDYHP6TMwb7",
      "include_colab_link": true
    },
    "kernelspec": {
      "name": "python3",
      "display_name": "Python 3"
    },
    "language_info": {
      "name": "python"
    }
  },
  "cells": [
    {
      "cell_type": "markdown",
      "metadata": {
        "id": "view-in-github",
        "colab_type": "text"
      },
      "source": [
        "<a href=\"https://colab.research.google.com/github/Cru1zzz3/python-parallel-programming-cookbook/blob/main/Python_Parallel_Programming_Udartsev_Stanislav.ipynb\" target=\"_parent\"><img src=\"https://colab.research.google.com/assets/colab-badge.svg\" alt=\"Open In Colab\"/></a>"
      ]
    },
    {
      "cell_type": "code",
      "metadata": {
        "id": "mIZktcb5ax9b"
      },
      "source": [
        ""
      ],
      "execution_count": null,
      "outputs": []
    },
    {
      "cell_type": "markdown",
      "metadata": {
        "id": "Q7qCcyNjbMIx"
      },
      "source": [
        "Start working with processes in Python"
      ]
    },
    {
      "cell_type": "markdown",
      "metadata": {
        "id": "Jpb0QwXeeM6Q"
      },
      "source": [
        "This example not work in Google Collab execvp doesn't supported."
      ]
    },
    {
      "cell_type": "code",
      "metadata": {
        "id": "qsXsGee8bM-7"
      },
      "source": [
        "##The following modules must be imported\n",
        "import os\n",
        "import sys\n",
        "##this is the code to execute\n",
        "program = \"python\"\n",
        "print(\"Process calling\")\n",
        "arguments = [\"storage/chapter_1/called_Process.py\"]\n",
        "# ##we call the called_Process.py script\n",
        "os.execvp(program, (program,) + tuple(arguments))\n",
        "print(\"Good Bye!!\")"
      ],
      "execution_count": null,
      "outputs": []
    },
    {
      "cell_type": "markdown",
      "metadata": {
        "id": "2311VgVzeodX"
      },
      "source": [
        ""
      ]
    },
    {
      "cell_type": "code",
      "metadata": {
        "colab": {
          "base_uri": "https://localhost:8080/"
        },
        "id": "a7PIA4t9em8o",
        "outputId": "fadb4a37-44a2-4695-c478-9b6633c9533e"
      },
      "source": [
        "## To use threads you need import Thread using the following code:\n",
        "from threading import Thread\n",
        "##Also we use the sleep function to make the thread \"sleep\"\n",
        "from time import sleep\n",
        "## To create a thread in Python you'll want to make your class work as a thread.\n",
        "## For this, you should subclass your class from the Thread class\n",
        "class CookBook(Thread):\n",
        "  def __init__(self):\n",
        "    Thread.__init__(self)\n",
        "    self.message = \"Hello Parallel Python CookBook!!\\n\"\n",
        "\n",
        "##this method prints only the message\n",
        "  def print_message(self):\n",
        "    print (self.message)\n",
        "\n",
        "##The run method prints ten times the message\n",
        "  def run(self):\n",
        "    print (\"Thread Starting\\n\")\n",
        "    x=0\n",
        "    while (x < 10):\n",
        "      self.print_message()\n",
        "      sleep(2)\n",
        "      x += 1\n",
        "  print (\"Thread Ended\\n\")\n",
        "\n",
        "#start the main process\n",
        "print (\"Process Started\")\n",
        "\n",
        "# create an instance of the HelloWorld class\n",
        "hello_Python = CookBook()\n",
        "\n",
        "# print the message...starting the thread\n",
        "hello_Python.start()\n",
        "\n",
        "#end the main process\n",
        "print (\"Process Ended\")\n"
      ],
      "execution_count": 2,
      "outputs": [
        {
          "output_type": "stream",
          "name": "stdout",
          "text": [
            "Thread Ended\n",
            "\n",
            "Process Started\n",
            "Thread Starting\n",
            "Process Ended\n",
            "Hello Parallel Python CookBook!!\n",
            "\n",
            "\n"
          ]
        }
      ]
    }
  ]
}