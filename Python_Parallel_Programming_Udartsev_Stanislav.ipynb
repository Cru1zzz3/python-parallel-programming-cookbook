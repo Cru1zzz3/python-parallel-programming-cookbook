{
  "nbformat": 4,
  "nbformat_minor": 0,
  "metadata": {
    "colab": {
      "name": "Python Parallel Programming - Udartsev Stanislav.ipynb",
      "provenance": [],
      "authorship_tag": "ABX9TyNoVUQJDSHXSggfWslq464I",
      "include_colab_link": true
    },
    "kernelspec": {
      "name": "python3",
      "display_name": "Python 3"
    },
    "language_info": {
      "name": "python"
    }
  },
  "cells": [
    {
      "cell_type": "markdown",
      "metadata": {
        "id": "view-in-github",
        "colab_type": "text"
      },
      "source": [
        "<a href=\"https://colab.research.google.com/github/Cru1zzz3/python-parallel-programming-cookbook/blob/main/Python_Parallel_Programming_Udartsev_Stanislav.ipynb\" target=\"_parent\"><img src=\"https://colab.research.google.com/assets/colab-badge.svg\" alt=\"Open In Colab\"/></a>"
      ]
    },
    {
      "cell_type": "code",
      "metadata": {
        "id": "mIZktcb5ax9b"
      },
      "source": [
        ""
      ],
      "execution_count": null,
      "outputs": []
    },
    {
      "cell_type": "markdown",
      "metadata": {
        "id": "Q7qCcyNjbMIx"
      },
      "source": [
        "Start working with processes in Python"
      ]
    },
    {
      "cell_type": "code",
      "metadata": {
        "id": "qsXsGee8bM-7"
      },
      "source": [
        "##The following modules must be imported\n",
        "import os\n",
        "import sys\n",
        "##this is the code to execute\n",
        "program = \"python\"\n",
        "print(\"Process calling\")\n",
        "arguments = [\"called_Process.py\"]\n",
        "##we call the called_Process.py script\n",
        "os.execvp(program, (program,) + tuple(arguments))\n",
        "print(\"Good Bye!!\")"
      ],
      "execution_count": null,
      "outputs": []
    }
  ]
}