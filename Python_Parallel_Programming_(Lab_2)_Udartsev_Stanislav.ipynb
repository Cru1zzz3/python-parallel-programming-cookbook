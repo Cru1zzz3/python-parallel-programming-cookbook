{
  "nbformat": 4,
  "nbformat_minor": 0,
  "metadata": {
    "colab": {
      "name": "Python Parallel Programming (Lab 2) - Udartsev Stanislav.ipynb",
      "provenance": [],
      "collapsed_sections": [],
      "authorship_tag": "ABX9TyNVZqt2IrN5S2n0IBkpMIZ3",
      "include_colab_link": true
    },
    "kernelspec": {
      "name": "python3",
      "display_name": "Python 3"
    },
    "language_info": {
      "name": "python"
    }
  },
  "cells": [
    {
      "cell_type": "markdown",
      "metadata": {
        "id": "view-in-github",
        "colab_type": "text"
      },
      "source": [
        "<a href=\"https://colab.research.google.com/github/Cru1zzz3/python-parallel-programming-cookbook/blob/main/Python_Parallel_Programming_(Lab_2)_Udartsev_Stanislav.ipynb\" target=\"_parent\"><img src=\"https://colab.research.google.com/assets/colab-badge.svg\" alt=\"Open In Colab\"/></a>"
      ]
    },
    {
      "cell_type": "markdown",
      "metadata": {
        "id": "QcKxxCWQ0vkr"
      },
      "source": [
        "**How to define a thread**"
      ]
    },
    {
      "cell_type": "markdown",
      "metadata": {
        "id": "yhz0wceI6DqZ"
      },
      "source": [
        "Использование потока вызывается с помощью класса Thread библиотеки Threading"
      ]
    },
    {
      "cell_type": "code",
      "metadata": {
        "id": "kLiVfdpc05dY"
      },
      "source": [
        "import threading"
      ],
      "execution_count": null,
      "outputs": []
    },
    {
      "cell_type": "code",
      "metadata": {
        "id": "2GlAC3Fuzt71"
      },
      "source": [
        "def function(i):\n",
        "  print(\"function called by thread %i\\n\" %i)\n",
        "  return"
      ],
      "execution_count": null,
      "outputs": []
    },
    {
      "cell_type": "code",
      "metadata": {
        "colab": {
          "base_uri": "https://localhost:8080/"
        },
        "id": "Bougs3z41U-T",
        "outputId": "6559f343-de22-41f1-af77-a005364f57d0"
      },
      "source": [
        "threads = []\n",
        "for i in range(5):\n",
        "  t = threading.Thread(target=function, args=(i,))\n",
        "  threads.append(t)\n",
        "  t.start()\n",
        "  t.join()"
      ],
      "execution_count": null,
      "outputs": [
        {
          "output_type": "stream",
          "name": "stdout",
          "text": [
            "function called by thread 0\n",
            "\n",
            "function called by thread 1\n",
            "\n",
            "function called by thread 2\n",
            "\n",
            "function called by thread 3\n",
            "\n",
            "function called by thread 4\n",
            "\n"
          ]
        }
      ]
    },
    {
      "cell_type": "markdown",
      "metadata": {
        "id": "avDbtBnE2Wxw"
      },
      "source": [
        "**How to determine the current thread**"
      ]
    },
    {
      "cell_type": "markdown",
      "metadata": {
        "id": "OCQZsq7j5wPJ"
      },
      "source": [
        "Для определения текущего потока выполнения можно обращаться к потоку используя методы .currentThread().getName() "
      ]
    },
    {
      "cell_type": "code",
      "metadata": {
        "colab": {
          "base_uri": "https://localhost:8080/"
        },
        "id": "HE5nbm0d5R6v",
        "outputId": "d34e9eeb-ef0f-453e-dbfe-c78ef1c151ba"
      },
      "source": [
        "import threading\n",
        "import time\n",
        "\n",
        "def first_function():\n",
        "  print(threading.currentThread().getName()+ str(' is Starting \\n'))\n",
        "  time.sleep(2)\n",
        "  print(threading.currentThread().getName() + str(' is Exiting \\n'))\n",
        "  return\n",
        "\n",
        "def second_function():\n",
        "  print(threading.currentThread().getName() + str(' is Starting \\n'))\n",
        "  time.sleep(2)\n",
        "  print(threading.currentThread().getName() + str(' is Exiting \\n'))\n",
        "  return\n",
        "\n",
        "def third_function():\n",
        "  print(threading.currentThread().getName() + str('is Staring \\n'))\n",
        "  time.sleep(2)\n",
        "  print(threading.currentThread().getName() + str('is Exiting \\n'))\n",
        "  return\n",
        "\n",
        "t1 = threading.Thread(name='first_function', target=first_function)\n",
        "t2 = threading.Thread(name='second_function', target=second_function)\n",
        "t3 = threading.Thread(name='third_function', target=third_function)\n",
        "\n",
        "t1.start()\n",
        "t2.start()\n",
        "t3.start()\n",
        "\n",
        "# Т.к в коллабе при завершении основного потока закрываются остальные потоки не дожидаясь завершения,\n",
        "# то добавим ожидание остальныех потоков с помощью метода .join(), чтобы получить ожидаемый вывод\n",
        "t1.join() \n",
        "t2.join()\n",
        "t3.join()"
      ],
      "execution_count": null,
      "outputs": [
        {
          "output_type": "stream",
          "name": "stdout",
          "text": [
            "first_function is Starting \n",
            "\n",
            "second_function is Starting \n",
            "\n",
            "third_functionis Staring \n",
            "\n",
            "second_function is Exiting \n",
            "\n",
            "third_functionis Exiting \n",
            "\n",
            "first_function is Exiting \n",
            "\n"
          ]
        }
      ]
    },
    {
      "cell_type": "markdown",
      "metadata": {
        "id": "5ydKS5oi7dW_"
      },
      "source": [
        "**How to use a thread in a subclass**"
      ]
    },
    {
      "cell_type": "markdown",
      "metadata": {
        "id": "mQdSg7KJ4_FZ"
      },
      "source": [
        "Применяя наследование от класса Thread можно добиться использования функционала потоков при реализации собственного класса "
      ]
    },
    {
      "cell_type": "code",
      "metadata": {
        "id": "v84zDMKk7dN3"
      },
      "source": [
        "import threading\n",
        "import time\n",
        "\n",
        "exitFlag = 0\n",
        "\n",
        "class myThread (threading.Thread):\n",
        "  def __init__(self, threadID, name, counter):\n",
        "    threading.Thread.__init__(self)\n",
        "    self.threadID = threadID\n",
        "    self.name = name\n",
        "    self.counter = counter\n",
        "\n",
        "  def run(self):\n",
        "    print(\"Starting \" + self.name)\n",
        "    print_time(self.name, self.counter, 5)\n",
        "    print (\"Exiting \" + self.name)"
      ],
      "execution_count": null,
      "outputs": []
    },
    {
      "cell_type": "code",
      "metadata": {
        "id": "Q5R6D72U8Kou"
      },
      "source": [
        "def print_time(threadName, delay, counter):\n",
        "  while counter:\n",
        "    if exitFlag: \n",
        "      thread.exit()\n",
        "    time.sleep(delay)\n",
        "    print(\"%s: %s\" %(threadName, time.ctime(time.time())))\n",
        "    counter -= 1"
      ],
      "execution_count": null,
      "outputs": []
    },
    {
      "cell_type": "code",
      "metadata": {
        "colab": {
          "base_uri": "https://localhost:8080/"
        },
        "id": "GEIR5jym8gm2",
        "outputId": "28a37a06-8170-409e-a533-c0a23c52c294"
      },
      "source": [
        "thread1 = myThread(1, \"Thread-1\", 1)\n",
        "thread2 = myThread(2, \"Thread-2\", 2)\n",
        "\n",
        "thread1.start()\n",
        "thread2.start()\n",
        "\n",
        "thread1.join()\n",
        "thread2.join()\n",
        "print(\"Exiting Main Thread\")"
      ],
      "execution_count": null,
      "outputs": [
        {
          "output_type": "stream",
          "name": "stdout",
          "text": [
            "Starting Thread-1\n",
            "Starting Thread-2\n",
            "Thread-1: Mon Nov 15 18:55:24 2021\n",
            "Thread-1: Mon Nov 15 18:55:25 2021\n",
            "Thread-2: Mon Nov 15 18:55:25 2021\n",
            "Thread-1: Mon Nov 15 18:55:26 2021\n",
            "Thread-1: Mon Nov 15 18:55:27 2021\n",
            "Thread-2: Mon Nov 15 18:55:27 2021\n",
            "Thread-1: Mon Nov 15 18:55:28 2021\n",
            "Exiting Thread-1\n",
            "Thread-2: Mon Nov 15 18:55:29 2021\n",
            "Thread-2: Mon Nov 15 18:55:31 2021\n",
            "Thread-2: Mon Nov 15 18:55:33 2021\n",
            "Exiting Thread-2\n",
            "Exiting Main Thread\n"
          ]
        }
      ]
    },
    {
      "cell_type": "markdown",
      "metadata": {
        "id": "ANKzSjRb-FS8"
      },
      "source": [
        "**Thread synchronization with Lock and\n",
        "RLock**"
      ]
    },
    {
      "cell_type": "markdown",
      "metadata": {
        "id": "b6GMzXpS6xEa"
      },
      "source": [
        "Простейшим примитивом синхронизации в Python является Lock(), который позволяет заблокировать необходимый ресурс с помощью метода .acquire() для проведения над ним различных операций, а после этого освободить ресурс c помощью метода .release() "
      ]
    },
    {
      "cell_type": "code",
      "metadata": {
        "id": "vHYC75t6-QDU"
      },
      "source": [
        "import threading\n",
        "\n",
        "shared_resource_with_lock = 0\n",
        "shared_resource_with_no_lock = 0\n",
        "# количество итераций увеличено, по сравнению с ориганиалом кода в учебнике, поскольку при малом количестве итераций\n",
        "# периодически выдавался одинаковый результат при наличии и отсутствии блокировок примитива синхронизации.\n",
        "COUNT = 300000\n",
        "shared_resource_lock = threading.Lock()"
      ],
      "execution_count": 14,
      "outputs": []
    },
    {
      "cell_type": "code",
      "metadata": {
        "id": "NWQILAQEyXu9"
      },
      "source": [
        "def increment_with_lock():\n",
        "    global shared_resource_with_lock\n",
        "    for i in range(COUNT):\n",
        "        shared_resource_lock.acquire()\n",
        "        shared_resource_with_lock += 1\n",
        "        shared_resource_lock.release()"
      ],
      "execution_count": 9,
      "outputs": []
    },
    {
      "cell_type": "code",
      "metadata": {
        "id": "b2PblD7hyaPc"
      },
      "source": [
        "def decrement_with_lock():\n",
        "    global shared_resource_with_lock\n",
        "    for i in range(COUNT):\n",
        "        shared_resource_lock.acquire()\n",
        "        shared_resource_with_lock -= 1\n",
        "        shared_resource_lock.release()"
      ],
      "execution_count": 10,
      "outputs": []
    },
    {
      "cell_type": "code",
      "metadata": {
        "id": "A7qg1azEybbB"
      },
      "source": [
        "def increment_without_lock():\n",
        "    global shared_resource_with_no_lock\n",
        "    for i in range(COUNT):\n",
        "        shared_resource_with_no_lock += 1\n"
      ],
      "execution_count": 11,
      "outputs": []
    },
    {
      "cell_type": "code",
      "metadata": {
        "id": "dLKq1OjcycPa"
      },
      "source": [
        "def decrement_without_lock():\n",
        "    global shared_resource_with_no_lock\n",
        "    for i in range(COUNT):\n",
        "        shared_resource_with_no_lock -= 1"
      ],
      "execution_count": 12,
      "outputs": []
    },
    {
      "cell_type": "code",
      "metadata": {
        "colab": {
          "base_uri": "https://localhost:8080/"
        },
        "id": "78WDnJ4QyeM9",
        "outputId": "85a01633-071a-4ae5-c339-349ec2e3aee2"
      },
      "source": [
        "t1 = threading.Thread(target=increment_with_lock)\n",
        "t2 = threading.Thread(target=decrement_with_lock)\n",
        "t3 = threading.Thread(target=increment_without_lock)\n",
        "t4 = threading.Thread(target=decrement_without_lock)\n",
        "\n",
        "t1.start()\n",
        "t2.start()\n",
        "t3.start()\n",
        "t4.start()\n",
        "\n",
        "t1.join()\n",
        "t2.join()\n",
        "t3.join()\n",
        "t4.join()\n",
        "\n",
        "print(\"the value of shared variable with lock management is\", shared_resource_with_lock)\n",
        "print(\"the value of shared variable with race condition is\", shared_resource_with_no_lock)"
      ],
      "execution_count": 18,
      "outputs": [
        {
          "output_type": "stream",
          "name": "stdout",
          "text": [
            "the value of shared variable with lock management is 0\n",
            "the value of shared variable with race condition is -127867\n"
          ]
        }
      ]
    },
    {
      "cell_type": "markdown",
      "metadata": {
        "id": "uyvXTV28hjUT"
      },
      "source": [
        "**Thread synchronization with RLock**"
      ]
    },
    {
      "cell_type": "markdown",
      "metadata": {
        "id": "jJQ_zy-RX7OW"
      },
      "source": [
        "Главное отличие от Lock() заключается в том, что с помощью Lock() можно захватить ресурс только один раз. Его нельзя захватить снова, пока он не будет освобожден. (После того, как он был освобожден, он может быть повторно захвачен любым потоком).\n",
        "\n",
        "С другой стороны, RLock может быть захвачен несколько раз одним и тем же потоком. Чтобы разблокировать Rlock(), его нужно освободить одинаковое количество раз.\n",
        "\n",
        "Ещё одно отличие состоит в том, что ресурс захваченный Lock() может быть освобожден любым потоком, в то время как ресурс захваченный RLock() может быть освобожден только тем потоком, который ее захватил."
      ]
    },
    {
      "cell_type": "code",
      "metadata": {
        "id": "nWDy3WMwy9wd"
      },
      "source": [
        "import threading\n",
        "import time"
      ],
      "execution_count": 32,
      "outputs": []
    },
    {
      "cell_type": "code",
      "metadata": {
        "id": "MmmQarihzCSf"
      },
      "source": [
        "class Box(object):\n",
        "  lock = threading.RLock()\n",
        "  def __init__(self):\n",
        "    self.total_items = 0\n",
        "\n",
        "  def execute (self,n):\n",
        "    Box.lock.acquire()\n",
        "    self.total_items += n\n",
        "    Box.lock.release()\n",
        "  \n",
        "  def add(self):\n",
        "    Box.lock.acquire()\n",
        "    self.execute(1)\n",
        "    Box.lock.release()\n",
        "\n",
        "  def remove(self):\n",
        "    Box.lock.acquire()\n",
        "    self.execute(-1)\n",
        "    Box.lock.release()"
      ],
      "execution_count": 37,
      "outputs": []
    },
    {
      "cell_type": "code",
      "metadata": {
        "id": "w_F2542f1liE"
      },
      "source": [
        "def adder(box, items):\n",
        "  while items > 0:\n",
        "    print (\"adding 1 item in the box\\n\")\n",
        "    box.add()\n",
        "    time.sleep(5)\n",
        "    items -= 1"
      ],
      "execution_count": 38,
      "outputs": []
    },
    {
      "cell_type": "code",
      "metadata": {
        "id": "YcNhCOzA1xdd"
      },
      "source": [
        "def remover(box, items):\n",
        "  while items > 0:\n",
        "    print(\"removing 1 item in the box\")\n",
        "    box.remove()\n",
        "    time.sleep(5)\n",
        "    items -= 1"
      ],
      "execution_count": 39,
      "outputs": []
    },
    {
      "cell_type": "code",
      "metadata": {
        "colab": {
          "base_uri": "https://localhost:8080/"
        },
        "id": "As3y9ZIj1_9O",
        "outputId": "c3c9a9f2-2f4b-4a73-d053-7e88ba8c1baa"
      },
      "source": [
        "items = 5\n",
        "print(\"putting %s items in the box \" % items)\n",
        "box = Box()\n",
        "t1 = threading.Thread(target=adder, args=(box,items))\n",
        "t2 = threading.Thread(target=remover,args=(box,items))\n",
        "t1.start()\n",
        "t2.start()\n",
        "\n",
        "t1.join()\n",
        "t2.join()\n",
        "print(\"%s items still remain in the box \" % box.total_items)"
      ],
      "execution_count": 40,
      "outputs": [
        {
          "output_type": "stream",
          "name": "stdout",
          "text": [
            "putting 5 items in the box \n",
            "adding 1 item in the box\n",
            "\n",
            "removing 1 item in the box\n",
            "adding 1 item in the box\n",
            "\n",
            "removing 1 item in the box\n",
            "adding 1 item in the box\n",
            "\n",
            "removing 1 item in the box\n",
            "adding 1 item in the box\n",
            "\n",
            "removing 1 item in the box\n",
            "adding 1 item in the box\n",
            "\n",
            "removing 1 item in the box\n",
            "0 items still remain in the box \n"
          ]
        }
      ]
    },
    {
      "cell_type": "markdown",
      "metadata": {
        "id": "RxsqfZtBZeGQ"
      },
      "source": [
        "**Thread synchronization with semaphores**"
      ]
    },
    {
      "cell_type": "markdown",
      "metadata": {
        "id": "TikpWZmC8vRR"
      },
      "source": [
        "Семафоры похож на предыдущие механизмы синхронизации, но в своей основе лежит счетчик. Значение соответствующего счетчика уменьшается на каждый вызов .acquire() (но не может быть уменьшен ниже нуля) и увеличивается на каждый вызов release(). Таким образом, нельзя будет уменьшить счётчик ниже нуля и получить ресурс, до тех пор, пока счётчик не будет увеличен и ресурс не будет освобождён. "
      ]
    },
    {
      "cell_type": "code",
      "metadata": {
        "id": "hb22B2aj0BdH"
      },
      "source": [
        "import threading\n",
        "import time \n",
        "import random\n",
        "\n",
        "semaphore = threading.Semaphore(0)\n"
      ],
      "execution_count": 16,
      "outputs": []
    },
    {
      "cell_type": "code",
      "metadata": {
        "id": "xnByUylua5uA"
      },
      "source": [
        "def producer():\n",
        "  global item\n",
        "  time.sleep(10)\n",
        "  item = random.randint(0,1000)\n",
        "  print(\"Producer notify : produced item number %s\" %item)\n",
        "  semaphore.release() # происходит увеличение значение семафора на 1"
      ],
      "execution_count": 17,
      "outputs": []
    },
    {
      "cell_type": "code",
      "metadata": {
        "id": "vWcr0zNCz9TK"
      },
      "source": [
        "def consumer():\n",
        "  print(\"consumer is waiting.\")\n",
        "  semaphore.acquire() # поток блокируется до тех пор, пока счётчик не будет увеличен \n",
        "  print(\"Consumer notify : consumed item number %s\" %item)"
      ],
      "execution_count": 18,
      "outputs": []
    },
    {
      "cell_type": "code",
      "metadata": {
        "colab": {
          "base_uri": "https://localhost:8080/"
        },
        "id": "gTTxqRpldCGQ",
        "outputId": "a0d52703-c0f2-4f32-c96c-95c58f3de108"
      },
      "source": [
        "for i in range(0,5):\n",
        "  t1 = threading.Thread(target=producer)\n",
        "  t2 = threading.Thread(target=consumer)\n",
        "  t1.start()\n",
        "  t2.start()\n",
        "  t1.join()\n",
        "  t2.join()\n",
        "print(\"program terminated\")"
      ],
      "execution_count": 20,
      "outputs": [
        {
          "output_type": "stream",
          "name": "stdout",
          "text": [
            "consumer is waiting.\n",
            "Producer notify : produced item number 919\n",
            "Consumer notify : consumed item number 919\n",
            "consumer is waiting.\n",
            "Producer notify : produced item number 29\n",
            "Consumer notify : consumed item number 29\n",
            "consumer is waiting.\n",
            "Producer notify : produced item number 594\n",
            "Consumer notify : consumed item number 594\n",
            "consumer is waiting.\n",
            "Producer notify : produced item number 111\n",
            "Consumer notify : consumed item number 111\n",
            "consumer is waiting.\n",
            "Producer notify : produced item number 135\n",
            "Consumer notify : consumed item number 135\n",
            "program terminated\n"
          ]
        }
      ]
    },
    {
      "cell_type": "markdown",
      "metadata": {
        "id": "rANJhkBR7p6T"
      },
      "source": [
        "**Thread synchronization with a condition**"
      ]
    },
    {
      "cell_type": "markdown",
      "metadata": {
        "id": "tce648TY4WU2"
      },
      "source": [
        "Примитив синхронизации Condition позволяет позволяет потоку ожидать, до наступления определённого условия с помощью метода .wait(). После того, как определённое условие соблюдено, используется метод .notify() для того, чтобы оповестить ожидающий поток и пробудить его из режима ожидания. "
      ]
    },
    {
      "cell_type": "code",
      "metadata": {
        "colab": {
          "base_uri": "https://localhost:8080/"
        },
        "id": "PlD99-Pw89so",
        "outputId": "e5a241e2-37b5-4ce5-fcb2-c9013089dd47"
      },
      "source": [
        "from threading import Thread, Condition\n",
        "import time\n",
        "\n",
        "items = []\n",
        "condition = Condition()\n",
        "\n",
        "class consumer(Thread):\n",
        "  def __init(self):\n",
        "    Thread.__init__(self)\n",
        "\n",
        "  def consume(self):\n",
        "    global condition\n",
        "    global items\n",
        "\n",
        "    condition.acquire()\n",
        "    if len(items) == 0:\n",
        "      condition.wait()\n",
        "      print(\"Consumer notify: no item to consume\")\n",
        "    items.pop()\n",
        "    print(\"Consumer notify: consumed 1 item\")\n",
        "    print(\"Consumer notify: items to consume are \" + str(len(items)))\n",
        "    condition.notify()\n",
        "    condition.release()\n",
        "\n",
        "  def run(self):\n",
        "    for i in range(0,20):\n",
        "      time.sleep(10)\n",
        "      self.consume()\n",
        "\n",
        "class producer(Thread):\n",
        "  def __init__(self):\n",
        "    Thread.__init__(self)\n",
        "\n",
        "  def produce(self):\n",
        "    global condition\n",
        "    global items\n",
        "\n",
        "    condition.acquire()\n",
        "    if len(items) == 10:\n",
        "      condition.wait()\n",
        "      print(\"Producer notify: items producted are \" + str(len(items)))\n",
        "      print(\"Producer notify: stop the production!!\")\n",
        "    items.append(1)\n",
        "    print(\"Producer notify: total items producted \" + str(len(items)))\n",
        "    condition.notify()\n",
        "    condition.release()\n",
        "\n",
        "  def run(self):\n",
        "    for i in range(0,20):\n",
        "      time.sleep(5)\n",
        "      self.produce() \n",
        "\n",
        "producer = producer()\n",
        "consumer = consumer()\n",
        "\n",
        "producer.start()\n",
        "consumer.start()\n",
        "\n",
        "producer.join()\n",
        "consumer.join()\n",
        "\n",
        "\n"
      ],
      "execution_count": 1,
      "outputs": [
        {
          "output_type": "stream",
          "name": "stdout",
          "text": [
            "Producer notify: total items producted 1\n",
            "Consumer notify: consumed 1 item\n",
            "Consumer notify: items to consume are 0\n",
            "Producer notify: total items producted 1\n",
            "Producer notify: total items producted 2\n",
            "Consumer notify: consumed 1 item\n",
            "Consumer notify: items to consume are 1\n",
            "Producer notify: total items producted 2\n",
            "Producer notify: total items producted 3\n",
            "Consumer notify: consumed 1 item\n",
            "Consumer notify: items to consume are 2\n",
            "Producer notify: total items producted 3\n",
            "Producer notify: total items producted 4\n",
            "Consumer notify: consumed 1 item\n",
            "Consumer notify: items to consume are 3\n",
            "Producer notify: total items producted 4\n",
            "Producer notify: total items producted 5\n",
            "Consumer notify: consumed 1 item\n",
            "Consumer notify: items to consume are 4\n",
            "Producer notify: total items producted 5\n",
            "Producer notify: total items producted 6\n",
            "Consumer notify: consumed 1 item\n",
            "Consumer notify: items to consume are 5\n",
            "Producer notify: total items producted 6\n",
            "Producer notify: total items producted 7\n",
            "Consumer notify: consumed 1 item\n",
            "Consumer notify: items to consume are 6\n",
            "Producer notify: total items producted 7\n",
            "Producer notify: total items producted 8\n",
            "Consumer notify: consumed 1 item\n",
            "Consumer notify: items to consume are 7\n",
            "Producer notify: total items producted 8\n",
            "Producer notify: total items producted 9\n",
            "Consumer notify: consumed 1 item\n",
            "Consumer notify: items to consume are 8\n",
            "Producer notify: total items producted 9\n",
            "Producer notify: total items producted 10\n",
            "Consumer notify: consumed 1 item\n",
            "Consumer notify: items to consume are 9\n",
            "Producer notify: items producted are 9\n",
            "Producer notify: stop the production!!\n",
            "Producer notify: total items producted 10\n",
            "Consumer notify: consumed 1 item\n",
            "Consumer notify: items to consume are 9\n",
            "Consumer notify: consumed 1 item\n",
            "Consumer notify: items to consume are 8\n",
            "Consumer notify: consumed 1 item\n",
            "Consumer notify: items to consume are 7\n",
            "Consumer notify: consumed 1 item\n",
            "Consumer notify: items to consume are 6\n",
            "Consumer notify: consumed 1 item\n",
            "Consumer notify: items to consume are 5\n",
            "Consumer notify: consumed 1 item\n",
            "Consumer notify: items to consume are 4\n",
            "Consumer notify: consumed 1 item\n",
            "Consumer notify: items to consume are 3\n",
            "Consumer notify: consumed 1 item\n",
            "Consumer notify: items to consume are 2\n",
            "Consumer notify: consumed 1 item\n",
            "Consumer notify: items to consume are 1\n",
            "Consumer notify: consumed 1 item\n",
            "Consumer notify: items to consume are 0\n"
          ]
        }
      ]
    },
    {
      "cell_type": "markdown",
      "metadata": {
        "id": "IXolyQbwFuOi"
      },
      "source": [
        "**Thread synchronization with an event**"
      ]
    },
    {
      "cell_type": "markdown",
      "metadata": {
        "id": "GkxlBZ3X_IOq"
      },
      "source": [
        "Примитив синхронизации Event работает схожим образом. Он использует внутренний флаг set(), который потоки могут устанавливать set или флаг clear(), который могут сбрасывать.  Другие потоки могут ожидать установки внутреннего флага с помощью метода wait().  Метод  wait()  блокирует поток, до тех пор, пока флаг не станет истинным."
      ]
    },
    {
      "cell_type": "markdown",
      "metadata": {
        "id": "Egz0WRY8Eddw"
      },
      "source": [
        "В примере из книги класс Consumer работал бескончено из-за условия цикла while true. В пример было добавлено условие выхода из цикла. \n",
        "\n",
        "При добавлении условия выхода нужно быть осторожным, потому что если поток с классом Producer закончит свою работу раньше потока с классом  Consumer, то поток содержащий Consumer будет бесконечно ожидать события, т.к. он находится в состоянии event.wait(), согласно схеме представленной на рисунке:\n",
        "\n",
        "![image.png](data:image/png;base64,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)"
      ]
    },
    {
      "cell_type": "code",
      "metadata": {
        "colab": {
          "base_uri": "https://localhost:8080/"
        },
        "id": "0CRcveRyFuAf",
        "outputId": "bb351b58-ed2f-4f87-812a-697801dacd5d"
      },
      "source": [
        "import time\n",
        "from threading import Thread, Event\n",
        "import random\n",
        "\n",
        "items = []\n",
        "event = Event()\n",
        "\n",
        "popBound = 4\n",
        "\n",
        "class consumer(Thread):\n",
        "  def __init__(self,items,event):\n",
        "    Thread.__init__(self)\n",
        "    self.items = items\n",
        "    self.event = event\n",
        "\n",
        "  def run(self):\n",
        "    popCount = 0\n",
        "    for i in range(popBound):\n",
        "      time.sleep(1)\n",
        "      self.event.wait()\n",
        "      item = self.items.pop()\n",
        "      popCount += 1 \n",
        "      print ('\\nconsumer notify: %d popped from listby %s\\n' %(item, self.name))\n",
        "      if popCount == popBound:\n",
        "        break\n",
        "\n",
        "class producer(Thread):\n",
        "  def __init__(self, integers, event):\n",
        "    Thread.__init__(self)\n",
        "    self.items = items\n",
        "    self.event = event\n",
        "\n",
        "  def run(self):\n",
        "    global item\n",
        "    for i in range(popBound):\n",
        "      time.sleep(2)\n",
        "      item = random.randint(0,256)\n",
        "      self.items.append(item)\n",
        "      print ('Producer notify: item N° %d appended to list by %s' % (item, self.name))\n",
        "      print ('Producer notify: event set by %s' % self.name)\n",
        "      self.event.set()\n",
        "      print ('Produce notify: event cleared by %s \\n' % self.name)\n",
        "      self.event.clear()\n",
        "\n",
        "t1 = producer(items,event)\n",
        "t2 = consumer(items,event)\n",
        "\n",
        "t1.start()\n",
        "t2.start()\n",
        "\n",
        "t1.join()\n",
        "t2.join()\n",
        "\n"
      ],
      "execution_count": 16,
      "outputs": [
        {
          "output_type": "stream",
          "name": "stdout",
          "text": [
            "Producer notify: item N° 9 appended to list by Thread-41\n",
            "Producer notify: event set by Thread-41\n",
            "Produce notify: event cleared by Thread-41 \n",
            "\n",
            "\n",
            "consumer notify: 9 popped from listby Thread-42\n",
            "\n",
            "Producer notify: item N° 137 appended to list by Thread-41\n",
            "Producer notify: event set by Thread-41\n",
            "Produce notify: event cleared by Thread-41 \n",
            "\n",
            "\n",
            "consumer notify: 137 popped from listby Thread-42\n",
            "\n",
            "Producer notify: item N° 134 appended to list by Thread-41\n",
            "Producer notify: event set by Thread-41\n",
            "Produce notify: event cleared by Thread-41 \n",
            "\n",
            "\n",
            "consumer notify: 134 popped from listby Thread-42\n",
            "\n",
            "Producer notify: item N° 61 appended to list by Thread-41\n",
            "Producer notify: event set by Thread-41\n",
            "Produce notify: event cleared by Thread-41 \n",
            "\n",
            "\n",
            "consumer notify: 61 popped from listby Thread-42\n",
            "\n"
          ]
        }
      ]
    },
    {
      "cell_type": "markdown",
      "metadata": {
        "id": "r0AotuUkOCy2"
      },
      "source": [
        "**Using the with statement**"
      ]
    },
    {
      "cell_type": "markdown",
      "metadata": {
        "id": "LHohhqx0V1Iw"
      },
      "source": [
        "Использование выражение with позволяет упростить работу с примитивами синхронизации. Вместо того, чтобы напрямую указывать захват и освобождение ресурса через конструкцию try: .. finally: и методы .acquire() и .release(), использование выражения with берёт всю работу на себя."
      ]
    },
    {
      "cell_type": "code",
      "metadata": {
        "id": "X7fDiIeWP9T8",
        "outputId": "c15df942-e9ce-4dcc-aaf3-d07cbbca3b7a",
        "colab": {
          "base_uri": "https://localhost:8080/"
        }
      },
      "source": [
        "import threading\n",
        "import logging\n",
        "\n",
        "logging.basicConfig(level=logging.DEBUG, format='(%(threadName)-10s) %(message)s',)\n",
        "\n",
        "def threading_with(statement):\n",
        "  with statement: \n",
        "    logging.debug('%s acquired via with' %statement)\n",
        "\n",
        "def threading_not_with(statement):\n",
        "  statement.acquire()\n",
        "  try:\n",
        "    logging.debug('%s acquired directly' %statement)\n",
        "  finally:\n",
        "    statement.release()\n",
        "\n",
        "\n",
        "lock = threading.Lock()\n",
        "rlock = threading.RLock()\n",
        "condition = threading.Condition()\n",
        "mutex = threading.Semaphore(1)\n",
        "threading_synchronization_list = [lock, rlock, condition, mutex]\n",
        "\n",
        "for statement in threading_synchronization_list: \n",
        "  t1 = threading.Thread(target=threading_with, args=(statement,))\n",
        "  t2 = threading.Thread(target=threading_not_with, args=(statement,))\n",
        "\n",
        "  t1.start()\n",
        "  t2.start()\n",
        "\n",
        "  t1.join()\n",
        "  t2.join()  "
      ],
      "execution_count": 19,
      "outputs": [
        {
          "output_type": "stream",
          "name": "stderr",
          "text": [
            "(Thread-43 ) <locked _thread.lock object at 0x7f94f2c9f0c0> acquired via with\n",
            "(Thread-44 ) <locked _thread.lock object at 0x7f94f2c9f0c0> acquired directly\n",
            "(Thread-45 ) <locked _thread.RLock object owner=140277585245952 count=1 at 0x7f94f2c9f900> acquired via with\n",
            "(Thread-46 ) <locked _thread.RLock object owner=140277696628480 count=1 at 0x7f94f2c9f900> acquired directly\n",
            "(Thread-47 ) <Condition(<locked _thread.RLock object owner=140277696628480 count=1 at 0x7f94f2c9f990>, 0)> acquired via with\n",
            "(Thread-48 ) <Condition(<locked _thread.RLock object owner=140277585245952 count=1 at 0x7f94f2c9f990>, 0)> acquired directly\n",
            "(Thread-49 ) <threading.Semaphore object at 0x7f94f1428f90> acquired via with\n",
            "(Thread-50 ) <threading.Semaphore object at 0x7f94f1428f90> acquired directly\n"
          ]
        }
      ]
    },
    {
      "cell_type": "markdown",
      "metadata": {
        "id": "vcYctCiHWj2-"
      },
      "source": [
        "**Thread communication using a queue**"
      ]
    },
    {
      "cell_type": "markdown",
      "metadata": {
        "id": "-GBOp76yAdMJ"
      },
      "source": [
        "Примитив синхронизации Queue позволяет получить доступ к общим ресурсам, добавля их в общую очередь с помощью метода .put(), а затем получать их из общей очереди с помощью последовательных вызовов методов .get() и .task_done()."
      ]
    },
    {
      "cell_type": "markdown",
      "metadata": {
        "id": "BujFIjlqjiEe"
      },
      "source": [
        "В примере из книги класс Consumer работал бескончено из-за условия цикла while true. В пример было добавлено условие выхода из цикла.\n",
        "\n",
        "Условие выхода было таковым, что если очередь пуста, то потоки с классом Consumer должны завершить свою работу. Путём добавления в классе Consumer паузы, класс Producer мог добавить несколько значений в очередь, после чего эти значения могли быть взяты из очереди классом Consumer. После того, как очередь становится пустой, потоки Consumer завершают свою работу. "
      ]
    },
    {
      "cell_type": "code",
      "metadata": {
        "id": "AVj6tJv5WmHR",
        "outputId": "ff048239-3caa-4db3-aeef-7e7cb94c988e",
        "colab": {
          "base_uri": "https://localhost:8080/"
        }
      },
      "source": [
        "from threading import Thread, Event\n",
        "from queue import Queue\n",
        "import time\n",
        "import random\n",
        "\n",
        "class producer(Thread): \n",
        "  def __init__(self, queue):\n",
        "    Thread.__init__(self)\n",
        "    self.queue = queue\n",
        "\n",
        "  def run(self):\n",
        "    for i in range(10):\n",
        "      item = random.randint(0, 256)\n",
        "      self.queue.put(item)\n",
        "      print ('Producer notify: item N°%d appended to queue by %s' % (item, self.name))\n",
        "      print(list(self.queue.queue),\"\\n\")\n",
        "      time.sleep(1)\n",
        "\n",
        "class consumer(Thread):\n",
        "  def __init__(self, queue):\n",
        "    Thread.__init__(self)\n",
        "    self.queue = queue\n",
        "\n",
        "  def run(self):\n",
        "    while(True):\n",
        "      time.sleep(5)\n",
        "      if self.queue.empty():\n",
        "        print ('Exiting...  %s\\n' % (self.name))\n",
        "        break\n",
        "      item = self.queue.get()\n",
        "      print('\\nConsumer notify : %d popped from queue by %s' % (item, self.name))\n",
        "      print(list(self.queue.queue),\"\\n\")\n",
        "      self.queue.task_done()\n",
        "\n",
        "\n",
        "queue = Queue()\n",
        "\n",
        "t1 = producer(queue)\n",
        "t2 = consumer(queue)\n",
        "t3 = consumer(queue)\n",
        "t4 = consumer(queue)\n",
        "\n",
        "\n",
        "t1.start()\n",
        "t2.start()\n",
        "t3.start()\n",
        "t4.start()\n",
        "\n",
        "t1.join()\n",
        "t2.join()\n",
        "t3.join()\n",
        "t4.join()"
      ],
      "execution_count": 12,
      "outputs": [
        {
          "output_type": "stream",
          "name": "stdout",
          "text": [
            "Producer notify: item N°114 appended to queue by Thread-55\n",
            "[114] \n",
            "\n",
            "Producer notify: item N°109 appended to queue by Thread-55\n",
            "[114, 109] \n",
            "\n",
            "Producer notify: item N°118 appended to queue by Thread-55\n",
            "[114, 109, 118] \n",
            "\n",
            "Producer notify: item N°106 appended to queue by Thread-55\n",
            "[114, 109, 118, 106] \n",
            "\n",
            "Producer notify: item N°200 appended to queue by Thread-55\n",
            "[114, 109, 118, 106, 200] \n",
            "\n",
            "\n",
            "Consumer notify : 114 popped from queue by Thread-56\n",
            "[109, 118, 106, 200] \n",
            "\n",
            "\n",
            "Consumer notify : 109 popped from queue by Thread-57\n",
            "[118, 106, 200] \n",
            "\n",
            "\n",
            "Consumer notify : 118 popped from queue by Thread-58\n",
            "[106, 200] \n",
            "\n",
            "Producer notify: item N°59 appended to queue by Thread-55\n",
            "[106, 200, 59] \n",
            "\n",
            "Producer notify: item N°123 appended to queue by Thread-55\n",
            "[106, 200, 59, 123] \n",
            "\n",
            "Producer notify: item N°121 appended to queue by Thread-55\n",
            "[106, 200, 59, 123, 121] \n",
            "\n",
            "Producer notify: item N°174 appended to queue by Thread-55\n",
            "[106, 200, 59, 123, 121, 174] \n",
            "\n",
            "Producer notify: item N°3 appended to queue by Thread-55\n",
            "[106, 200, 59, 123, 121, 174, 3] \n",
            "\n",
            "\n",
            "Consumer notify : 106 popped from queue by Thread-56\n",
            "[200, 59, 123, 121, 174, 3] \n",
            "\n",
            "\n",
            "Consumer notify : 200 popped from queue by Thread-57\n",
            "[59, 123, 121, 174, 3] \n",
            "\n",
            "\n",
            "Consumer notify : 59 popped from queue by Thread-58\n",
            "[123, 121, 174, 3] \n",
            "\n",
            "\n",
            "Consumer notify : 123 popped from queue by Thread-56\n",
            "[121, 174, 3] \n",
            "\n",
            "\n",
            "Consumer notify : 121 popped from queue by Thread-58\n",
            "[174, 3] \n",
            "\n",
            "\n",
            "Consumer notify : 174 popped from queue by Thread-57\n",
            "[3] \n",
            "\n",
            "\n",
            "Consumer notify : 3 popped from queue by Thread-56\n",
            "[] Exiting...  Thread-57\n",
            "\n",
            "\n",
            "\n",
            "Exiting...  Thread-58\n",
            "\n",
            "Exiting...  Thread-56\n",
            "\n"
          ]
        }
      ]
    },
    {
      "cell_type": "markdown",
      "metadata": {
        "id": "-gfGf0R1loEv"
      },
      "source": [
        "**Evaluating the performance of multithread\n",
        "applications**"
      ]
    },
    {
      "cell_type": "code",
      "metadata": {
        "id": "Ua0YFR3AtQ7I"
      },
      "source": [
        "from threading import Thread\n",
        "import sys\n",
        "from timeit import Timer\n",
        "\n",
        "class threads_object(Thread):\n",
        "    def run(self):\n",
        "      function_to_run()\n",
        "\n",
        "class nothreads_object(object):\n",
        "    def run(self):\n",
        "      function_to_run()\n",
        "\n",
        "def non_threaded(num_iter):\n",
        "    funcs = []\n",
        "    for i in range(int(num_iter)):\n",
        "      funcs.append(nothreads_object())\n",
        "    for i in funcs:\n",
        "      i.run()\n",
        "\n",
        "def threaded(num_threads):\n",
        "    funcs = []\n",
        "    for i in range(int(num_threads)):\n",
        "      funcs.append(threads_object())\n",
        "    for i in funcs:\n",
        "      i.start()\n",
        "    for i in funcs:\n",
        "      i.join()\n",
        "\n",
        "def show_results(func_name, results):\n",
        "    print('{}-23s {:4.6f} second'.format(func_name, results))\n",
        "\n",
        "def threads_test():\n",
        "  for i in num_threads:\n",
        "    t = Timer(\"non_threaded({})\".format(i), \"from __main__ import non_threaded\")\n",
        "    best_result =min(t.repeat(repeat=repeat, number=number))\n",
        "    show_results(\"non_threaded ({} iters)\".format(i), best_result)\n",
        "    t = Timer(\"threaded({})\".format(i), \"from __main__ import threaded\")\n",
        "    best_result = min(t.repeat(repeat=repeat, number=number))\n",
        "    show_results(\"threaded ({} threads)\".format(i), best_result) \n",
        "\n",
        "  print('Iterations complete \\n') \n",
        " \n",
        "\n",
        "function_to_run = function_to_run\n",
        "repeat = 100\n",
        "number = 1\n",
        "num_threads = [ 1, 2, 4, 8]\n",
        "\n"
      ],
      "execution_count": 42,
      "outputs": []
    },
    {
      "cell_type": "code",
      "metadata": {
        "id": "z-YC2ye9tqpu",
        "outputId": "c200089b-0a6f-422d-af59-4210f7abe039",
        "colab": {
          "base_uri": "https://localhost:8080/"
        }
      },
      "source": [
        "# Test 1\n",
        "def function_to_run():\n",
        "    pass\n",
        "\n",
        "threads_test()\n"
      ],
      "execution_count": 51,
      "outputs": [
        {
          "output_type": "stream",
          "name": "stdout",
          "text": [
            "non_threaded (1 iters)-23s 0.000001 second\n",
            "threaded (1 threads)-23s 0.000071 second\n",
            "non_threaded (2 iters)-23s 0.000001 second\n",
            "threaded (2 threads)-23s 0.000132 second\n",
            "non_threaded (4 iters)-23s 0.000002 second\n",
            "threaded (4 threads)-23s 0.000277 second\n",
            "non_threaded (8 iters)-23s 0.000005 second\n",
            "threaded (8 threads)-23s 0.000501 second\n",
            "Iterations complete \n",
            "\n"
          ]
        }
      ]
    },
    {
      "cell_type": "code",
      "metadata": {
        "id": "dIVfE7-pzd8S",
        "outputId": "cf0483ab-a798-4582-ffa3-8d6f217b9ac3",
        "colab": {
          "base_uri": "https://localhost:8080/"
        }
      },
      "source": [
        "# Test 2\n",
        "def function_to_run():\n",
        "    a, b = 0, 1\n",
        "    for i in range(10000):\n",
        "        a, b = b, a + b\n",
        "        \n",
        "threads_test()"
      ],
      "execution_count": 52,
      "outputs": [
        {
          "output_type": "stream",
          "name": "stdout",
          "text": [
            "non_threaded (1 iters)-23s 0.001723 second\n",
            "threaded (1 threads)-23s 0.001846 second\n",
            "non_threaded (2 iters)-23s 0.003528 second\n",
            "threaded (2 threads)-23s 0.003660 second\n",
            "non_threaded (4 iters)-23s 0.007227 second\n",
            "threaded (4 threads)-23s 0.007526 second\n",
            "non_threaded (8 iters)-23s 0.014417 second\n",
            "threaded (8 threads)-23s 0.015523 second\n",
            "Iterations complete \n",
            "\n"
          ]
        }
      ]
    },
    {
      "cell_type": "code",
      "metadata": {
        "id": "m6GBVGn90ENB",
        "outputId": "466c7b87-d021-4c9b-ffd3-e4c2ae4094ee",
        "colab": {
          "base_uri": "https://localhost:8080/"
        }
      },
      "source": [
        "# Test 3\n",
        "\n",
        "def function_to_run():\n",
        "    fh=open(\"./Evgeniy_Onegin.pdf\",\"rb\")\n",
        "    size = 1024\n",
        "    for i in range(1000):\n",
        "       fh.read(size)\n",
        "\n",
        "threads_test()"
      ],
      "execution_count": 53,
      "outputs": [
        {
          "output_type": "stream",
          "name": "stdout",
          "text": [
            "non_threaded (1 iters)-23s 0.000407 second\n",
            "threaded (1 threads)-23s 0.000566 second\n",
            "non_threaded (2 iters)-23s 0.000809 second\n",
            "threaded (2 threads)-23s 0.001207 second\n",
            "non_threaded (4 iters)-23s 0.001620 second\n",
            "threaded (4 threads)-23s 0.002388 second\n",
            "non_threaded (8 iters)-23s 0.003371 second\n",
            "threaded (8 threads)-23s 0.010345 second\n",
            "Iterations complete \n",
            "\n"
          ]
        }
      ]
    },
    {
      "cell_type": "code",
      "metadata": {
        "id": "VIAKT7amtxkv",
        "outputId": "13e0f3b3-5b5e-42ff-ffff-5efd6a8f7db5",
        "colab": {
          "base_uri": "https://localhost:8080/"
        }
      },
      "source": [
        "def function_to_run():\n",
        "    import urllib.request\n",
        "    for i in range(10):\n",
        "        with urllib.request.urlopen(\"https://en.wikipedia.org/wiki/Main_Page\")as f:\n",
        "            f.read(1024)\n",
        "\n",
        "threads_test()"
      ],
      "execution_count": 62,
      "outputs": [
        {
          "output_type": "stream",
          "name": "stdout",
          "text": [
            "non_threaded (1 iters)  0.403459 seconds\n",
            "threaded (1 threads)    0.406172 seconds\n",
            "non_threaded (2 iters)  0.811953 seconds\n",
            "threaded (2 threads)    0.409693 seconds\n",
            "non_threaded (4 iters)  1.634527 seconds\n",
            "threaded (4 threads)    0.427172 seconds\n",
            "non_threaded (8 iters)  3.285709 seconds\n",
            "threaded (8 threads)    0.426493 seconds\n",
            "Iterations complete \n",
            "\n"
          ]
        }
      ]
    },
    {
      "cell_type": "markdown",
      "metadata": {
        "id": "zJK81mhCBKS2"
      },
      "source": [
        "Заметную прибавку к производительности можно увидеть только лишь в тесте 4.\n",
        "Это связано с тем, что выполняются операции ввода-вывода и глобальная блокировка интерпретатора(GIL) освобождается, таким образом многопоточное выполнение становится быстрее, чем однопоточное выполнение."
      ]
    },
    {
      "cell_type": "markdown",
      "metadata": {
        "id": "kgn2bx8r2Wpw"
      },
      "source": [
        "**Выводы**"
      ]
    },
    {
      "cell_type": "markdown",
      "metadata": {
        "id": "SN34wK3r2Wj1"
      },
      "source": [
        "В данной лабораторной работе были рассмотрено использование многопоточного программирования на языке Python, как использовать основные примитивы синхронизации данных, а также произведедно тестирование производительности различных многопоточных программ с последующим сравнением их результата без использования механизма многопоточности.   "
      ]
    }
  ]
}