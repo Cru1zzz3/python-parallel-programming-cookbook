{
  "nbformat": 4,
  "nbformat_minor": 0,
  "metadata": {
    "colab": {
      "name": "Python Parallel Programming (Lab 2) - Udartsev Stanislav.ipynb",
      "provenance": [],
      "collapsed_sections": [],
      "authorship_tag": "ABX9TyPgUtxk70BYfEZTH50PyfC6",
      "include_colab_link": true
    },
    "kernelspec": {
      "name": "python3",
      "display_name": "Python 3"
    },
    "language_info": {
      "name": "python"
    }
  },
  "cells": [
    {
      "cell_type": "markdown",
      "metadata": {
        "id": "view-in-github",
        "colab_type": "text"
      },
      "source": [
        "<a href=\"https://colab.research.google.com/github/Cru1zzz3/python-parallel-programming-cookbook/blob/main/Python_Parallel_Programming_(Lab_2)_Udartsev_Stanislav.ipynb\" target=\"_parent\"><img src=\"https://colab.research.google.com/assets/colab-badge.svg\" alt=\"Open In Colab\"/></a>"
      ]
    },
    {
      "cell_type": "markdown",
      "metadata": {
        "id": "QcKxxCWQ0vkr"
      },
      "source": [
        "**How to define a thread**"
      ]
    },
    {
      "cell_type": "code",
      "metadata": {
        "id": "kLiVfdpc05dY"
      },
      "source": [
        "import threading"
      ],
      "execution_count": null,
      "outputs": []
    },
    {
      "cell_type": "code",
      "metadata": {
        "id": "2GlAC3Fuzt71"
      },
      "source": [
        "def function(i):\n",
        "  print(\"function called by thread %i\\n\" %i)\n",
        "  return"
      ],
      "execution_count": null,
      "outputs": []
    },
    {
      "cell_type": "code",
      "metadata": {
        "colab": {
          "base_uri": "https://localhost:8080/"
        },
        "id": "Bougs3z41U-T",
        "outputId": "6559f343-de22-41f1-af77-a005364f57d0"
      },
      "source": [
        "threads = []\n",
        "for i in range(5):\n",
        "  t = threading.Thread(target=function, args=(i,))\n",
        "  threads.append(t)\n",
        "  t.start()\n",
        "  t.join()"
      ],
      "execution_count": null,
      "outputs": [
        {
          "output_type": "stream",
          "name": "stdout",
          "text": [
            "function called by thread 0\n",
            "\n",
            "function called by thread 1\n",
            "\n",
            "function called by thread 2\n",
            "\n",
            "function called by thread 3\n",
            "\n",
            "function called by thread 4\n",
            "\n"
          ]
        }
      ]
    },
    {
      "cell_type": "markdown",
      "metadata": {
        "id": "avDbtBnE2Wxw"
      },
      "source": [
        "**How to determine the current thread**"
      ]
    },
    {
      "cell_type": "code",
      "metadata": {
        "id": "t9VLl6kJ2l_P"
      },
      "source": [
        ""
      ],
      "execution_count": null,
      "outputs": []
    },
    {
      "cell_type": "code",
      "metadata": {
        "colab": {
          "base_uri": "https://localhost:8080/"
        },
        "id": "HE5nbm0d5R6v",
        "outputId": "d34e9eeb-ef0f-453e-dbfe-c78ef1c151ba"
      },
      "source": [
        "import threading\n",
        "import time\n",
        "\n",
        "def first_function():\n",
        "  print(threading.currentThread().getName()+ str(' is Starting \\n'))\n",
        "  time.sleep(2)\n",
        "  print(threading.currentThread().getName() + str(' is Exiting \\n'))\n",
        "  return\n",
        "\n",
        "def second_function():\n",
        "  print(threading.currentThread().getName() + str(' is Starting \\n'))\n",
        "  time.sleep(2)\n",
        "  print(threading.currentThread().getName() + str(' is Exiting \\n'))\n",
        "  return\n",
        "\n",
        "def third_function():\n",
        "  print(threading.currentThread().getName() + str('is Staring \\n'))\n",
        "  time.sleep(2)\n",
        "  print(threading.currentThread().getName() + str('is Exiting \\n'))\n",
        "  return\n",
        "\n",
        "t1 = threading.Thread(name='first_function', target=first_function)\n",
        "t2 = threading.Thread(name='second_function', target=second_function)\n",
        "t3 = threading.Thread(name='third_function', target=third_function)\n",
        "\n",
        "t1.start()\n",
        "t2.start()\n",
        "t3.start()\n",
        "\n",
        "# Т.к в коллабе при завершении основного потока закрываются остальные потоки не дожидаясь завершения,\n",
        "# то добавим ожидание остальныех потоков с помощью метода .join(), чтобы получить ожидаемый вывод\n",
        "t1.join() \n",
        "t2.join()\n",
        "t3.join()"
      ],
      "execution_count": null,
      "outputs": [
        {
          "output_type": "stream",
          "name": "stdout",
          "text": [
            "first_function is Starting \n",
            "\n",
            "second_function is Starting \n",
            "\n",
            "third_functionis Staring \n",
            "\n",
            "second_function is Exiting \n",
            "\n",
            "third_functionis Exiting \n",
            "\n",
            "first_function is Exiting \n",
            "\n"
          ]
        }
      ]
    },
    {
      "cell_type": "markdown",
      "metadata": {
        "id": "5ydKS5oi7dW_"
      },
      "source": [
        "**How to use a thread in a subclass**"
      ]
    },
    {
      "cell_type": "code",
      "metadata": {
        "id": "v84zDMKk7dN3"
      },
      "source": [
        "import threading\n",
        "import time\n",
        "\n",
        "exitFlag = 0\n",
        "\n",
        "class myThread (threading.Thread):\n",
        "  def __init__(self, threadID, name, counter):\n",
        "    threading.Thread.__init__(self)\n",
        "    self.threadID = threadID\n",
        "    self.name = name\n",
        "    self.counter = counter\n",
        "\n",
        "  def run(self):\n",
        "    print(\"Starting \" + self.name)\n",
        "    print_time(self.name, self.counter, 5)\n",
        "    print (\"Exiting \" + self.name)"
      ],
      "execution_count": null,
      "outputs": []
    },
    {
      "cell_type": "code",
      "metadata": {
        "id": "Q5R6D72U8Kou"
      },
      "source": [
        "def print_time(threadName, delay, counter):\n",
        "  while counter:\n",
        "    if exitFlag: \n",
        "      thread.exit()\n",
        "    time.sleep(delay)\n",
        "    print(\"%s: %s\" %(threadName, time.ctime(time.time())))\n",
        "    counter -= 1"
      ],
      "execution_count": null,
      "outputs": []
    },
    {
      "cell_type": "code",
      "metadata": {
        "colab": {
          "base_uri": "https://localhost:8080/"
        },
        "id": "GEIR5jym8gm2",
        "outputId": "28a37a06-8170-409e-a533-c0a23c52c294"
      },
      "source": [
        "thread1 = myThread(1, \"Thread-1\", 1)\n",
        "thread2 = myThread(2, \"Thread-2\", 2)\n",
        "\n",
        "thread1.start()\n",
        "thread2.start()\n",
        "\n",
        "thread1.join()\n",
        "thread2.join()\n",
        "print(\"Exiting Main Thread\")"
      ],
      "execution_count": null,
      "outputs": [
        {
          "output_type": "stream",
          "name": "stdout",
          "text": [
            "Starting Thread-1\n",
            "Starting Thread-2\n",
            "Thread-1: Mon Nov 15 18:55:24 2021\n",
            "Thread-1: Mon Nov 15 18:55:25 2021\n",
            "Thread-2: Mon Nov 15 18:55:25 2021\n",
            "Thread-1: Mon Nov 15 18:55:26 2021\n",
            "Thread-1: Mon Nov 15 18:55:27 2021\n",
            "Thread-2: Mon Nov 15 18:55:27 2021\n",
            "Thread-1: Mon Nov 15 18:55:28 2021\n",
            "Exiting Thread-1\n",
            "Thread-2: Mon Nov 15 18:55:29 2021\n",
            "Thread-2: Mon Nov 15 18:55:31 2021\n",
            "Thread-2: Mon Nov 15 18:55:33 2021\n",
            "Exiting Thread-2\n",
            "Exiting Main Thread\n"
          ]
        }
      ]
    },
    {
      "cell_type": "markdown",
      "metadata": {
        "id": "ANKzSjRb-FS8"
      },
      "source": [
        "**Thread synchronization with Lock and\n",
        "RLock**"
      ]
    },
    {
      "cell_type": "code",
      "metadata": {
        "id": "vHYC75t6-QDU"
      },
      "source": [
        "import threading\n",
        "\n",
        "shared_resource_with_lock = 0\n",
        "shared_resource_with_no_lock = 0\n",
        "# количество итераций увеличено, по сравнению с ориганиалом кода в учебнике, поскольку при малом количестве итераций\n",
        "# периодически выдавался одинаковый результат при наличии и отсутствии блокировок примитива синхронизации.\n",
        "COUNT = 300000\n",
        "shared_resource_lock = threading.Lock()"
      ],
      "execution_count": 14,
      "outputs": []
    },
    {
      "cell_type": "code",
      "metadata": {
        "id": "NWQILAQEyXu9"
      },
      "source": [
        "def increment_with_lock():\n",
        "    global shared_resource_with_lock\n",
        "    for i in range(COUNT):\n",
        "        shared_resource_lock.acquire()\n",
        "        shared_resource_with_lock += 1\n",
        "        shared_resource_lock.release()"
      ],
      "execution_count": 9,
      "outputs": []
    },
    {
      "cell_type": "code",
      "metadata": {
        "id": "b2PblD7hyaPc"
      },
      "source": [
        "def decrement_with_lock():\n",
        "    global shared_resource_with_lock\n",
        "    for i in range(COUNT):\n",
        "        shared_resource_lock.acquire()\n",
        "        shared_resource_with_lock -= 1\n",
        "        shared_resource_lock.release()"
      ],
      "execution_count": 10,
      "outputs": []
    },
    {
      "cell_type": "code",
      "metadata": {
        "id": "A7qg1azEybbB"
      },
      "source": [
        "def increment_without_lock():\n",
        "    global shared_resource_with_no_lock\n",
        "    for i in range(COUNT):\n",
        "        shared_resource_with_no_lock += 1\n"
      ],
      "execution_count": 11,
      "outputs": []
    },
    {
      "cell_type": "code",
      "metadata": {
        "id": "dLKq1OjcycPa"
      },
      "source": [
        "def decrement_without_lock():\n",
        "    global shared_resource_with_no_lock\n",
        "    for i in range(COUNT):\n",
        "        shared_resource_with_no_lock -= 1"
      ],
      "execution_count": 12,
      "outputs": []
    },
    {
      "cell_type": "code",
      "metadata": {
        "colab": {
          "base_uri": "https://localhost:8080/"
        },
        "id": "78WDnJ4QyeM9",
        "outputId": "85a01633-071a-4ae5-c339-349ec2e3aee2"
      },
      "source": [
        "t1 = threading.Thread(target=increment_with_lock)\n",
        "t2 = threading.Thread(target=decrement_with_lock)\n",
        "t3 = threading.Thread(target=increment_without_lock)\n",
        "t4 = threading.Thread(target=decrement_without_lock)\n",
        "\n",
        "t1.start()\n",
        "t2.start()\n",
        "t3.start()\n",
        "t4.start()\n",
        "\n",
        "t1.join()\n",
        "t2.join()\n",
        "t3.join()\n",
        "t4.join()\n",
        "\n",
        "print(\"the value of shared variable with lock management is\", shared_resource_with_lock)\n",
        "print(\"the value of shared variable with race condition is\", shared_resource_with_no_lock)"
      ],
      "execution_count": 18,
      "outputs": [
        {
          "output_type": "stream",
          "name": "stdout",
          "text": [
            "the value of shared variable with lock management is 0\n",
            "the value of shared variable with race condition is -127867\n"
          ]
        }
      ]
    },
    {
      "cell_type": "markdown",
      "metadata": {
        "id": "uyvXTV28hjUT"
      },
      "source": [
        "**Thread synchronization with RLock**"
      ]
    },
    {
      "cell_type": "markdown",
      "metadata": {
        "id": "jJQ_zy-RX7OW"
      },
      "source": [
        "Главное отличие от Lock() заключается в том, что с помощью Lock() можно захватить ресурс только один раз. Его нельзя захватить снова, пока он не будет освобожден. (После того, как он был освобожден, он может быть повторно захвачен любым потоком).\n",
        "\n",
        "С другой стороны, RLock может быть захвачен несколько раз одним и тем же потоком. Чтобы разблокировать Rlock(), его нужно освободить одинаковое количество раз.\n",
        "\n",
        "Ещё одно отличие состоит в том, что ресурс захваченный Lock() может быть освобожден любым потоком, в то время как ресурс захваченный RLock() может быть освобожден только тем потоком, который ее захватил."
      ]
    },
    {
      "cell_type": "code",
      "metadata": {
        "id": "nWDy3WMwy9wd"
      },
      "source": [
        "import threading\n",
        "import time"
      ],
      "execution_count": 32,
      "outputs": []
    },
    {
      "cell_type": "code",
      "metadata": {
        "id": "MmmQarihzCSf"
      },
      "source": [
        "class Box(object):\n",
        "  lock = threading.RLock()\n",
        "  def __init__(self):\n",
        "    self.total_items = 0\n",
        "\n",
        "  def execute (self,n):\n",
        "    Box.lock.acquire()\n",
        "    self.total_items += n\n",
        "    Box.lock.release()\n",
        "  \n",
        "  def add(self):\n",
        "    Box.lock.acquire()\n",
        "    self.execute(1)\n",
        "    Box.lock.release()\n",
        "\n",
        "  def remove(self):\n",
        "    Box.lock.acquire()\n",
        "    self.execute(-1)\n",
        "    Box.lock.release()"
      ],
      "execution_count": 37,
      "outputs": []
    },
    {
      "cell_type": "code",
      "metadata": {
        "id": "w_F2542f1liE"
      },
      "source": [
        "def adder(box, items):\n",
        "  while items > 0:\n",
        "    print (\"adding 1 item in the box\\n\")\n",
        "    box.add()\n",
        "    time.sleep(5)\n",
        "    items -= 1"
      ],
      "execution_count": 38,
      "outputs": []
    },
    {
      "cell_type": "code",
      "metadata": {
        "id": "YcNhCOzA1xdd"
      },
      "source": [
        "def remover(box, items):\n",
        "  while items > 0:\n",
        "    print(\"removing 1 item in the box\")\n",
        "    box.remove()\n",
        "    time.sleep(5)\n",
        "    items -= 1"
      ],
      "execution_count": 39,
      "outputs": []
    },
    {
      "cell_type": "code",
      "metadata": {
        "colab": {
          "base_uri": "https://localhost:8080/"
        },
        "id": "As3y9ZIj1_9O",
        "outputId": "c3c9a9f2-2f4b-4a73-d053-7e88ba8c1baa"
      },
      "source": [
        "items = 5\n",
        "print(\"putting %s items in the box \" % items)\n",
        "box = Box()\n",
        "t1 = threading.Thread(target=adder, args=(box,items))\n",
        "t2 = threading.Thread(target=remover,args=(box,items))\n",
        "t1.start()\n",
        "t2.start()\n",
        "\n",
        "t1.join()\n",
        "t2.join()\n",
        "print(\"%s items still remain in the box \" % box.total_items)"
      ],
      "execution_count": 40,
      "outputs": [
        {
          "output_type": "stream",
          "name": "stdout",
          "text": [
            "putting 5 items in the box \n",
            "adding 1 item in the box\n",
            "\n",
            "removing 1 item in the box\n",
            "adding 1 item in the box\n",
            "\n",
            "removing 1 item in the box\n",
            "adding 1 item in the box\n",
            "\n",
            "removing 1 item in the box\n",
            "adding 1 item in the box\n",
            "\n",
            "removing 1 item in the box\n",
            "adding 1 item in the box\n",
            "\n",
            "removing 1 item in the box\n",
            "0 items still remain in the box \n"
          ]
        }
      ]
    },
    {
      "cell_type": "markdown",
      "metadata": {
        "id": "RxsqfZtBZeGQ"
      },
      "source": [
        "**Thread synchronization with semaphores**"
      ]
    },
    {
      "cell_type": "code",
      "metadata": {
        "id": "hb22B2aj0BdH"
      },
      "source": [
        "import threading\n",
        "import time \n",
        "import random\n",
        "\n",
        "semaphore = threading.Semaphore(0)\n"
      ],
      "execution_count": 16,
      "outputs": []
    },
    {
      "cell_type": "code",
      "metadata": {
        "id": "xnByUylua5uA"
      },
      "source": [
        "def producer():\n",
        "  global item\n",
        "  time.sleep(10)\n",
        "  item = random.randint(0,1000)\n",
        "  print(\"Producer notify : produced item number %s\" %item)\n",
        "  semaphore.release() # происходит увеличение значение семафора на 1"
      ],
      "execution_count": 17,
      "outputs": []
    },
    {
      "cell_type": "code",
      "metadata": {
        "id": "vWcr0zNCz9TK"
      },
      "source": [
        "def consumer():\n",
        "  print(\"consumer is waiting.\")\n",
        "  semaphore.acquire() # поток блокируется до тех пор, пока счётчик не будет увеличен \n",
        "  print(\"Consumer notify : consumed item number %s\" %item)"
      ],
      "execution_count": 18,
      "outputs": []
    },
    {
      "cell_type": "code",
      "metadata": {
        "colab": {
          "base_uri": "https://localhost:8080/"
        },
        "id": "gTTxqRpldCGQ",
        "outputId": "a0d52703-c0f2-4f32-c96c-95c58f3de108"
      },
      "source": [
        "for i in range(0,5):\n",
        "  t1 = threading.Thread(target=producer)\n",
        "  t2 = threading.Thread(target=consumer)\n",
        "  t1.start()\n",
        "  t2.start()\n",
        "  t1.join()\n",
        "  t2.join()\n",
        "print(\"program terminated\")"
      ],
      "execution_count": 20,
      "outputs": [
        {
          "output_type": "stream",
          "name": "stdout",
          "text": [
            "consumer is waiting.\n",
            "Producer notify : produced item number 919\n",
            "Consumer notify : consumed item number 919\n",
            "consumer is waiting.\n",
            "Producer notify : produced item number 29\n",
            "Consumer notify : consumed item number 29\n",
            "consumer is waiting.\n",
            "Producer notify : produced item number 594\n",
            "Consumer notify : consumed item number 594\n",
            "consumer is waiting.\n",
            "Producer notify : produced item number 111\n",
            "Consumer notify : consumed item number 111\n",
            "consumer is waiting.\n",
            "Producer notify : produced item number 135\n",
            "Consumer notify : consumed item number 135\n",
            "program terminated\n"
          ]
        }
      ]
    },
    {
      "cell_type": "markdown",
      "metadata": {
        "id": "rANJhkBR7p6T"
      },
      "source": [
        "**Thread synchronization with a condition**"
      ]
    },
    {
      "cell_type": "code",
      "metadata": {
        "colab": {
          "base_uri": "https://localhost:8080/"
        },
        "id": "PlD99-Pw89so",
        "outputId": "e5a241e2-37b5-4ce5-fcb2-c9013089dd47"
      },
      "source": [
        "from threading import Thread, Condition\n",
        "import time\n",
        "\n",
        "items = []\n",
        "condition = Condition()\n",
        "\n",
        "class consumer(Thread):\n",
        "  def __init(self):\n",
        "    Thread.__init__(self)\n",
        "\n",
        "  def consume(self):\n",
        "    global condition\n",
        "    global items\n",
        "\n",
        "    condition.acquire()\n",
        "    if len(items) == 0:\n",
        "      condition.wait()\n",
        "      print(\"Consumer notify: no item to consume\")\n",
        "    items.pop()\n",
        "    print(\"Consumer notify: consumed 1 item\")\n",
        "    print(\"Consumer notify: items to consume are \" + str(len(items)))\n",
        "    condition.notify()\n",
        "    condition.release()\n",
        "\n",
        "  def run(self):\n",
        "    for i in range(0,20):\n",
        "      time.sleep(10)\n",
        "      self.consume()\n",
        "\n",
        "class producer(Thread):\n",
        "  def __init__(self):\n",
        "    Thread.__init__(self)\n",
        "\n",
        "  def produce(self):\n",
        "    global condition\n",
        "    global items\n",
        "\n",
        "    condition.acquire()\n",
        "    if len(items) == 10:\n",
        "      condition.wait()\n",
        "      print(\"Producer notify: items producted are \" + str(len(items)))\n",
        "      print(\"Producer notify: stop the production!!\")\n",
        "    items.append(1)\n",
        "    print(\"Producer notify: total items producted \" + str(len(items)))\n",
        "    condition.notify()\n",
        "    condition.release()\n",
        "\n",
        "  def run(self):\n",
        "    for i in range(0,20):\n",
        "      time.sleep(5)\n",
        "      self.produce() \n",
        "\n",
        "producer = producer()\n",
        "consumer = consumer()\n",
        "\n",
        "producer.start()\n",
        "consumer.start()\n",
        "\n",
        "producer.join()\n",
        "consumer.join()\n",
        "\n",
        "\n"
      ],
      "execution_count": 1,
      "outputs": [
        {
          "output_type": "stream",
          "name": "stdout",
          "text": [
            "Producer notify: total items producted 1\n",
            "Consumer notify: consumed 1 item\n",
            "Consumer notify: items to consume are 0\n",
            "Producer notify: total items producted 1\n",
            "Producer notify: total items producted 2\n",
            "Consumer notify: consumed 1 item\n",
            "Consumer notify: items to consume are 1\n",
            "Producer notify: total items producted 2\n",
            "Producer notify: total items producted 3\n",
            "Consumer notify: consumed 1 item\n",
            "Consumer notify: items to consume are 2\n",
            "Producer notify: total items producted 3\n",
            "Producer notify: total items producted 4\n",
            "Consumer notify: consumed 1 item\n",
            "Consumer notify: items to consume are 3\n",
            "Producer notify: total items producted 4\n",
            "Producer notify: total items producted 5\n",
            "Consumer notify: consumed 1 item\n",
            "Consumer notify: items to consume are 4\n",
            "Producer notify: total items producted 5\n",
            "Producer notify: total items producted 6\n",
            "Consumer notify: consumed 1 item\n",
            "Consumer notify: items to consume are 5\n",
            "Producer notify: total items producted 6\n",
            "Producer notify: total items producted 7\n",
            "Consumer notify: consumed 1 item\n",
            "Consumer notify: items to consume are 6\n",
            "Producer notify: total items producted 7\n",
            "Producer notify: total items producted 8\n",
            "Consumer notify: consumed 1 item\n",
            "Consumer notify: items to consume are 7\n",
            "Producer notify: total items producted 8\n",
            "Producer notify: total items producted 9\n",
            "Consumer notify: consumed 1 item\n",
            "Consumer notify: items to consume are 8\n",
            "Producer notify: total items producted 9\n",
            "Producer notify: total items producted 10\n",
            "Consumer notify: consumed 1 item\n",
            "Consumer notify: items to consume are 9\n",
            "Producer notify: items producted are 9\n",
            "Producer notify: stop the production!!\n",
            "Producer notify: total items producted 10\n",
            "Consumer notify: consumed 1 item\n",
            "Consumer notify: items to consume are 9\n",
            "Consumer notify: consumed 1 item\n",
            "Consumer notify: items to consume are 8\n",
            "Consumer notify: consumed 1 item\n",
            "Consumer notify: items to consume are 7\n",
            "Consumer notify: consumed 1 item\n",
            "Consumer notify: items to consume are 6\n",
            "Consumer notify: consumed 1 item\n",
            "Consumer notify: items to consume are 5\n",
            "Consumer notify: consumed 1 item\n",
            "Consumer notify: items to consume are 4\n",
            "Consumer notify: consumed 1 item\n",
            "Consumer notify: items to consume are 3\n",
            "Consumer notify: consumed 1 item\n",
            "Consumer notify: items to consume are 2\n",
            "Consumer notify: consumed 1 item\n",
            "Consumer notify: items to consume are 1\n",
            "Consumer notify: consumed 1 item\n",
            "Consumer notify: items to consume are 0\n"
          ]
        }
      ]
    },
    {
      "cell_type": "markdown",
      "metadata": {
        "id": "IXolyQbwFuOi"
      },
      "source": [
        "**Thread synchronization with an event**"
      ]
    },
    {
      "cell_type": "code",
      "metadata": {
        "id": "0CRcveRyFuAf"
      },
      "source": [
        ""
      ],
      "execution_count": null,
      "outputs": []
    }
  ]
}