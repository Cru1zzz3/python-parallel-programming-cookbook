{
  "nbformat": 4,
  "nbformat_minor": 0,
  "metadata": {
    "colab": {
      "name": "Python Parallel Programming (Lab 2) - Udartsev Stanislav.ipynb",
      "provenance": [],
      "collapsed_sections": [],
      "authorship_tag": "ABX9TyOXcVQzkjG9xaLtAoAkaLuT",
      "include_colab_link": true
    },
    "kernelspec": {
      "name": "python3",
      "display_name": "Python 3"
    },
    "language_info": {
      "name": "python"
    }
  },
  "cells": [
    {
      "cell_type": "markdown",
      "metadata": {
        "id": "view-in-github",
        "colab_type": "text"
      },
      "source": [
        "<a href=\"https://colab.research.google.com/github/Cru1zzz3/python-parallel-programming-cookbook/blob/main/Python_Parallel_Programming_(Lab_2)_Udartsev_Stanislav.ipynb\" target=\"_parent\"><img src=\"https://colab.research.google.com/assets/colab-badge.svg\" alt=\"Open In Colab\"/></a>"
      ]
    },
    {
      "cell_type": "markdown",
      "metadata": {
        "id": "QcKxxCWQ0vkr"
      },
      "source": [
        "**How to define a thread**"
      ]
    },
    {
      "cell_type": "code",
      "metadata": {
        "id": "kLiVfdpc05dY"
      },
      "source": [
        "import threading"
      ],
      "execution_count": 7,
      "outputs": []
    },
    {
      "cell_type": "code",
      "metadata": {
        "id": "2GlAC3Fuzt71"
      },
      "source": [
        "def function(i):\n",
        "  print(\"function called by thread %i\\n\" %i)\n",
        "  return"
      ],
      "execution_count": 5,
      "outputs": []
    },
    {
      "cell_type": "code",
      "metadata": {
        "colab": {
          "base_uri": "https://localhost:8080/"
        },
        "id": "Bougs3z41U-T",
        "outputId": "6559f343-de22-41f1-af77-a005364f57d0"
      },
      "source": [
        "threads = []\n",
        "for i in range(5):\n",
        "  t = threading.Thread(target=function, args=(i,))\n",
        "  threads.append(t)\n",
        "  t.start()\n",
        "  t.join()"
      ],
      "execution_count": 10,
      "outputs": [
        {
          "output_type": "stream",
          "name": "stdout",
          "text": [
            "function called by thread 0\n",
            "\n",
            "function called by thread 1\n",
            "\n",
            "function called by thread 2\n",
            "\n",
            "function called by thread 3\n",
            "\n",
            "function called by thread 4\n",
            "\n"
          ]
        }
      ]
    },
    {
      "cell_type": "markdown",
      "metadata": {
        "id": "avDbtBnE2Wxw"
      },
      "source": [
        "**How to determine the current thread**"
      ]
    },
    {
      "cell_type": "code",
      "metadata": {
        "id": "t9VLl6kJ2l_P"
      },
      "source": [
        ""
      ],
      "execution_count": 38,
      "outputs": []
    },
    {
      "cell_type": "code",
      "metadata": {
        "colab": {
          "base_uri": "https://localhost:8080/"
        },
        "id": "HE5nbm0d5R6v",
        "outputId": "d34e9eeb-ef0f-453e-dbfe-c78ef1c151ba"
      },
      "source": [
        "import threading\n",
        "import time\n",
        "\n",
        "def first_function():\n",
        "  print(threading.currentThread().getName()+ str(' is Starting \\n'))\n",
        "  time.sleep(2)\n",
        "  print(threading.currentThread().getName() + str(' is Exiting \\n'))\n",
        "  return\n",
        "\n",
        "def second_function():\n",
        "  print(threading.currentThread().getName() + str(' is Starting \\n'))\n",
        "  time.sleep(2)\n",
        "  print(threading.currentThread().getName() + str(' is Exiting \\n'))\n",
        "  return\n",
        "\n",
        "def third_function():\n",
        "  print(threading.currentThread().getName() + str('is Staring \\n'))\n",
        "  time.sleep(2)\n",
        "  print(threading.currentThread().getName() + str('is Exiting \\n'))\n",
        "  return\n",
        "\n",
        "t1 = threading.Thread(name='first_function', target=first_function)\n",
        "t2 = threading.Thread(name='second_function', target=second_function)\n",
        "t3 = threading.Thread(name='third_function', target=third_function)\n",
        "\n",
        "t1.start()\n",
        "t2.start()\n",
        "t3.start()\n",
        "\n",
        "# Т.к в коллабе при завершении основного потока закрываются остальные потоки не дожидаясь завершения,\n",
        "# то добавим ожидание остальныех потоков с помощью метода .join(), чтобы получить ожидаемый вывод\n",
        "t1.join() \n",
        "t2.join()\n",
        "t3.join()"
      ],
      "execution_count": 44,
      "outputs": [
        {
          "output_type": "stream",
          "name": "stdout",
          "text": [
            "first_function is Starting \n",
            "\n",
            "second_function is Starting \n",
            "\n",
            "third_functionis Staring \n",
            "\n",
            "second_function is Exiting \n",
            "\n",
            "third_functionis Exiting \n",
            "\n",
            "first_function is Exiting \n",
            "\n"
          ]
        }
      ]
    },
    {
      "cell_type": "markdown",
      "metadata": {
        "id": "5ydKS5oi7dW_"
      },
      "source": [
        "**How to use a thread in a subclass**"
      ]
    },
    {
      "cell_type": "code",
      "metadata": {
        "id": "v84zDMKk7dN3"
      },
      "source": [
        "import threading\n",
        "import time\n",
        "\n",
        "exitFlag = 0\n",
        "\n",
        "class myThread (threading.Thread):\n",
        "  def __init__(self, threadID, name, counter):\n",
        "    threading.Thread.__init__(self)\n",
        "    self.threadID = threadID\n",
        "    self.name = name\n",
        "    self.counter = counter\n",
        "\n",
        "  def run(self):\n",
        "    print(\"Starting \" + self.name)\n",
        "    print_time(self.name, self.counter, 5)\n",
        "    print (\"Exiting \" + self.name)"
      ],
      "execution_count": 45,
      "outputs": []
    },
    {
      "cell_type": "code",
      "metadata": {
        "id": "Q5R6D72U8Kou"
      },
      "source": [
        "def print_time(threadName, delay, counter):\n",
        "  while counter:\n",
        "    if exitFlag: \n",
        "      thread.exit()\n",
        "    time.sleep(delay)\n",
        "    print(\"%s: %s\" %(threadName, time.ctime(time.time())))\n",
        "    counter -= 1"
      ],
      "execution_count": 49,
      "outputs": []
    },
    {
      "cell_type": "code",
      "metadata": {
        "colab": {
          "base_uri": "https://localhost:8080/"
        },
        "id": "GEIR5jym8gm2",
        "outputId": "28a37a06-8170-409e-a533-c0a23c52c294"
      },
      "source": [
        "thread1 = myThread(1, \"Thread-1\", 1)\n",
        "thread2 = myThread(2, \"Thread-2\", 2)\n",
        "\n",
        "thread1.start()\n",
        "thread2.start()\n",
        "\n",
        "thread1.join()\n",
        "thread2.join()\n",
        "print(\"Exiting Main Thread\")"
      ],
      "execution_count": 50,
      "outputs": [
        {
          "output_type": "stream",
          "name": "stdout",
          "text": [
            "Starting Thread-1\n",
            "Starting Thread-2\n",
            "Thread-1: Mon Nov 15 18:55:24 2021\n",
            "Thread-1: Mon Nov 15 18:55:25 2021\n",
            "Thread-2: Mon Nov 15 18:55:25 2021\n",
            "Thread-1: Mon Nov 15 18:55:26 2021\n",
            "Thread-1: Mon Nov 15 18:55:27 2021\n",
            "Thread-2: Mon Nov 15 18:55:27 2021\n",
            "Thread-1: Mon Nov 15 18:55:28 2021\n",
            "Exiting Thread-1\n",
            "Thread-2: Mon Nov 15 18:55:29 2021\n",
            "Thread-2: Mon Nov 15 18:55:31 2021\n",
            "Thread-2: Mon Nov 15 18:55:33 2021\n",
            "Exiting Thread-2\n",
            "Exiting Main Thread\n"
          ]
        }
      ]
    },
    {
      "cell_type": "markdown",
      "metadata": {
        "id": "ANKzSjRb-FS8"
      },
      "source": [
        "**Thread synchronization with Lock and\n",
        "RLock**"
      ]
    },
    {
      "cell_type": "code",
      "metadata": {
        "id": "vHYC75t6-QDU"
      },
      "source": [
        ""
      ],
      "execution_count": null,
      "outputs": []
    }
  ]
}