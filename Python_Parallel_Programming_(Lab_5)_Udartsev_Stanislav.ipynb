{
  "nbformat": 4,
  "nbformat_minor": 0,
  "metadata": {
    "colab": {
      "name": "Python Parallel Programming (Lab 5) - Udartsev Stanislav.ipynb",
      "provenance": [],
      "authorship_tag": "ABX9TyOZTChGTkFG9Fdm9GO7nCXD",
      "include_colab_link": true
    },
    "kernelspec": {
      "name": "python3",
      "display_name": "Python 3"
    },
    "language_info": {
      "name": "python"
    }
  },
  "cells": [
    {
      "cell_type": "markdown",
      "metadata": {
        "id": "view-in-github",
        "colab_type": "text"
      },
      "source": [
        "<a href=\"https://colab.research.google.com/github/Cru1zzz3/python-parallel-programming-cookbook/blob/main/Python_Parallel_Programming_(Lab_5)_Udartsev_Stanislav.ipynb\" target=\"_parent\"><img src=\"https://colab.research.google.com/assets/colab-badge.svg\" alt=\"Open In Colab\"/></a>"
      ]
    },
    {
      "cell_type": "markdown",
      "metadata": {
        "id": "5mpXHQRQBqxl"
      },
      "source": [
        "**Using Celery to distribute tasks**"
      ]
    },
    {
      "cell_type": "code",
      "metadata": {
        "id": "SrFTW8hsBm7G",
        "outputId": "10a60608-991f-4a82-d8a2-8a242d734e75",
        "colab": {
          "base_uri": "https://localhost:8080/",
          "height": 0
        }
      },
      "source": [
        "!pip install  celery"
      ],
      "execution_count": 2,
      "outputs": [
        {
          "output_type": "stream",
          "name": "stdout",
          "text": [
            "Collecting celery\n",
            "  Downloading celery-5.2.1-py3-none-any.whl (404 kB)\n",
            "\u001b[K     |████████████████████████████████| 404 kB 5.0 MB/s \n",
            "\u001b[?25hRequirement already satisfied: pytz>0.dev.0 in /usr/local/lib/python3.7/dist-packages (from celery) (2018.9)\n",
            "Collecting click<9.0,>=8.0\n",
            "  Downloading click-8.0.3-py3-none-any.whl (97 kB)\n",
            "\u001b[K     |████████████████████████████████| 97 kB 4.6 MB/s \n",
            "\u001b[?25hCollecting click-plugins>=1.1.1\n",
            "  Downloading click_plugins-1.1.1-py2.py3-none-any.whl (7.5 kB)\n",
            "Requirement already satisfied: setuptools in /usr/local/lib/python3.7/dist-packages (from celery) (57.4.0)\n",
            "Collecting billiard<4.0,>=3.6.4.0\n",
            "  Downloading billiard-3.6.4.0-py3-none-any.whl (89 kB)\n",
            "\u001b[K     |████████████████████████████████| 89 kB 3.7 MB/s \n",
            "\u001b[?25hCollecting click-didyoumean>=0.0.3\n",
            "  Downloading click_didyoumean-0.3.0-py3-none-any.whl (2.7 kB)\n",
            "Collecting click-repl>=0.2.0\n",
            "  Downloading click_repl-0.2.0-py3-none-any.whl (5.2 kB)\n",
            "Collecting kombu<6.0,>=5.2.2\n",
            "  Downloading kombu-5.2.2-py3-none-any.whl (188 kB)\n",
            "\u001b[K     |████████████████████████████████| 188 kB 55.4 MB/s \n",
            "\u001b[?25hCollecting vine<6.0,>=5.0.0\n",
            "  Downloading vine-5.0.0-py2.py3-none-any.whl (9.4 kB)\n",
            "Requirement already satisfied: importlib-metadata in /usr/local/lib/python3.7/dist-packages (from click<9.0,>=8.0->celery) (4.8.2)\n",
            "Requirement already satisfied: six in /usr/local/lib/python3.7/dist-packages (from click-repl>=0.2.0->celery) (1.15.0)\n",
            "Requirement already satisfied: prompt-toolkit in /usr/local/lib/python3.7/dist-packages (from click-repl>=0.2.0->celery) (1.0.18)\n",
            "Requirement already satisfied: cached-property in /usr/local/lib/python3.7/dist-packages (from kombu<6.0,>=5.2.2->celery) (1.5.2)\n",
            "Collecting amqp<6.0.0,>=5.0.6\n",
            "  Downloading amqp-5.0.6-py3-none-any.whl (53 kB)\n",
            "\u001b[K     |████████████████████████████████| 53 kB 2.1 MB/s \n",
            "\u001b[?25hRequirement already satisfied: zipp>=0.5 in /usr/local/lib/python3.7/dist-packages (from importlib-metadata->click<9.0,>=8.0->celery) (3.6.0)\n",
            "Requirement already satisfied: typing-extensions>=3.6.4 in /usr/local/lib/python3.7/dist-packages (from importlib-metadata->click<9.0,>=8.0->celery) (3.10.0.2)\n",
            "Requirement already satisfied: wcwidth in /usr/local/lib/python3.7/dist-packages (from prompt-toolkit->click-repl>=0.2.0->celery) (0.2.5)\n",
            "Installing collected packages: vine, click, amqp, kombu, click-repl, click-plugins, click-didyoumean, billiard, celery\n",
            "  Attempting uninstall: click\n",
            "    Found existing installation: click 7.1.2\n",
            "    Uninstalling click-7.1.2:\n",
            "      Successfully uninstalled click-7.1.2\n",
            "\u001b[31mERROR: pip's dependency resolver does not currently take into account all the packages that are installed. This behaviour is the source of the following dependency conflicts.\n",
            "flask 1.1.4 requires click<8.0,>=5.1, but you have click 8.0.3 which is incompatible.\u001b[0m\n",
            "Successfully installed amqp-5.0.6 billiard-3.6.4.0 celery-5.2.1 click-8.0.3 click-didyoumean-0.3.0 click-plugins-1.1.1 click-repl-0.2.0 kombu-5.2.2 vine-5.0.0\n"
          ]
        }
      ]
    },
    {
      "cell_type": "code",
      "metadata": {
        "id": "FF2SosWu3fcW",
        "outputId": "f45bd701-3eeb-482a-dd3b-24438d09c77a",
        "colab": {
          "base_uri": "https://localhost:8080/",
          "height": 0
        }
      },
      "source": [
        "# !/usr/bin/sh\n",
        "!sudo apt-get install curl gnupg apt-transport-https -y\n",
        "\n",
        "!wget https://packages.erlang-solutions.com/ubuntu/erlang_solutions.asc\n",
        "\n",
        "!sudo apt-key add erlang_solutions.asc\n",
        "\n",
        "!apt update && apt install esl-erlang\n",
        "\n",
        "\n",
        "## Install rabbitmq-server and its dependencies\n",
        "!sudo apt-get install rabbitmq-server -y "
      ],
      "execution_count": 1,
      "outputs": [
        {
          "output_type": "stream",
          "name": "stdout",
          "text": [
            "Reading package lists... Done\n",
            "Building dependency tree       \n",
            "Reading state information... Done\n",
            "curl is already the newest version (7.58.0-2ubuntu3.16).\n",
            "gnupg is already the newest version (2.2.4-1ubuntu1.4).\n",
            "gnupg set to manually installed.\n",
            "The following NEW packages will be installed:\n",
            "  apt-transport-https\n",
            "0 upgraded, 1 newly installed, 0 to remove and 37 not upgraded.\n",
            "Need to get 4,348 B of archives.\n",
            "After this operation, 154 kB of additional disk space will be used.\n",
            "Get:1 http://archive.ubuntu.com/ubuntu bionic-updates/universe amd64 apt-transport-https all 1.6.14 [4,348 B]\n",
            "Fetched 4,348 B in 0s (20.0 kB/s)\n",
            "debconf: unable to initialize frontend: Dialog\n",
            "debconf: (No usable dialog-like program is installed, so the dialog based frontend cannot be used. at /usr/share/perl5/Debconf/FrontEnd/Dialog.pm line 76, <> line 1.)\n",
            "debconf: falling back to frontend: Readline\n",
            "debconf: unable to initialize frontend: Readline\n",
            "debconf: (This frontend requires a controlling tty.)\n",
            "debconf: falling back to frontend: Teletype\n",
            "dpkg-preconfigure: unable to re-open stdin: \n",
            "Selecting previously unselected package apt-transport-https.\n",
            "(Reading database ... 155222 files and directories currently installed.)\n",
            "Preparing to unpack .../apt-transport-https_1.6.14_all.deb ...\n",
            "Unpacking apt-transport-https (1.6.14) ...\n",
            "Setting up apt-transport-https (1.6.14) ...\n",
            "--2021-11-24 17:09:25--  https://packages.erlang-solutions.com/ubuntu/erlang_solutions.asc\n",
            "Resolving packages.erlang-solutions.com (packages.erlang-solutions.com)... 65.8.249.76, 65.8.249.117, 65.8.249.106, ...\n",
            "Connecting to packages.erlang-solutions.com (packages.erlang-solutions.com)|65.8.249.76|:443... connected.\n",
            "HTTP request sent, awaiting response... 200 OK\n",
            "Length: 3133 (3.1K) [text/plain]\n",
            "Saving to: ‘erlang_solutions.asc’\n",
            "\n",
            "erlang_solutions.as 100%[===================>]   3.06K  --.-KB/s    in 0s      \n",
            "\n",
            "2021-11-24 17:09:25 (136 MB/s) - ‘erlang_solutions.asc’ saved [3133/3133]\n",
            "\n",
            "OK\n",
            "Get:1 http://security.ubuntu.com/ubuntu bionic-security InRelease [88.7 kB]\n",
            "Get:2 https://cloud.r-project.org/bin/linux/ubuntu bionic-cran40/ InRelease [3,626 B]\n",
            "Ign:3 https://developer.download.nvidia.com/compute/cuda/repos/ubuntu1804/x86_64  InRelease\n",
            "Hit:4 http://archive.ubuntu.com/ubuntu bionic InRelease\n",
            "Get:5 http://ppa.launchpad.net/c2d4u.team/c2d4u4.0+/ubuntu bionic InRelease [15.9 kB]\n",
            "Ign:6 https://developer.download.nvidia.com/compute/machine-learning/repos/ubuntu1804/x86_64  InRelease\n",
            "Get:7 https://developer.download.nvidia.com/compute/cuda/repos/ubuntu1804/x86_64  Release [696 B]\n",
            "Hit:8 https://developer.download.nvidia.com/compute/machine-learning/repos/ubuntu1804/x86_64  Release\n",
            "Get:9 https://developer.download.nvidia.com/compute/cuda/repos/ubuntu1804/x86_64  Release.gpg [836 B]\n",
            "Get:10 http://archive.ubuntu.com/ubuntu bionic-updates InRelease [88.7 kB]\n",
            "Get:11 http://security.ubuntu.com/ubuntu bionic-security/main amd64 Packages [2,430 kB]\n",
            "Hit:12 http://ppa.launchpad.net/cran/libgit2/ubuntu bionic InRelease\n",
            "Get:13 http://archive.ubuntu.com/ubuntu bionic-backports InRelease [74.6 kB]\n",
            "Get:14 http://security.ubuntu.com/ubuntu bionic-security/universe amd64 Packages [1,442 kB]\n",
            "Hit:15 http://ppa.launchpad.net/deadsnakes/ppa/ubuntu bionic InRelease\n",
            "Hit:16 http://ppa.launchpad.net/graphics-drivers/ppa/ubuntu bionic InRelease\n",
            "Get:18 https://developer.download.nvidia.com/compute/cuda/repos/ubuntu1804/x86_64  Packages [828 kB]\n",
            "Get:19 http://ppa.launchpad.net/c2d4u.team/c2d4u4.0+/ubuntu bionic/main Sources [1,813 kB]\n",
            "Get:20 http://archive.ubuntu.com/ubuntu bionic-updates/universe amd64 Packages [2,223 kB]\n",
            "Get:21 http://ppa.launchpad.net/c2d4u.team/c2d4u4.0+/ubuntu bionic/main amd64 Packages [929 kB]\n",
            "Get:22 http://archive.ubuntu.com/ubuntu bionic-updates/main amd64 Packages [2,867 kB]\n",
            "Fetched 12.8 MB in 4s (3,587 kB/s)\n",
            "Reading package lists... Done\n",
            "Building dependency tree       \n",
            "Reading state information... Done\n",
            "39 packages can be upgraded. Run 'apt list --upgradable' to see them.\n",
            "Reading package lists... Done\n",
            "Building dependency tree       \n",
            "Reading state information... Done\n",
            "Package esl-erlang is not available, but is referred to by another package.\n",
            "This may mean that the package is missing, has been obsoleted, or\n",
            "is only available from another source\n",
            "\n",
            "E: Package 'esl-erlang' has no installation candidate\n",
            "Reading package lists... Done\n",
            "Building dependency tree       \n",
            "Reading state information... Done\n",
            "The following additional packages will be installed:\n",
            "  cron erlang-asn1 erlang-base erlang-corba erlang-crypto erlang-diameter\n",
            "  erlang-edoc erlang-eldap erlang-erl-docgen erlang-eunit erlang-ic\n",
            "  erlang-inets erlang-mnesia erlang-nox erlang-odbc erlang-os-mon\n",
            "  erlang-parsetools erlang-public-key erlang-runtime-tools erlang-snmp\n",
            "  erlang-ssh erlang-ssl erlang-syntax-tools erlang-tools erlang-xmerl libsctp1\n",
            "  logrotate socat\n",
            "Suggested packages:\n",
            "  anacron checksecurity exim4 | postfix | mail-transport-agent erlang\n",
            "  erlang-manpages erlang-doc xsltproc fop erlang-ic-java lksctp-tools\n",
            "  bsd-mailx | mailx\n",
            "The following NEW packages will be installed:\n",
            "  cron erlang-asn1 erlang-base erlang-corba erlang-crypto erlang-diameter\n",
            "  erlang-edoc erlang-eldap erlang-erl-docgen erlang-eunit erlang-ic\n",
            "  erlang-inets erlang-mnesia erlang-nox erlang-odbc erlang-os-mon\n",
            "  erlang-parsetools erlang-public-key erlang-runtime-tools erlang-snmp\n",
            "  erlang-ssh erlang-ssl erlang-syntax-tools erlang-tools erlang-xmerl libsctp1\n",
            "  logrotate rabbitmq-server socat\n",
            "0 upgraded, 29 newly installed, 0 to remove and 39 not upgraded.\n",
            "Need to get 24.8 MB of archives.\n",
            "After this operation, 41.3 MB of additional disk space will be used.\n",
            "Get:1 http://archive.ubuntu.com/ubuntu bionic/main amd64 cron amd64 3.0pl1-128.1ubuntu1 [68.8 kB]\n",
            "Get:2 http://archive.ubuntu.com/ubuntu bionic/main amd64 logrotate amd64 3.11.0-0.1ubuntu1 [41.8 kB]\n",
            "Get:3 http://archive.ubuntu.com/ubuntu bionic/main amd64 erlang-base amd64 1:20.2.2+dfsg-1ubuntu2 [7,323 kB]\n",
            "Get:4 http://archive.ubuntu.com/ubuntu bionic/main amd64 erlang-asn1 amd64 1:20.2.2+dfsg-1ubuntu2 [724 kB]\n",
            "Get:5 http://archive.ubuntu.com/ubuntu bionic/main amd64 erlang-mnesia amd64 1:20.2.2+dfsg-1ubuntu2 [724 kB]\n",
            "Get:6 http://archive.ubuntu.com/ubuntu bionic/main amd64 erlang-runtime-tools amd64 1:20.2.2+dfsg-1ubuntu2 [178 kB]\n",
            "Get:7 http://archive.ubuntu.com/ubuntu bionic/main amd64 erlang-crypto amd64 1:20.2.2+dfsg-1ubuntu2 [104 kB]\n",
            "Get:8 http://archive.ubuntu.com/ubuntu bionic/main amd64 erlang-public-key amd64 1:20.2.2+dfsg-1ubuntu2 [561 kB]\n",
            "Get:9 http://archive.ubuntu.com/ubuntu bionic/main amd64 erlang-ssl amd64 1:20.2.2+dfsg-1ubuntu2 [814 kB]\n",
            "Get:10 http://archive.ubuntu.com/ubuntu bionic/main amd64 erlang-inets amd64 1:20.2.2+dfsg-1ubuntu2 [711 kB]\n",
            "Get:11 http://archive.ubuntu.com/ubuntu bionic/main amd64 erlang-corba amd64 1:20.2.2+dfsg-1ubuntu2 [2,251 kB]\n",
            "Get:12 http://archive.ubuntu.com/ubuntu bionic/main amd64 erlang-syntax-tools amd64 1:20.2.2+dfsg-1ubuntu2 [345 kB]\n",
            "Get:13 http://archive.ubuntu.com/ubuntu bionic/main amd64 erlang-diameter amd64 1:20.2.2+dfsg-1ubuntu2 [647 kB]\n",
            "Get:14 http://archive.ubuntu.com/ubuntu bionic/main amd64 erlang-xmerl amd64 1:20.2.2+dfsg-1ubuntu2 [964 kB]\n",
            "Get:15 http://archive.ubuntu.com/ubuntu bionic/main amd64 erlang-edoc amd64 1:20.2.2+dfsg-1ubuntu2 [283 kB]\n",
            "Get:16 http://archive.ubuntu.com/ubuntu bionic/main amd64 erlang-eldap amd64 1:20.2.2+dfsg-1ubuntu2 [101 kB]\n",
            "Get:17 http://archive.ubuntu.com/ubuntu bionic/main amd64 erlang-erl-docgen amd64 1:20.2.2+dfsg-1ubuntu2 [118 kB]\n",
            "Get:18 http://archive.ubuntu.com/ubuntu bionic/main amd64 erlang-eunit amd64 1:20.2.2+dfsg-1ubuntu2 [136 kB]\n",
            "Get:19 http://archive.ubuntu.com/ubuntu bionic/main amd64 erlang-ic amd64 1:20.2.2+dfsg-1ubuntu2 [817 kB]\n",
            "Get:20 http://archive.ubuntu.com/ubuntu bionic/main amd64 erlang-odbc amd64 1:20.2.2+dfsg-1ubuntu2 [47.5 kB]\n",
            "Get:21 http://archive.ubuntu.com/ubuntu bionic/main amd64 erlang-snmp amd64 1:20.2.2+dfsg-1ubuntu2 [1,531 kB]\n",
            "Get:22 http://archive.ubuntu.com/ubuntu bionic/main amd64 erlang-os-mon amd64 1:20.2.2+dfsg-1ubuntu2 [90.4 kB]\n",
            "Get:23 http://archive.ubuntu.com/ubuntu bionic/main amd64 erlang-parsetools amd64 1:20.2.2+dfsg-1ubuntu2 [153 kB]\n",
            "Get:24 http://archive.ubuntu.com/ubuntu bionic/main amd64 erlang-ssh amd64 1:20.2.2+dfsg-1ubuntu2 [508 kB]\n",
            "Get:25 http://archive.ubuntu.com/ubuntu bionic/main amd64 erlang-tools amd64 1:20.2.2+dfsg-1ubuntu2 [503 kB]\n",
            "Get:26 http://archive.ubuntu.com/ubuntu bionic/main amd64 erlang-nox all 1:20.2.2+dfsg-1ubuntu2 [13.4 kB]\n",
            "Get:27 http://archive.ubuntu.com/ubuntu bionic/main amd64 libsctp1 amd64 1.0.17+dfsg-2 [8,008 B]\n",
            "Get:28 http://archive.ubuntu.com/ubuntu bionic/main amd64 socat amd64 1.7.3.2-2ubuntu2 [342 kB]\n",
            "Get:29 http://archive.ubuntu.com/ubuntu bionic-updates/main amd64 rabbitmq-server all 3.6.10-1ubuntu0.5 [4,654 kB]\n",
            "Fetched 24.8 MB in 2s (13.7 MB/s)\n",
            "debconf: unable to initialize frontend: Dialog\n",
            "debconf: (No usable dialog-like program is installed, so the dialog based frontend cannot be used. at /usr/share/perl5/Debconf/FrontEnd/Dialog.pm line 76, <> line 29.)\n",
            "debconf: falling back to frontend: Readline\n",
            "debconf: unable to initialize frontend: Readline\n",
            "debconf: (This frontend requires a controlling tty.)\n",
            "debconf: falling back to frontend: Teletype\n",
            "dpkg-preconfigure: unable to re-open stdin: \n",
            "Selecting previously unselected package cron.\n",
            "(Reading database ... 155226 files and directories currently installed.)\n",
            "Preparing to unpack .../00-cron_3.0pl1-128.1ubuntu1_amd64.deb ...\n",
            "Unpacking cron (3.0pl1-128.1ubuntu1) ...\n",
            "Selecting previously unselected package logrotate.\n",
            "Preparing to unpack .../01-logrotate_3.11.0-0.1ubuntu1_amd64.deb ...\n",
            "Unpacking logrotate (3.11.0-0.1ubuntu1) ...\n",
            "Selecting previously unselected package erlang-base.\n",
            "Preparing to unpack .../02-erlang-base_1%3a20.2.2+dfsg-1ubuntu2_amd64.deb ...\n",
            "Unpacking erlang-base (1:20.2.2+dfsg-1ubuntu2) ...\n",
            "Selecting previously unselected package erlang-asn1.\n",
            "Preparing to unpack .../03-erlang-asn1_1%3a20.2.2+dfsg-1ubuntu2_amd64.deb ...\n",
            "Unpacking erlang-asn1 (1:20.2.2+dfsg-1ubuntu2) ...\n",
            "Selecting previously unselected package erlang-mnesia.\n",
            "Preparing to unpack .../04-erlang-mnesia_1%3a20.2.2+dfsg-1ubuntu2_amd64.deb ...\n",
            "Unpacking erlang-mnesia (1:20.2.2+dfsg-1ubuntu2) ...\n",
            "Selecting previously unselected package erlang-runtime-tools.\n",
            "Preparing to unpack .../05-erlang-runtime-tools_1%3a20.2.2+dfsg-1ubuntu2_amd64.deb ...\n",
            "Unpacking erlang-runtime-tools (1:20.2.2+dfsg-1ubuntu2) ...\n",
            "Selecting previously unselected package erlang-crypto.\n",
            "Preparing to unpack .../06-erlang-crypto_1%3a20.2.2+dfsg-1ubuntu2_amd64.deb ...\n",
            "Unpacking erlang-crypto (1:20.2.2+dfsg-1ubuntu2) ...\n",
            "Selecting previously unselected package erlang-public-key.\n",
            "Preparing to unpack .../07-erlang-public-key_1%3a20.2.2+dfsg-1ubuntu2_amd64.deb ...\n",
            "Unpacking erlang-public-key (1:20.2.2+dfsg-1ubuntu2) ...\n",
            "Selecting previously unselected package erlang-ssl.\n",
            "Preparing to unpack .../08-erlang-ssl_1%3a20.2.2+dfsg-1ubuntu2_amd64.deb ...\n",
            "Unpacking erlang-ssl (1:20.2.2+dfsg-1ubuntu2) ...\n",
            "Selecting previously unselected package erlang-inets.\n",
            "Preparing to unpack .../09-erlang-inets_1%3a20.2.2+dfsg-1ubuntu2_amd64.deb ...\n",
            "Unpacking erlang-inets (1:20.2.2+dfsg-1ubuntu2) ...\n",
            "Selecting previously unselected package erlang-corba.\n",
            "Preparing to unpack .../10-erlang-corba_1%3a20.2.2+dfsg-1ubuntu2_amd64.deb ...\n",
            "Unpacking erlang-corba (1:20.2.2+dfsg-1ubuntu2) ...\n",
            "Selecting previously unselected package erlang-syntax-tools.\n",
            "Preparing to unpack .../11-erlang-syntax-tools_1%3a20.2.2+dfsg-1ubuntu2_amd64.deb ...\n",
            "Unpacking erlang-syntax-tools (1:20.2.2+dfsg-1ubuntu2) ...\n",
            "Selecting previously unselected package erlang-diameter.\n",
            "Preparing to unpack .../12-erlang-diameter_1%3a20.2.2+dfsg-1ubuntu2_amd64.deb ...\n",
            "Unpacking erlang-diameter (1:20.2.2+dfsg-1ubuntu2) ...\n",
            "Selecting previously unselected package erlang-xmerl.\n",
            "Preparing to unpack .../13-erlang-xmerl_1%3a20.2.2+dfsg-1ubuntu2_amd64.deb ...\n",
            "Unpacking erlang-xmerl (1:20.2.2+dfsg-1ubuntu2) ...\n",
            "Selecting previously unselected package erlang-edoc.\n",
            "Preparing to unpack .../14-erlang-edoc_1%3a20.2.2+dfsg-1ubuntu2_amd64.deb ...\n",
            "Unpacking erlang-edoc (1:20.2.2+dfsg-1ubuntu2) ...\n",
            "Selecting previously unselected package erlang-eldap.\n",
            "Preparing to unpack .../15-erlang-eldap_1%3a20.2.2+dfsg-1ubuntu2_amd64.deb ...\n",
            "Unpacking erlang-eldap (1:20.2.2+dfsg-1ubuntu2) ...\n",
            "Selecting previously unselected package erlang-erl-docgen.\n",
            "Preparing to unpack .../16-erlang-erl-docgen_1%3a20.2.2+dfsg-1ubuntu2_amd64.deb ...\n",
            "Unpacking erlang-erl-docgen (1:20.2.2+dfsg-1ubuntu2) ...\n",
            "Selecting previously unselected package erlang-eunit.\n",
            "Preparing to unpack .../17-erlang-eunit_1%3a20.2.2+dfsg-1ubuntu2_amd64.deb ...\n",
            "Unpacking erlang-eunit (1:20.2.2+dfsg-1ubuntu2) ...\n",
            "Selecting previously unselected package erlang-ic.\n",
            "Preparing to unpack .../18-erlang-ic_1%3a20.2.2+dfsg-1ubuntu2_amd64.deb ...\n",
            "Unpacking erlang-ic (1:20.2.2+dfsg-1ubuntu2) ...\n",
            "Selecting previously unselected package erlang-odbc.\n",
            "Preparing to unpack .../19-erlang-odbc_1%3a20.2.2+dfsg-1ubuntu2_amd64.deb ...\n",
            "Unpacking erlang-odbc (1:20.2.2+dfsg-1ubuntu2) ...\n",
            "Selecting previously unselected package erlang-snmp.\n",
            "Preparing to unpack .../20-erlang-snmp_1%3a20.2.2+dfsg-1ubuntu2_amd64.deb ...\n",
            "Unpacking erlang-snmp (1:20.2.2+dfsg-1ubuntu2) ...\n",
            "Selecting previously unselected package erlang-os-mon.\n",
            "Preparing to unpack .../21-erlang-os-mon_1%3a20.2.2+dfsg-1ubuntu2_amd64.deb ...\n",
            "Unpacking erlang-os-mon (1:20.2.2+dfsg-1ubuntu2) ...\n",
            "Selecting previously unselected package erlang-parsetools.\n",
            "Preparing to unpack .../22-erlang-parsetools_1%3a20.2.2+dfsg-1ubuntu2_amd64.deb ...\n",
            "Unpacking erlang-parsetools (1:20.2.2+dfsg-1ubuntu2) ...\n",
            "Selecting previously unselected package erlang-ssh.\n",
            "Preparing to unpack .../23-erlang-ssh_1%3a20.2.2+dfsg-1ubuntu2_amd64.deb ...\n",
            "Unpacking erlang-ssh (1:20.2.2+dfsg-1ubuntu2) ...\n",
            "Selecting previously unselected package erlang-tools.\n",
            "Preparing to unpack .../24-erlang-tools_1%3a20.2.2+dfsg-1ubuntu2_amd64.deb ...\n",
            "Unpacking erlang-tools (1:20.2.2+dfsg-1ubuntu2) ...\n",
            "Selecting previously unselected package erlang-nox.\n",
            "Preparing to unpack .../25-erlang-nox_1%3a20.2.2+dfsg-1ubuntu2_all.deb ...\n",
            "Unpacking erlang-nox (1:20.2.2+dfsg-1ubuntu2) ...\n",
            "Selecting previously unselected package libsctp1:amd64.\n",
            "Preparing to unpack .../26-libsctp1_1.0.17+dfsg-2_amd64.deb ...\n",
            "Unpacking libsctp1:amd64 (1.0.17+dfsg-2) ...\n",
            "Selecting previously unselected package socat.\n",
            "Preparing to unpack .../27-socat_1.7.3.2-2ubuntu2_amd64.deb ...\n",
            "Unpacking socat (1.7.3.2-2ubuntu2) ...\n",
            "Selecting previously unselected package rabbitmq-server.\n",
            "Preparing to unpack .../28-rabbitmq-server_3.6.10-1ubuntu0.5_all.deb ...\n",
            "Unpacking rabbitmq-server (3.6.10-1ubuntu0.5) ...\n",
            "Setting up erlang-base (1:20.2.2+dfsg-1ubuntu2) ...\n",
            "Searching for services which depend on erlang and should be started...none found.\n",
            "Setting up libsctp1:amd64 (1.0.17+dfsg-2) ...\n",
            "Setting up erlang-ic (1:20.2.2+dfsg-1ubuntu2) ...\n",
            "Setting up socat (1.7.3.2-2ubuntu2) ...\n",
            "Setting up erlang-xmerl (1:20.2.2+dfsg-1ubuntu2) ...\n",
            "Setting up erlang-crypto (1:20.2.2+dfsg-1ubuntu2) ...\n",
            "Setting up erlang-asn1 (1:20.2.2+dfsg-1ubuntu2) ...\n",
            "Setting up erlang-mnesia (1:20.2.2+dfsg-1ubuntu2) ...\n",
            "Setting up erlang-eunit (1:20.2.2+dfsg-1ubuntu2) ...\n",
            "Setting up erlang-runtime-tools (1:20.2.2+dfsg-1ubuntu2) ...\n",
            "Setting up erlang-syntax-tools (1:20.2.2+dfsg-1ubuntu2) ...\n",
            "Setting up erlang-odbc (1:20.2.2+dfsg-1ubuntu2) ...\n",
            "Setting up cron (3.0pl1-128.1ubuntu1) ...\n",
            "Adding group `crontab' (GID 110) ...\n",
            "Done.\n",
            "Created symlink /etc/systemd/system/multi-user.target.wants/cron.service → /lib/systemd/system/cron.service.\n",
            "update-rc.d: warning: start and stop actions are no longer supported; falling back to defaults\n",
            "invoke-rc.d: could not determine current runlevel\n",
            "invoke-rc.d: policy-rc.d denied execution of start.\n",
            "Setting up logrotate (3.11.0-0.1ubuntu1) ...\n",
            "Setting up erlang-parsetools (1:20.2.2+dfsg-1ubuntu2) ...\n",
            "Setting up erlang-public-key (1:20.2.2+dfsg-1ubuntu2) ...\n",
            "Setting up erlang-snmp (1:20.2.2+dfsg-1ubuntu2) ...\n",
            "Setting up erlang-ssl (1:20.2.2+dfsg-1ubuntu2) ...\n",
            "Setting up erlang-inets (1:20.2.2+dfsg-1ubuntu2) ...\n",
            "Setting up erlang-tools (1:20.2.2+dfsg-1ubuntu2) ...\n",
            "Setting up erlang-diameter (1:20.2.2+dfsg-1ubuntu2) ...\n",
            "Setting up erlang-ssh (1:20.2.2+dfsg-1ubuntu2) ...\n",
            "Setting up erlang-os-mon (1:20.2.2+dfsg-1ubuntu2) ...\n",
            "Setting up erlang-eldap (1:20.2.2+dfsg-1ubuntu2) ...\n",
            "Setting up erlang-edoc (1:20.2.2+dfsg-1ubuntu2) ...\n",
            "Setting up erlang-corba (1:20.2.2+dfsg-1ubuntu2) ...\n",
            "Setting up erlang-erl-docgen (1:20.2.2+dfsg-1ubuntu2) ...\n",
            "Setting up erlang-nox (1:20.2.2+dfsg-1ubuntu2) ...\n",
            "Setting up rabbitmq-server (3.6.10-1ubuntu0.5) ...\n",
            "Adding group `rabbitmq' (GID 111) ...\n",
            "Done.\n",
            "Adding system user `rabbitmq' (UID 106) ...\n",
            "Adding new user `rabbitmq' (UID 106) with group `rabbitmq' ...\n",
            "Not creating home directory `/var/lib/rabbitmq'.\n",
            "Created symlink /etc/systemd/system/multi-user.target.wants/rabbitmq-server.service → /lib/systemd/system/rabbitmq-server.service.\n",
            "invoke-rc.d: could not determine current runlevel\n",
            "invoke-rc.d: policy-rc.d denied execution of start.\n",
            "Processing triggers for systemd (237-3ubuntu10.52) ...\n",
            "Processing triggers for man-db (2.8.3-2ubuntu0.1) ...\n",
            "Processing triggers for libc-bin (2.27-3ubuntu1.3) ...\n",
            "/sbin/ldconfig.real: /usr/local/lib/python3.7/dist-packages/ideep4py/lib/libmkldnn.so.0 is not a symbolic link\n",
            "\n"
          ]
        }
      ]
    },
    {
      "cell_type": "code",
      "metadata": {
        "id": "afvuMcgL4POc",
        "outputId": "99adb107-d3e0-458e-dcf1-a6756103ec1e",
        "colab": {
          "base_uri": "https://localhost:8080/",
          "height": 0
        }
      },
      "source": [
        "!pip install -U flower"
      ],
      "execution_count": 3,
      "outputs": [
        {
          "output_type": "stream",
          "name": "stdout",
          "text": [
            "Collecting flower\n",
            "  Downloading flower-1.0.0-py2.py3-none-any.whl (457 kB)\n",
            "\u001b[?25l\r\u001b[K     |▊                               | 10 kB 23.6 MB/s eta 0:00:01\r\u001b[K     |█▍                              | 20 kB 30.9 MB/s eta 0:00:01\r\u001b[K     |██▏                             | 30 kB 12.5 MB/s eta 0:00:01\r\u001b[K     |██▉                             | 40 kB 9.8 MB/s eta 0:00:01\r\u001b[K     |███▋                            | 51 kB 5.2 MB/s eta 0:00:01\r\u001b[K     |████▎                           | 61 kB 5.8 MB/s eta 0:00:01\r\u001b[K     |█████                           | 71 kB 5.5 MB/s eta 0:00:01\r\u001b[K     |█████▊                          | 81 kB 6.2 MB/s eta 0:00:01\r\u001b[K     |██████▌                         | 92 kB 4.7 MB/s eta 0:00:01\r\u001b[K     |███████▏                        | 102 kB 5.1 MB/s eta 0:00:01\r\u001b[K     |███████▉                        | 112 kB 5.1 MB/s eta 0:00:01\r\u001b[K     |████████▋                       | 122 kB 5.1 MB/s eta 0:00:01\r\u001b[K     |█████████▎                      | 133 kB 5.1 MB/s eta 0:00:01\r\u001b[K     |██████████                      | 143 kB 5.1 MB/s eta 0:00:01\r\u001b[K     |██████████▊                     | 153 kB 5.1 MB/s eta 0:00:01\r\u001b[K     |███████████▌                    | 163 kB 5.1 MB/s eta 0:00:01\r\u001b[K     |████████████▏                   | 174 kB 5.1 MB/s eta 0:00:01\r\u001b[K     |█████████████                   | 184 kB 5.1 MB/s eta 0:00:01\r\u001b[K     |█████████████▋                  | 194 kB 5.1 MB/s eta 0:00:01\r\u001b[K     |██████████████▎                 | 204 kB 5.1 MB/s eta 0:00:01\r\u001b[K     |███████████████                 | 215 kB 5.1 MB/s eta 0:00:01\r\u001b[K     |███████████████▊                | 225 kB 5.1 MB/s eta 0:00:01\r\u001b[K     |████████████████▌               | 235 kB 5.1 MB/s eta 0:00:01\r\u001b[K     |█████████████████▏              | 245 kB 5.1 MB/s eta 0:00:01\r\u001b[K     |██████████████████              | 256 kB 5.1 MB/s eta 0:00:01\r\u001b[K     |██████████████████▋             | 266 kB 5.1 MB/s eta 0:00:01\r\u001b[K     |███████████████████▍            | 276 kB 5.1 MB/s eta 0:00:01\r\u001b[K     |████████████████████            | 286 kB 5.1 MB/s eta 0:00:01\r\u001b[K     |████████████████████▊           | 296 kB 5.1 MB/s eta 0:00:01\r\u001b[K     |█████████████████████▌          | 307 kB 5.1 MB/s eta 0:00:01\r\u001b[K     |██████████████████████▏         | 317 kB 5.1 MB/s eta 0:00:01\r\u001b[K     |███████████████████████         | 327 kB 5.1 MB/s eta 0:00:01\r\u001b[K     |███████████████████████▋        | 337 kB 5.1 MB/s eta 0:00:01\r\u001b[K     |████████████████████████▍       | 348 kB 5.1 MB/s eta 0:00:01\r\u001b[K     |█████████████████████████       | 358 kB 5.1 MB/s eta 0:00:01\r\u001b[K     |█████████████████████████▉      | 368 kB 5.1 MB/s eta 0:00:01\r\u001b[K     |██████████████████████████▌     | 378 kB 5.1 MB/s eta 0:00:01\r\u001b[K     |███████████████████████████▏    | 389 kB 5.1 MB/s eta 0:00:01\r\u001b[K     |████████████████████████████    | 399 kB 5.1 MB/s eta 0:00:01\r\u001b[K     |████████████████████████████▋   | 409 kB 5.1 MB/s eta 0:00:01\r\u001b[K     |█████████████████████████████▍  | 419 kB 5.1 MB/s eta 0:00:01\r\u001b[K     |██████████████████████████████  | 430 kB 5.1 MB/s eta 0:00:01\r\u001b[K     |██████████████████████████████▉ | 440 kB 5.1 MB/s eta 0:00:01\r\u001b[K     |███████████████████████████████▌| 450 kB 5.1 MB/s eta 0:00:01\r\u001b[K     |████████████████████████████████| 457 kB 5.1 MB/s \n",
            "\u001b[?25hRequirement already satisfied: prometheus-client>=0.8.0 in /usr/local/lib/python3.7/dist-packages (from flower) (0.12.0)\n",
            "Requirement already satisfied: tornado<7.0.0,>=5.0.0 in /usr/local/lib/python3.7/dist-packages (from flower) (5.1.1)\n",
            "Requirement already satisfied: celery>=5.0.5 in /usr/local/lib/python3.7/dist-packages (from flower) (5.2.1)\n",
            "Requirement already satisfied: pytz in /usr/local/lib/python3.7/dist-packages (from flower) (2018.9)\n",
            "Requirement already satisfied: humanize in /usr/local/lib/python3.7/dist-packages (from flower) (0.5.1)\n",
            "Requirement already satisfied: vine<6.0,>=5.0.0 in /usr/local/lib/python3.7/dist-packages (from celery>=5.0.5->flower) (5.0.0)\n",
            "Requirement already satisfied: kombu<6.0,>=5.2.2 in /usr/local/lib/python3.7/dist-packages (from celery>=5.0.5->flower) (5.2.2)\n",
            "Requirement already satisfied: click<9.0,>=8.0 in /usr/local/lib/python3.7/dist-packages (from celery>=5.0.5->flower) (8.0.3)\n",
            "Requirement already satisfied: click-repl>=0.2.0 in /usr/local/lib/python3.7/dist-packages (from celery>=5.0.5->flower) (0.2.0)\n",
            "Requirement already satisfied: setuptools in /usr/local/lib/python3.7/dist-packages (from celery>=5.0.5->flower) (57.4.0)\n",
            "Requirement already satisfied: click-plugins>=1.1.1 in /usr/local/lib/python3.7/dist-packages (from celery>=5.0.5->flower) (1.1.1)\n",
            "Requirement already satisfied: billiard<4.0,>=3.6.4.0 in /usr/local/lib/python3.7/dist-packages (from celery>=5.0.5->flower) (3.6.4.0)\n",
            "Requirement already satisfied: click-didyoumean>=0.0.3 in /usr/local/lib/python3.7/dist-packages (from celery>=5.0.5->flower) (0.3.0)\n",
            "Requirement already satisfied: importlib-metadata in /usr/local/lib/python3.7/dist-packages (from click<9.0,>=8.0->celery>=5.0.5->flower) (4.8.2)\n",
            "Requirement already satisfied: six in /usr/local/lib/python3.7/dist-packages (from click-repl>=0.2.0->celery>=5.0.5->flower) (1.15.0)\n",
            "Requirement already satisfied: prompt-toolkit in /usr/local/lib/python3.7/dist-packages (from click-repl>=0.2.0->celery>=5.0.5->flower) (1.0.18)\n",
            "Requirement already satisfied: amqp<6.0.0,>=5.0.6 in /usr/local/lib/python3.7/dist-packages (from kombu<6.0,>=5.2.2->celery>=5.0.5->flower) (5.0.6)\n",
            "Requirement already satisfied: cached-property in /usr/local/lib/python3.7/dist-packages (from kombu<6.0,>=5.2.2->celery>=5.0.5->flower) (1.5.2)\n",
            "Requirement already satisfied: typing-extensions>=3.6.4 in /usr/local/lib/python3.7/dist-packages (from importlib-metadata->click<9.0,>=8.0->celery>=5.0.5->flower) (3.10.0.2)\n",
            "Requirement already satisfied: zipp>=0.5 in /usr/local/lib/python3.7/dist-packages (from importlib-metadata->click<9.0,>=8.0->celery>=5.0.5->flower) (3.6.0)\n",
            "Requirement already satisfied: wcwidth in /usr/local/lib/python3.7/dist-packages (from prompt-toolkit->click-repl>=0.2.0->celery>=5.0.5->flower) (0.2.5)\n",
            "Installing collected packages: flower\n",
            "Successfully installed flower-1.0.0\n"
          ]
        }
      ]
    },
    {
      "cell_type": "code",
      "metadata": {
        "id": "ikzR2Yu77cK6",
        "outputId": "604e540a-d708-4db4-d109-0b20dd068fee",
        "colab": {
          "base_uri": "https://localhost:8080/",
          "height": 0
        }
      },
      "source": [
        "!celery --version"
      ],
      "execution_count": 7,
      "outputs": [
        {
          "output_type": "stream",
          "name": "stdout",
          "text": [
            "5.2.1 (dawn-chorus)\n"
          ]
        }
      ]
    },
    {
      "cell_type": "code",
      "metadata": {
        "id": "oWLu6bHP7klf",
        "outputId": "e9a02dfd-f331-4d15-9f18-e71fadcc9f52",
        "colab": {
          "base_uri": "https://localhost:8080/",
          "height": 0
        }
      },
      "source": [
        "!service rabbitmq-server start\n",
        "!rabbitmqctl status"
      ],
      "execution_count": 8,
      "outputs": [
        {
          "output_type": "stream",
          "name": "stdout",
          "text": [
            " * Starting RabbitMQ Messaging Server rabbitmq-server\n",
            "   ...done.\n",
            "Status of node rabbit@9d2f4882209c\n",
            "[{pid,2455},\n",
            " {running_applications,\n",
            "     [{rabbit,\"RabbitMQ\",\"3.6.10\"},\n",
            "      {mnesia,\"MNESIA  CXC 138 12\",\"4.15.3\"},\n",
            "      {ranch,\"Socket acceptor pool for TCP protocols.\",\"1.3.0\"},\n",
            "      {ssl,\"Erlang/OTP SSL application\",\"8.2.3\"},\n",
            "      {public_key,\"Public key infrastructure\",\"1.5.2\"},\n",
            "      {asn1,\"The Erlang ASN1 compiler version 5.0.4\",\"5.0.4\"},\n",
            "      {rabbit_common,\n",
            "          \"Modules shared by rabbitmq-server and rabbitmq-erlang-client\",\n",
            "          \"3.6.10\"},\n",
            "      {compiler,\"ERTS  CXC 138 10\",\"7.1.4\"},\n",
            "      {xmerl,\"XML parser\",\"1.3.16\"},\n",
            "      {crypto,\"CRYPTO\",\"4.2\"},\n",
            "      {os_mon,\"CPO  CXC 138 46\",\"2.4.4\"},\n",
            "      {syntax_tools,\"Syntax tools\",\"2.1.4\"},\n",
            "      {sasl,\"SASL  CXC 138 11\",\"3.1.1\"},\n",
            "      {stdlib,\"ERTS  CXC 138 10\",\"3.4.3\"},\n",
            "      {kernel,\"ERTS  CXC 138 10\",\"5.4.1\"}]},\n",
            " {os,{unix,linux}},\n",
            " {erlang_version,\n",
            "     \"Erlang/OTP 20 [erts-9.2] [source] [64-bit] [smp:2:2] [ds:2:2:10] [async-threads:64] [kernel-poll:true]\\n\"},\n",
            " {memory,\n",
            "     [{total,65637200},\n",
            "      {connection_readers,0},\n",
            "      {connection_writers,0},\n",
            "      {connection_channels,0},\n",
            "      {connection_other,0},\n",
            "      {queue_procs,2744},\n",
            "      {queue_slave_procs,0},\n",
            "      {plugins,0},\n",
            "      {other_proc,21235920},\n",
            "      {mnesia,61776},\n",
            "      {metrics,184328},\n",
            "      {mgmt_db,0},\n",
            "      {msg_index,42616},\n",
            "      {other_ets,1760072},\n",
            "      {binary,61488},\n",
            "      {code,21269579},\n",
            "      {atom,891849},\n",
            "      {other_system,20308348}]},\n",
            " {alarms,[]},\n",
            " {listeners,[{clustering,25672,\"::\"},{amqp,5672,\"::\"}]},\n",
            " {vm_memory_high_watermark,0.4},\n",
            " {vm_memory_limit,5448877670},\n",
            " {disk_free_limit,50000000},\n",
            " {disk_free,70841225216},\n",
            " {file_descriptors,\n",
            "     [{total_limit,1048476},\n",
            "      {total_used,2},\n",
            "      {sockets_limit,943626},\n",
            "      {sockets_used,0}]},\n",
            " {processes,[{limit,1048576},{used,154}]},\n",
            " {run_queue,0},\n",
            " {uptime,4},\n",
            " {kernel,{net_ticktime,60}}]\n"
          ]
        }
      ]
    },
    {
      "cell_type": "markdown",
      "metadata": {
        "id": "D-hyHHvF7s1k"
      },
      "source": [
        "**How to create a task with Celery**"
      ]
    },
    {
      "cell_type": "code",
      "metadata": {
        "id": "v96zwDoJ7sU9"
      },
      "source": [
        "def addTask():\n",
        "  \"\"\"\n",
        "from celery import Celery\n",
        "\n",
        "app = Celery('addTask',broker='amqp://guest@localhost//')\n",
        "\n",
        "@app.task\n",
        "def add(x, y):\n",
        "  return x + y\n",
        "  \"\"\"\n",
        "\n",
        "# addTask.py\n",
        "with open('/content/addTask.py', 'w') as f:\n",
        "  f.write(addTask.__doc__)\n"
      ],
      "execution_count": 11,
      "outputs": []
    },
    {
      "cell_type": "code",
      "metadata": {
        "id": "LSExPeqG7_0Y"
      },
      "source": [
        "import addTask\n",
        "if __name__ == '__main__':\n",
        "  result = addTask.add.delay(5,5)"
      ],
      "execution_count": 17,
      "outputs": []
    },
    {
      "cell_type": "code",
      "metadata": {
        "id": "LYQldR8c8y3O",
        "outputId": "f37bc4c9-23e5-4436-f1ec-c690c74baf19",
        "colab": {
          "base_uri": "https://localhost:8080/",
          "height": 0
        }
      },
      "source": [
        "!celery -A addTask worker --loglevel=info"
      ],
      "execution_count": 18,
      "outputs": [
        {
          "output_type": "stream",
          "name": "stdout",
          "text": [
            "/usr/local/lib/python3.7/dist-packages/celery/platforms.py:841: SecurityWarning: You're running the worker with superuser privileges: this is\n",
            "absolutely not recommended!\n",
            "\n",
            "Please specify a different user using the --uid option.\n",
            "\n",
            "User information: uid=0 euid=0 gid=0 egid=0\n",
            "\n",
            "  uid=uid, euid=euid, gid=gid, egid=egid,\n",
            "\u001b[1;36m \n",
            " -------------- celery@9d2f4882209c v5.2.1 (dawn-chorus)\n",
            "--- ***** ----- \n",
            "-- ******* ---- Linux-5.4.104+-x86_64-with-Ubuntu-18.04-bionic 2021-11-24 17:17:42\n",
            "- *** --- * --- \n",
            "- ** ---------- [config]\n",
            "- ** ---------- .> app:         addTask:0x7fd853515410\n",
            "- ** ---------- .> transport:   amqp://guest:**@localhost:5672//\n",
            "- ** ---------- .> results:     disabled://\n",
            "- *** --- * --- .> concurrency: 2 (prefork)\n",
            "-- ******* ---- .> task events: OFF (enable -E to monitor tasks in this worker)\n",
            "--- ***** ----- \n",
            " -------------- [queues]\n",
            "                .> celery           exchange=celery(direct) key=celery\n",
            "                \n",
            "\u001b[0m\u001b[0m\n",
            "[tasks]\n",
            "  . addTask.add\n",
            "\u001b[0m\n",
            "[2021-11-24 17:17:42,981: INFO/MainProcess] Connected to amqp://guest:**@127.0.0.1:5672//\n",
            "[2021-11-24 17:17:42,997: INFO/MainProcess] mingle: searching for neighbors\n",
            "[2021-11-24 17:17:44,029: INFO/MainProcess] mingle: all alone\n",
            "[2021-11-24 17:17:44,042: INFO/MainProcess] celery@9d2f4882209c ready.\n",
            "[2021-11-24 17:17:44,043: INFO/MainProcess] Task addTask.add[5c8cd0a8-45a8-4520-b1e9-82460753b20f] received\n",
            "[2021-11-24 17:17:44,044: INFO/MainProcess] Task addTask.add[33081e52-621f-4796-9173-633e5e0ae593] received\n",
            "[2021-11-24 17:17:44,044: INFO/MainProcess] Task addTask.add[3bb3fb58-262d-446b-9fd4-e80cec77203b] received\n",
            "[2021-11-24 17:17:44,045: INFO/MainProcess] Task addTask.add[9404197d-b53e-4276-aa50-f1867be90034] received\n",
            "[2021-11-24 17:17:44,146: INFO/ForkPoolWorker-1] Task addTask.add[33081e52-621f-4796-9173-633e5e0ae593] succeeded in 0.0002724759999637172s: 10\n",
            "[2021-11-24 17:17:44,146: INFO/ForkPoolWorker-2] Task addTask.add[5c8cd0a8-45a8-4520-b1e9-82460753b20f] succeeded in 0.00036695400001462986s: 10\n",
            "[2021-11-24 17:17:44,148: INFO/ForkPoolWorker-2] Task addTask.add[3bb3fb58-262d-446b-9fd4-e80cec77203b] succeeded in 6.190500005232025e-05s: 10\n",
            "[2021-11-24 17:17:44,149: INFO/ForkPoolWorker-1] Task addTask.add[9404197d-b53e-4276-aa50-f1867be90034] succeeded in 6.138100002317515e-05s: 10\n",
            "\n",
            "worker: Hitting Ctrl+C again will terminate all running tasks!\n",
            "\n",
            "worker: Warm shutdown (MainProcess)\n",
            "\n",
            "worker: Cold shutdown (MainProcess)\n"
          ]
        }
      ]
    },
    {
      "cell_type": "markdown",
      "metadata": {
        "id": "IdRgtbpwdlAF"
      },
      "source": [
        "**Scientific computing with SCOOP**"
      ]
    },
    {
      "cell_type": "code",
      "metadata": {
        "id": "yjdpEFzMeYFH",
        "outputId": "ff5ec83a-3ad3-4d97-9cc0-cc11344c18fa",
        "colab": {
          "base_uri": "https://localhost:8080/",
          "height": 367
        }
      },
      "source": [
        "!pip install SCOOP"
      ],
      "execution_count": 1,
      "outputs": [
        {
          "output_type": "stream",
          "name": "stdout",
          "text": [
            "Collecting SCOOP\n",
            "  Downloading scoop-0.7.1.1.tar.gz (603 kB)\n",
            "\u001b[K     |████████████████████████████████| 603 kB 5.0 MB/s \n",
            "\u001b[?25hRequirement already satisfied: greenlet>=0.3.4 in /usr/local/lib/python3.7/dist-packages (from SCOOP) (1.1.2)\n",
            "Requirement already satisfied: pyzmq>=13.1.0 in /usr/local/lib/python3.7/dist-packages (from SCOOP) (22.3.0)\n",
            "Collecting argparse>=1.1\n",
            "  Downloading argparse-1.4.0-py2.py3-none-any.whl (23 kB)\n",
            "Building wheels for collected packages: SCOOP\n",
            "  Building wheel for SCOOP (setup.py) ... \u001b[?25l\u001b[?25hdone\n",
            "  Created wheel for SCOOP: filename=scoop-0.7.1.1-py3-none-any.whl size=72145 sha256=7554c8c6b4fdc62a35a5b03252d9c8e383942d867f0c57c924642ebeb463841a\n",
            "  Stored in directory: /root/.cache/pip/wheels/24/19/e9/6e3e7c0323cc36bf1e4993d69b2db27d6b4e806ed57d411f44\n",
            "Successfully built SCOOP\n",
            "Installing collected packages: argparse, SCOOP\n",
            "Successfully installed SCOOP-0.7.1.1 argparse-1.4.0\n"
          ]
        },
        {
          "output_type": "display_data",
          "data": {
            "application/vnd.colab-display-data+json": {
              "pip_warning": {
                "packages": [
                  "argparse"
                ]
              }
            }
          },
          "metadata": {}
        }
      ]
    },
    {
      "cell_type": "markdown",
      "metadata": {
        "id": "ZpFzjMg2ggmg"
      },
      "source": [
        "В примере из учебника обнаружены следуюшие опечатки: \n",
        "\n",
        "*   NameError: name 'evaluate_points_in_circle' is not defined. Должна быть функция 'evaluate_number_of_points_in_unit_circle'\n",
        "*   NameError: name 'Taskresult' is not defined. Должна быть переменная 'Taskresult' вместо 'taskresult'\n",
        "\n",
        "\n"
      ]
    },
    {
      "cell_type": "code",
      "metadata": {
        "id": "6tYStJdefKyp",
        "outputId": "43577926-28d3-4c2f-fb3b-0ceda3eb2336",
        "colab": {
          "base_uri": "https://localhost:8080/",
          "height": 0
        }
      },
      "source": [
        "def pi_calculus_with_montecarlo_method():\n",
        "  \"\"\"\n",
        "import math\n",
        "from random import random\n",
        "from scoop import futures\n",
        "from time import time\n",
        "\n",
        "def evaluate_number_of_points_in_unit_circle(attempts):\n",
        "  points_fallen_in_unit_disk = 0\n",
        "  for i in range (0,attempts):\n",
        "    x = random()\n",
        "    y = random()\n",
        "    radius = math.sqrt(x*x + y*y)\n",
        "    #the test is ok if the point fall in the unit circle\n",
        "    if radius < 1 :\n",
        "      #if ok the number of points in a disk is increased\n",
        "      points_fallen_in_unit_disk = points_fallen_in_unit_disk + 1\n",
        "  return points_fallen_in_unit_disk\n",
        "\n",
        "def pi_calculus_with_Montecarlo_Method(workers, attempts):\n",
        " print(\"number of workers %i - number of attempts %i\" %(workers,attempts))\n",
        " bt = time()\n",
        " #in this point we call scoop.futures.map function\n",
        " #the evaluate_number_of_points_in_unit_circle function is executed in an asynchronously way\n",
        " #and several call this function can be made concurrently\n",
        " evaluate_task =  futures.map(evaluate_number_of_points_in_unit_circle, [attempts] * workers)\n",
        " Taskresult= sum(evaluate_task)\n",
        " print (\"%i points fallen in a unit disk after \" %(Taskresult/attempts))\n",
        " piValue = (4. * Taskresult/ float(workers * attempts))\n",
        "\n",
        " computationalTime = time() - bt\n",
        " print(\"value of pi = \" + str(piValue))\n",
        " print (\"error percentage = \" +  str((((abs(piValue - math.pi)) * 100) / math.pi)))\n",
        " print(\"total time: \" + str(computationalTime))\n",
        "\n",
        "if __name__ == \"__main__\":\n",
        "  for i in range (1,4):\n",
        "    #let's fix the numbers of workers...only two,\n",
        "    #but it could be much greater\n",
        "    pi_calculus_with_Montecarlo_Method(i*1000, i*1000)\n",
        "    print(\" \")\n",
        "  \"\"\"\n",
        "\n",
        "# pi_calculus_with_montecarlo_method.py\n",
        "with open('/content/pi_calculus_with_montecarlo_method.py', 'w') as f:\n",
        "  f.write(pi_calculus_with_montecarlo_method.__doc__)\n",
        "  \n",
        "!python -m scoop pi_calculus_with_montecarlo_method.py\n"
      ],
      "execution_count": 11,
      "outputs": [
        {
          "output_type": "stream",
          "name": "stdout",
          "text": [
            "[2021-11-24 20:10:18,839] launcher  INFO    SCOOP 0.7 1.1 on linux using Python 3.7.12 (default, Sep 10 2021, 00:21:48) [GCC 7.5.0], API: 1013\n",
            "[2021-11-24 20:10:18,839] launcher  INFO    Deploying 2 worker(s) over 1 host(s).\n",
            "[2021-11-24 20:10:18,839] launcher  INFO    Worker distribution: \n",
            "[2021-11-24 20:10:18,839] launcher  INFO       127.0.0.1:\t1 + origin\n",
            "number of workers 1000 - number of attempts 1000\n",
            "785 points fallen in a unit disk after \n",
            "value of pi = 3.142708\n",
            "error percentage = 0.03550257888884002\n",
            "total time: 0.8399479389190674\n",
            " \n",
            "number of workers 2000 - number of attempts 2000\n",
            "1570 points fallen in a unit disk after \n",
            "value of pi = 3.140718\n",
            "error percentage = 0.027841088461725227\n",
            "total time: 2.394157886505127\n",
            " \n",
            "number of workers 3000 - number of attempts 3000\n",
            "2356 points fallen in a unit disk after \n",
            "value of pi = 3.1417231111111112\n",
            "error percentage = 0.004152591876259278\n",
            "total time: 4.702181100845337\n",
            " \n",
            "[2021-11-24 20:10:27,317] launcher  (127.0.0.1:37343) INFO    Root process is done.\n",
            "[2021-11-24 20:10:27,317] launcher  (127.0.0.1:37343) INFO    Finished cleaning spawned subprocesses.\n"
          ]
        }
      ]
    },
    {
      "cell_type": "markdown",
      "metadata": {
        "id": "0GxERFjqi2RC"
      },
      "source": [
        "**Handling map functions with SCOOP**"
      ]
    }
  ]
}