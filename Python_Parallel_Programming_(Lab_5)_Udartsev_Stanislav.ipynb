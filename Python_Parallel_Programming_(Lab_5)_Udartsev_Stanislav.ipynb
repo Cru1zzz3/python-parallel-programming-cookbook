{
  "nbformat": 4,
  "nbformat_minor": 0,
  "metadata": {
    "colab": {
      "name": "Python Parallel Programming (Lab 5) - Udartsev Stanislav.ipynb",
      "provenance": [],
      "authorship_tag": "ABX9TyNsGGP8Q2piKMg7SDC7O7VK",
      "include_colab_link": true
    },
    "kernelspec": {
      "name": "python3",
      "display_name": "Python 3"
    },
    "language_info": {
      "name": "python"
    }
  },
  "cells": [
    {
      "cell_type": "markdown",
      "metadata": {
        "id": "view-in-github",
        "colab_type": "text"
      },
      "source": [
        "<a href=\"https://colab.research.google.com/github/Cru1zzz3/python-parallel-programming-cookbook/blob/main/Python_Parallel_Programming_(Lab_5)_Udartsev_Stanislav.ipynb\" target=\"_parent\"><img src=\"https://colab.research.google.com/assets/colab-badge.svg\" alt=\"Open In Colab\"/></a>"
      ]
    },
    {
      "cell_type": "markdown",
      "metadata": {
        "id": "5mpXHQRQBqxl"
      },
      "source": [
        "**Using Celery to distribute tasks**"
      ]
    },
    {
      "cell_type": "markdown",
      "metadata": {
        "id": "7ftHT8uZEpF1"
      },
      "source": [
        "Celery- это фреймворк Python, используемый для управления распределенными задачами, следуя объектно-ориентированному\n",
        "подходу для  промежуточного ПО. Его основная особенность заключается в обработке множества небольших задач и распределении\n",
        "их по большому количеству вычислительных узлов. Результат каждой задачи перерабатывается для составления общего решения."
      ]
    },
    {
      "cell_type": "code",
      "metadata": {
        "id": "SrFTW8hsBm7G",
        "colab": {
          "base_uri": "https://localhost:8080/"
        },
        "outputId": "6046a2d8-2295-42dd-d408-75a9265bd396"
      },
      "source": [
        "!pip install  celery"
      ],
      "execution_count": 2,
      "outputs": [
        {
          "output_type": "stream",
          "name": "stdout",
          "text": [
            "Collecting celery\n",
            "  Downloading celery-5.2.1-py3-none-any.whl (404 kB)\n",
            "\u001b[?25l\r\u001b[K     |▉                               | 10 kB 23.4 MB/s eta 0:00:01\r\u001b[K     |█▋                              | 20 kB 29.9 MB/s eta 0:00:01\r\u001b[K     |██▍                             | 30 kB 35.3 MB/s eta 0:00:01\r\u001b[K     |███▎                            | 40 kB 37.7 MB/s eta 0:00:01\r\u001b[K     |████                            | 51 kB 31.0 MB/s eta 0:00:01\r\u001b[K     |████▉                           | 61 kB 31.7 MB/s eta 0:00:01\r\u001b[K     |█████▊                          | 71 kB 24.0 MB/s eta 0:00:01\r\u001b[K     |██████▌                         | 81 kB 22.8 MB/s eta 0:00:01\r\u001b[K     |███████▎                        | 92 kB 24.1 MB/s eta 0:00:01\r\u001b[K     |████████                        | 102 kB 25.7 MB/s eta 0:00:01\r\u001b[K     |█████████                       | 112 kB 25.7 MB/s eta 0:00:01\r\u001b[K     |█████████▊                      | 122 kB 25.7 MB/s eta 0:00:01\r\u001b[K     |██████████▌                     | 133 kB 25.7 MB/s eta 0:00:01\r\u001b[K     |███████████▍                    | 143 kB 25.7 MB/s eta 0:00:01\r\u001b[K     |████████████▏                   | 153 kB 25.7 MB/s eta 0:00:01\r\u001b[K     |█████████████                   | 163 kB 25.7 MB/s eta 0:00:01\r\u001b[K     |█████████████▊                  | 174 kB 25.7 MB/s eta 0:00:01\r\u001b[K     |██████████████▋                 | 184 kB 25.7 MB/s eta 0:00:01\r\u001b[K     |███████████████▍                | 194 kB 25.7 MB/s eta 0:00:01\r\u001b[K     |████████████████▏               | 204 kB 25.7 MB/s eta 0:00:01\r\u001b[K     |█████████████████               | 215 kB 25.7 MB/s eta 0:00:01\r\u001b[K     |█████████████████▉              | 225 kB 25.7 MB/s eta 0:00:01\r\u001b[K     |██████████████████▋             | 235 kB 25.7 MB/s eta 0:00:01\r\u001b[K     |███████████████████▍            | 245 kB 25.7 MB/s eta 0:00:01\r\u001b[K     |████████████████████▎           | 256 kB 25.7 MB/s eta 0:00:01\r\u001b[K     |█████████████████████           | 266 kB 25.7 MB/s eta 0:00:01\r\u001b[K     |█████████████████████▉          | 276 kB 25.7 MB/s eta 0:00:01\r\u001b[K     |██████████████████████▊         | 286 kB 25.7 MB/s eta 0:00:01\r\u001b[K     |███████████████████████▌        | 296 kB 25.7 MB/s eta 0:00:01\r\u001b[K     |████████████████████████▎       | 307 kB 25.7 MB/s eta 0:00:01\r\u001b[K     |█████████████████████████▏      | 317 kB 25.7 MB/s eta 0:00:01\r\u001b[K     |██████████████████████████      | 327 kB 25.7 MB/s eta 0:00:01\r\u001b[K     |██████████████████████████▊     | 337 kB 25.7 MB/s eta 0:00:01\r\u001b[K     |███████████████████████████▌    | 348 kB 25.7 MB/s eta 0:00:01\r\u001b[K     |████████████████████████████▍   | 358 kB 25.7 MB/s eta 0:00:01\r\u001b[K     |█████████████████████████████▏  | 368 kB 25.7 MB/s eta 0:00:01\r\u001b[K     |██████████████████████████████  | 378 kB 25.7 MB/s eta 0:00:01\r\u001b[K     |██████████████████████████████▉ | 389 kB 25.7 MB/s eta 0:00:01\r\u001b[K     |███████████████████████████████▋| 399 kB 25.7 MB/s eta 0:00:01\r\u001b[K     |████████████████████████████████| 404 kB 25.7 MB/s \n",
            "\u001b[?25hCollecting vine<6.0,>=5.0.0\n",
            "  Downloading vine-5.0.0-py2.py3-none-any.whl (9.4 kB)\n",
            "Collecting click-repl>=0.2.0\n",
            "  Downloading click_repl-0.2.0-py3-none-any.whl (5.2 kB)\n",
            "Collecting click<9.0,>=8.0\n",
            "  Downloading click-8.0.3-py3-none-any.whl (97 kB)\n",
            "\u001b[K     |████████████████████████████████| 97 kB 6.7 MB/s \n",
            "\u001b[?25hCollecting click-plugins>=1.1.1\n",
            "  Downloading click_plugins-1.1.1-py2.py3-none-any.whl (7.5 kB)\n",
            "Collecting click-didyoumean>=0.0.3\n",
            "  Downloading click_didyoumean-0.3.0-py3-none-any.whl (2.7 kB)\n",
            "Collecting kombu<6.0,>=5.2.2\n",
            "  Downloading kombu-5.2.2-py3-none-any.whl (188 kB)\n",
            "\u001b[K     |████████████████████████████████| 188 kB 71.5 MB/s \n",
            "\u001b[?25hCollecting billiard<4.0,>=3.6.4.0\n",
            "  Downloading billiard-3.6.4.0-py3-none-any.whl (89 kB)\n",
            "\u001b[K     |████████████████████████████████| 89 kB 7.3 MB/s \n",
            "\u001b[?25hRequirement already satisfied: pytz>0.dev.0 in /usr/local/lib/python3.7/dist-packages (from celery) (2018.9)\n",
            "Requirement already satisfied: setuptools in /usr/local/lib/python3.7/dist-packages (from celery) (57.4.0)\n",
            "Requirement already satisfied: importlib-metadata in /usr/local/lib/python3.7/dist-packages (from click<9.0,>=8.0->celery) (4.8.2)\n",
            "Requirement already satisfied: prompt-toolkit in /usr/local/lib/python3.7/dist-packages (from click-repl>=0.2.0->celery) (1.0.18)\n",
            "Requirement already satisfied: six in /usr/local/lib/python3.7/dist-packages (from click-repl>=0.2.0->celery) (1.15.0)\n",
            "Collecting amqp<6.0.0,>=5.0.6\n",
            "  Downloading amqp-5.0.6-py3-none-any.whl (53 kB)\n",
            "\u001b[K     |████████████████████████████████| 53 kB 2.2 MB/s \n",
            "\u001b[?25hRequirement already satisfied: cached-property in /usr/local/lib/python3.7/dist-packages (from kombu<6.0,>=5.2.2->celery) (1.5.2)\n",
            "Requirement already satisfied: zipp>=0.5 in /usr/local/lib/python3.7/dist-packages (from importlib-metadata->click<9.0,>=8.0->celery) (3.6.0)\n",
            "Requirement already satisfied: typing-extensions>=3.6.4 in /usr/local/lib/python3.7/dist-packages (from importlib-metadata->click<9.0,>=8.0->celery) (3.10.0.2)\n",
            "Requirement already satisfied: wcwidth in /usr/local/lib/python3.7/dist-packages (from prompt-toolkit->click-repl>=0.2.0->celery) (0.2.5)\n",
            "Installing collected packages: vine, click, amqp, kombu, click-repl, click-plugins, click-didyoumean, billiard, celery\n",
            "  Attempting uninstall: click\n",
            "    Found existing installation: click 7.1.2\n",
            "    Uninstalling click-7.1.2:\n",
            "      Successfully uninstalled click-7.1.2\n",
            "\u001b[31mERROR: pip's dependency resolver does not currently take into account all the packages that are installed. This behaviour is the source of the following dependency conflicts.\n",
            "flask 1.1.4 requires click<8.0,>=5.1, but you have click 8.0.3 which is incompatible.\u001b[0m\n",
            "Successfully installed amqp-5.0.6 billiard-3.6.4.0 celery-5.2.1 click-8.0.3 click-didyoumean-0.3.0 click-plugins-1.1.1 click-repl-0.2.0 kombu-5.2.2 vine-5.0.0\n"
          ]
        }
      ]
    },
    {
      "cell_type": "code",
      "metadata": {
        "id": "FF2SosWu3fcW",
        "colab": {
          "base_uri": "https://localhost:8080/"
        },
        "outputId": "c1b3e43b-5afd-4adb-8092-6e2b6714df2e"
      },
      "source": [
        "# !/usr/bin/sh\n",
        "!sudo apt-get install curl gnupg apt-transport-https -y\n",
        "\n",
        "!wget https://packages.erlang-solutions.com/ubuntu/erlang_solutions.asc\n",
        "\n",
        "!sudo apt-key add erlang_solutions.asc\n",
        "\n",
        "!apt update && apt install esl-erlang\n",
        "\n",
        "\n",
        "## Install rabbitmq-server and its dependencies\n",
        "!sudo apt-get install rabbitmq-server -y "
      ],
      "execution_count": 3,
      "outputs": [
        {
          "output_type": "stream",
          "name": "stdout",
          "text": [
            "Reading package lists... Done\n",
            "Building dependency tree       \n",
            "Reading state information... Done\n",
            "curl is already the newest version (7.58.0-2ubuntu3.16).\n",
            "gnupg is already the newest version (2.2.4-1ubuntu1.4).\n",
            "gnupg set to manually installed.\n",
            "The following NEW packages will be installed:\n",
            "  apt-transport-https\n",
            "0 upgraded, 1 newly installed, 0 to remove and 37 not upgraded.\n",
            "Need to get 4,348 B of archives.\n",
            "After this operation, 154 kB of additional disk space will be used.\n",
            "Get:1 http://archive.ubuntu.com/ubuntu bionic-updates/universe amd64 apt-transport-https all 1.6.14 [4,348 B]\n",
            "Fetched 4,348 B in 0s (27.2 kB/s)\n",
            "debconf: unable to initialize frontend: Dialog\n",
            "debconf: (No usable dialog-like program is installed, so the dialog based frontend cannot be used. at /usr/share/perl5/Debconf/FrontEnd/Dialog.pm line 76, <> line 1.)\n",
            "debconf: falling back to frontend: Readline\n",
            "debconf: unable to initialize frontend: Readline\n",
            "debconf: (This frontend requires a controlling tty.)\n",
            "debconf: falling back to frontend: Teletype\n",
            "dpkg-preconfigure: unable to re-open stdin: \n",
            "Selecting previously unselected package apt-transport-https.\n",
            "(Reading database ... 155222 files and directories currently installed.)\n",
            "Preparing to unpack .../apt-transport-https_1.6.14_all.deb ...\n",
            "Unpacking apt-transport-https (1.6.14) ...\n",
            "Setting up apt-transport-https (1.6.14) ...\n",
            "--2021-11-25 18:54:57--  https://packages.erlang-solutions.com/ubuntu/erlang_solutions.asc\n",
            "Resolving packages.erlang-solutions.com (packages.erlang-solutions.com)... 13.32.182.48, 13.32.182.42, 13.32.182.36, ...\n",
            "Connecting to packages.erlang-solutions.com (packages.erlang-solutions.com)|13.32.182.48|:443... connected.\n",
            "HTTP request sent, awaiting response... 200 OK\n",
            "Length: 3133 (3.1K) [text/plain]\n",
            "Saving to: ‘erlang_solutions.asc’\n",
            "\n",
            "erlang_solutions.as 100%[===================>]   3.06K  --.-KB/s    in 0s      \n",
            "\n",
            "2021-11-25 18:54:57 (443 MB/s) - ‘erlang_solutions.asc’ saved [3133/3133]\n",
            "\n",
            "OK\n",
            "Get:1 http://security.ubuntu.com/ubuntu bionic-security InRelease [88.7 kB]\n",
            "Get:2 https://cloud.r-project.org/bin/linux/ubuntu bionic-cran40/ InRelease [3,626 B]\n",
            "Ign:3 https://developer.download.nvidia.com/compute/cuda/repos/ubuntu1804/x86_64  InRelease\n",
            "Hit:4 http://archive.ubuntu.com/ubuntu bionic InRelease\n",
            "Get:5 http://ppa.launchpad.net/c2d4u.team/c2d4u4.0+/ubuntu bionic InRelease [15.9 kB]\n",
            "Ign:6 https://developer.download.nvidia.com/compute/machine-learning/repos/ubuntu1804/x86_64  InRelease\n",
            "Get:7 https://developer.download.nvidia.com/compute/cuda/repos/ubuntu1804/x86_64  Release [696 B]\n",
            "Hit:8 https://developer.download.nvidia.com/compute/machine-learning/repos/ubuntu1804/x86_64  Release\n",
            "Get:9 http://archive.ubuntu.com/ubuntu bionic-updates InRelease [88.7 kB]\n",
            "Get:10 https://developer.download.nvidia.com/compute/cuda/repos/ubuntu1804/x86_64  Release.gpg [836 B]\n",
            "Hit:11 http://ppa.launchpad.net/cran/libgit2/ubuntu bionic InRelease\n",
            "Get:12 http://archive.ubuntu.com/ubuntu bionic-backports InRelease [74.6 kB]\n",
            "Get:13 http://security.ubuntu.com/ubuntu bionic-security/universe amd64 Packages [1,442 kB]\n",
            "Hit:14 http://ppa.launchpad.net/deadsnakes/ppa/ubuntu bionic InRelease\n",
            "Get:15 http://security.ubuntu.com/ubuntu bionic-security/main amd64 Packages [2,430 kB]\n",
            "Hit:16 http://ppa.launchpad.net/graphics-drivers/ppa/ubuntu bionic InRelease\n",
            "Get:18 http://ppa.launchpad.net/c2d4u.team/c2d4u4.0+/ubuntu bionic/main Sources [1,813 kB]\n",
            "Get:19 https://developer.download.nvidia.com/compute/cuda/repos/ubuntu1804/x86_64  Packages [828 kB]\n",
            "Get:20 http://archive.ubuntu.com/ubuntu bionic-updates/main amd64 Packages [2,868 kB]\n",
            "Get:21 http://ppa.launchpad.net/c2d4u.team/c2d4u4.0+/ubuntu bionic/main amd64 Packages [930 kB]\n",
            "Get:22 http://archive.ubuntu.com/ubuntu bionic-updates/universe amd64 Packages [2,224 kB]\n",
            "Fetched 12.8 MB in 3s (3,902 kB/s)\n",
            "Reading package lists... Done\n",
            "Building dependency tree       \n",
            "Reading state information... Done\n",
            "39 packages can be upgraded. Run 'apt list --upgradable' to see them.\n",
            "Reading package lists... Done\n",
            "Building dependency tree       \n",
            "Reading state information... Done\n",
            "Package esl-erlang is not available, but is referred to by another package.\n",
            "This may mean that the package is missing, has been obsoleted, or\n",
            "is only available from another source\n",
            "\n",
            "E: Package 'esl-erlang' has no installation candidate\n",
            "Reading package lists... Done\n",
            "Building dependency tree       \n",
            "Reading state information... Done\n",
            "The following additional packages will be installed:\n",
            "  cron erlang-asn1 erlang-base erlang-corba erlang-crypto erlang-diameter\n",
            "  erlang-edoc erlang-eldap erlang-erl-docgen erlang-eunit erlang-ic\n",
            "  erlang-inets erlang-mnesia erlang-nox erlang-odbc erlang-os-mon\n",
            "  erlang-parsetools erlang-public-key erlang-runtime-tools erlang-snmp\n",
            "  erlang-ssh erlang-ssl erlang-syntax-tools erlang-tools erlang-xmerl libsctp1\n",
            "  logrotate socat\n",
            "Suggested packages:\n",
            "  anacron checksecurity exim4 | postfix | mail-transport-agent erlang\n",
            "  erlang-manpages erlang-doc xsltproc fop erlang-ic-java lksctp-tools\n",
            "  bsd-mailx | mailx\n",
            "The following NEW packages will be installed:\n",
            "  cron erlang-asn1 erlang-base erlang-corba erlang-crypto erlang-diameter\n",
            "  erlang-edoc erlang-eldap erlang-erl-docgen erlang-eunit erlang-ic\n",
            "  erlang-inets erlang-mnesia erlang-nox erlang-odbc erlang-os-mon\n",
            "  erlang-parsetools erlang-public-key erlang-runtime-tools erlang-snmp\n",
            "  erlang-ssh erlang-ssl erlang-syntax-tools erlang-tools erlang-xmerl libsctp1\n",
            "  logrotate rabbitmq-server socat\n",
            "0 upgraded, 29 newly installed, 0 to remove and 39 not upgraded.\n",
            "Need to get 24.8 MB of archives.\n",
            "After this operation, 41.3 MB of additional disk space will be used.\n",
            "Get:1 http://archive.ubuntu.com/ubuntu bionic/main amd64 cron amd64 3.0pl1-128.1ubuntu1 [68.8 kB]\n",
            "Get:2 http://archive.ubuntu.com/ubuntu bionic/main amd64 logrotate amd64 3.11.0-0.1ubuntu1 [41.8 kB]\n",
            "Get:3 http://archive.ubuntu.com/ubuntu bionic/main amd64 erlang-base amd64 1:20.2.2+dfsg-1ubuntu2 [7,323 kB]\n",
            "Get:4 http://archive.ubuntu.com/ubuntu bionic/main amd64 erlang-asn1 amd64 1:20.2.2+dfsg-1ubuntu2 [724 kB]\n",
            "Get:5 http://archive.ubuntu.com/ubuntu bionic/main amd64 erlang-mnesia amd64 1:20.2.2+dfsg-1ubuntu2 [724 kB]\n",
            "Get:6 http://archive.ubuntu.com/ubuntu bionic/main amd64 erlang-runtime-tools amd64 1:20.2.2+dfsg-1ubuntu2 [178 kB]\n",
            "Get:7 http://archive.ubuntu.com/ubuntu bionic/main amd64 erlang-crypto amd64 1:20.2.2+dfsg-1ubuntu2 [104 kB]\n",
            "Get:8 http://archive.ubuntu.com/ubuntu bionic/main amd64 erlang-public-key amd64 1:20.2.2+dfsg-1ubuntu2 [561 kB]\n",
            "Get:9 http://archive.ubuntu.com/ubuntu bionic/main amd64 erlang-ssl amd64 1:20.2.2+dfsg-1ubuntu2 [814 kB]\n",
            "Get:10 http://archive.ubuntu.com/ubuntu bionic/main amd64 erlang-inets amd64 1:20.2.2+dfsg-1ubuntu2 [711 kB]\n",
            "Get:11 http://archive.ubuntu.com/ubuntu bionic/main amd64 erlang-corba amd64 1:20.2.2+dfsg-1ubuntu2 [2,251 kB]\n",
            "Get:12 http://archive.ubuntu.com/ubuntu bionic/main amd64 erlang-syntax-tools amd64 1:20.2.2+dfsg-1ubuntu2 [345 kB]\n",
            "Get:13 http://archive.ubuntu.com/ubuntu bionic/main amd64 erlang-diameter amd64 1:20.2.2+dfsg-1ubuntu2 [647 kB]\n",
            "Get:14 http://archive.ubuntu.com/ubuntu bionic/main amd64 erlang-xmerl amd64 1:20.2.2+dfsg-1ubuntu2 [964 kB]\n",
            "Get:15 http://archive.ubuntu.com/ubuntu bionic/main amd64 erlang-edoc amd64 1:20.2.2+dfsg-1ubuntu2 [283 kB]\n",
            "Get:16 http://archive.ubuntu.com/ubuntu bionic/main amd64 erlang-eldap amd64 1:20.2.2+dfsg-1ubuntu2 [101 kB]\n",
            "Get:17 http://archive.ubuntu.com/ubuntu bionic/main amd64 erlang-erl-docgen amd64 1:20.2.2+dfsg-1ubuntu2 [118 kB]\n",
            "Get:18 http://archive.ubuntu.com/ubuntu bionic/main amd64 erlang-eunit amd64 1:20.2.2+dfsg-1ubuntu2 [136 kB]\n",
            "Get:19 http://archive.ubuntu.com/ubuntu bionic/main amd64 erlang-ic amd64 1:20.2.2+dfsg-1ubuntu2 [817 kB]\n",
            "Get:20 http://archive.ubuntu.com/ubuntu bionic/main amd64 erlang-odbc amd64 1:20.2.2+dfsg-1ubuntu2 [47.5 kB]\n",
            "Get:21 http://archive.ubuntu.com/ubuntu bionic/main amd64 erlang-snmp amd64 1:20.2.2+dfsg-1ubuntu2 [1,531 kB]\n",
            "Get:22 http://archive.ubuntu.com/ubuntu bionic/main amd64 erlang-os-mon amd64 1:20.2.2+dfsg-1ubuntu2 [90.4 kB]\n",
            "Get:23 http://archive.ubuntu.com/ubuntu bionic/main amd64 erlang-parsetools amd64 1:20.2.2+dfsg-1ubuntu2 [153 kB]\n",
            "Get:24 http://archive.ubuntu.com/ubuntu bionic/main amd64 erlang-ssh amd64 1:20.2.2+dfsg-1ubuntu2 [508 kB]\n",
            "Get:25 http://archive.ubuntu.com/ubuntu bionic/main amd64 erlang-tools amd64 1:20.2.2+dfsg-1ubuntu2 [503 kB]\n",
            "Get:26 http://archive.ubuntu.com/ubuntu bionic/main amd64 erlang-nox all 1:20.2.2+dfsg-1ubuntu2 [13.4 kB]\n",
            "Get:27 http://archive.ubuntu.com/ubuntu bionic/main amd64 libsctp1 amd64 1.0.17+dfsg-2 [8,008 B]\n",
            "Get:28 http://archive.ubuntu.com/ubuntu bionic/main amd64 socat amd64 1.7.3.2-2ubuntu2 [342 kB]\n",
            "Get:29 http://archive.ubuntu.com/ubuntu bionic-updates/main amd64 rabbitmq-server all 3.6.10-1ubuntu0.5 [4,654 kB]\n",
            "Fetched 24.8 MB in 2s (16.4 MB/s)\n",
            "debconf: unable to initialize frontend: Dialog\n",
            "debconf: (No usable dialog-like program is installed, so the dialog based frontend cannot be used. at /usr/share/perl5/Debconf/FrontEnd/Dialog.pm line 76, <> line 29.)\n",
            "debconf: falling back to frontend: Readline\n",
            "debconf: unable to initialize frontend: Readline\n",
            "debconf: (This frontend requires a controlling tty.)\n",
            "debconf: falling back to frontend: Teletype\n",
            "dpkg-preconfigure: unable to re-open stdin: \n",
            "Selecting previously unselected package cron.\n",
            "(Reading database ... 155226 files and directories currently installed.)\n",
            "Preparing to unpack .../00-cron_3.0pl1-128.1ubuntu1_amd64.deb ...\n",
            "Unpacking cron (3.0pl1-128.1ubuntu1) ...\n",
            "Selecting previously unselected package logrotate.\n",
            "Preparing to unpack .../01-logrotate_3.11.0-0.1ubuntu1_amd64.deb ...\n",
            "Unpacking logrotate (3.11.0-0.1ubuntu1) ...\n",
            "Selecting previously unselected package erlang-base.\n",
            "Preparing to unpack .../02-erlang-base_1%3a20.2.2+dfsg-1ubuntu2_amd64.deb ...\n",
            "Unpacking erlang-base (1:20.2.2+dfsg-1ubuntu2) ...\n",
            "Selecting previously unselected package erlang-asn1.\n",
            "Preparing to unpack .../03-erlang-asn1_1%3a20.2.2+dfsg-1ubuntu2_amd64.deb ...\n",
            "Unpacking erlang-asn1 (1:20.2.2+dfsg-1ubuntu2) ...\n",
            "Selecting previously unselected package erlang-mnesia.\n",
            "Preparing to unpack .../04-erlang-mnesia_1%3a20.2.2+dfsg-1ubuntu2_amd64.deb ...\n",
            "Unpacking erlang-mnesia (1:20.2.2+dfsg-1ubuntu2) ...\n",
            "Selecting previously unselected package erlang-runtime-tools.\n",
            "Preparing to unpack .../05-erlang-runtime-tools_1%3a20.2.2+dfsg-1ubuntu2_amd64.deb ...\n",
            "Unpacking erlang-runtime-tools (1:20.2.2+dfsg-1ubuntu2) ...\n",
            "Selecting previously unselected package erlang-crypto.\n",
            "Preparing to unpack .../06-erlang-crypto_1%3a20.2.2+dfsg-1ubuntu2_amd64.deb ...\n",
            "Unpacking erlang-crypto (1:20.2.2+dfsg-1ubuntu2) ...\n",
            "Selecting previously unselected package erlang-public-key.\n",
            "Preparing to unpack .../07-erlang-public-key_1%3a20.2.2+dfsg-1ubuntu2_amd64.deb ...\n",
            "Unpacking erlang-public-key (1:20.2.2+dfsg-1ubuntu2) ...\n",
            "Selecting previously unselected package erlang-ssl.\n",
            "Preparing to unpack .../08-erlang-ssl_1%3a20.2.2+dfsg-1ubuntu2_amd64.deb ...\n",
            "Unpacking erlang-ssl (1:20.2.2+dfsg-1ubuntu2) ...\n",
            "Selecting previously unselected package erlang-inets.\n",
            "Preparing to unpack .../09-erlang-inets_1%3a20.2.2+dfsg-1ubuntu2_amd64.deb ...\n",
            "Unpacking erlang-inets (1:20.2.2+dfsg-1ubuntu2) ...\n",
            "Selecting previously unselected package erlang-corba.\n",
            "Preparing to unpack .../10-erlang-corba_1%3a20.2.2+dfsg-1ubuntu2_amd64.deb ...\n",
            "Unpacking erlang-corba (1:20.2.2+dfsg-1ubuntu2) ...\n",
            "Selecting previously unselected package erlang-syntax-tools.\n",
            "Preparing to unpack .../11-erlang-syntax-tools_1%3a20.2.2+dfsg-1ubuntu2_amd64.deb ...\n",
            "Unpacking erlang-syntax-tools (1:20.2.2+dfsg-1ubuntu2) ...\n",
            "Selecting previously unselected package erlang-diameter.\n",
            "Preparing to unpack .../12-erlang-diameter_1%3a20.2.2+dfsg-1ubuntu2_amd64.deb ...\n",
            "Unpacking erlang-diameter (1:20.2.2+dfsg-1ubuntu2) ...\n",
            "Selecting previously unselected package erlang-xmerl.\n",
            "Preparing to unpack .../13-erlang-xmerl_1%3a20.2.2+dfsg-1ubuntu2_amd64.deb ...\n",
            "Unpacking erlang-xmerl (1:20.2.2+dfsg-1ubuntu2) ...\n",
            "Selecting previously unselected package erlang-edoc.\n",
            "Preparing to unpack .../14-erlang-edoc_1%3a20.2.2+dfsg-1ubuntu2_amd64.deb ...\n",
            "Unpacking erlang-edoc (1:20.2.2+dfsg-1ubuntu2) ...\n",
            "Selecting previously unselected package erlang-eldap.\n",
            "Preparing to unpack .../15-erlang-eldap_1%3a20.2.2+dfsg-1ubuntu2_amd64.deb ...\n",
            "Unpacking erlang-eldap (1:20.2.2+dfsg-1ubuntu2) ...\n",
            "Selecting previously unselected package erlang-erl-docgen.\n",
            "Preparing to unpack .../16-erlang-erl-docgen_1%3a20.2.2+dfsg-1ubuntu2_amd64.deb ...\n",
            "Unpacking erlang-erl-docgen (1:20.2.2+dfsg-1ubuntu2) ...\n",
            "Selecting previously unselected package erlang-eunit.\n",
            "Preparing to unpack .../17-erlang-eunit_1%3a20.2.2+dfsg-1ubuntu2_amd64.deb ...\n",
            "Unpacking erlang-eunit (1:20.2.2+dfsg-1ubuntu2) ...\n",
            "Selecting previously unselected package erlang-ic.\n",
            "Preparing to unpack .../18-erlang-ic_1%3a20.2.2+dfsg-1ubuntu2_amd64.deb ...\n",
            "Unpacking erlang-ic (1:20.2.2+dfsg-1ubuntu2) ...\n",
            "Selecting previously unselected package erlang-odbc.\n",
            "Preparing to unpack .../19-erlang-odbc_1%3a20.2.2+dfsg-1ubuntu2_amd64.deb ...\n",
            "Unpacking erlang-odbc (1:20.2.2+dfsg-1ubuntu2) ...\n",
            "Selecting previously unselected package erlang-snmp.\n",
            "Preparing to unpack .../20-erlang-snmp_1%3a20.2.2+dfsg-1ubuntu2_amd64.deb ...\n",
            "Unpacking erlang-snmp (1:20.2.2+dfsg-1ubuntu2) ...\n",
            "Selecting previously unselected package erlang-os-mon.\n",
            "Preparing to unpack .../21-erlang-os-mon_1%3a20.2.2+dfsg-1ubuntu2_amd64.deb ...\n",
            "Unpacking erlang-os-mon (1:20.2.2+dfsg-1ubuntu2) ...\n",
            "Selecting previously unselected package erlang-parsetools.\n",
            "Preparing to unpack .../22-erlang-parsetools_1%3a20.2.2+dfsg-1ubuntu2_amd64.deb ...\n",
            "Unpacking erlang-parsetools (1:20.2.2+dfsg-1ubuntu2) ...\n",
            "Selecting previously unselected package erlang-ssh.\n",
            "Preparing to unpack .../23-erlang-ssh_1%3a20.2.2+dfsg-1ubuntu2_amd64.deb ...\n",
            "Unpacking erlang-ssh (1:20.2.2+dfsg-1ubuntu2) ...\n",
            "Selecting previously unselected package erlang-tools.\n",
            "Preparing to unpack .../24-erlang-tools_1%3a20.2.2+dfsg-1ubuntu2_amd64.deb ...\n",
            "Unpacking erlang-tools (1:20.2.2+dfsg-1ubuntu2) ...\n",
            "Selecting previously unselected package erlang-nox.\n",
            "Preparing to unpack .../25-erlang-nox_1%3a20.2.2+dfsg-1ubuntu2_all.deb ...\n",
            "Unpacking erlang-nox (1:20.2.2+dfsg-1ubuntu2) ...\n",
            "Selecting previously unselected package libsctp1:amd64.\n",
            "Preparing to unpack .../26-libsctp1_1.0.17+dfsg-2_amd64.deb ...\n",
            "Unpacking libsctp1:amd64 (1.0.17+dfsg-2) ...\n",
            "Selecting previously unselected package socat.\n",
            "Preparing to unpack .../27-socat_1.7.3.2-2ubuntu2_amd64.deb ...\n",
            "Unpacking socat (1.7.3.2-2ubuntu2) ...\n",
            "Selecting previously unselected package rabbitmq-server.\n",
            "Preparing to unpack .../28-rabbitmq-server_3.6.10-1ubuntu0.5_all.deb ...\n",
            "Unpacking rabbitmq-server (3.6.10-1ubuntu0.5) ...\n",
            "Setting up erlang-base (1:20.2.2+dfsg-1ubuntu2) ...\n",
            "Searching for services which depend on erlang and should be started...none found.\n",
            "Setting up libsctp1:amd64 (1.0.17+dfsg-2) ...\n",
            "Setting up erlang-ic (1:20.2.2+dfsg-1ubuntu2) ...\n",
            "Setting up socat (1.7.3.2-2ubuntu2) ...\n",
            "Setting up erlang-xmerl (1:20.2.2+dfsg-1ubuntu2) ...\n",
            "Setting up erlang-crypto (1:20.2.2+dfsg-1ubuntu2) ...\n",
            "Setting up erlang-asn1 (1:20.2.2+dfsg-1ubuntu2) ...\n",
            "Setting up erlang-mnesia (1:20.2.2+dfsg-1ubuntu2) ...\n",
            "Setting up erlang-eunit (1:20.2.2+dfsg-1ubuntu2) ...\n",
            "Setting up erlang-runtime-tools (1:20.2.2+dfsg-1ubuntu2) ...\n",
            "Setting up erlang-syntax-tools (1:20.2.2+dfsg-1ubuntu2) ...\n",
            "Setting up erlang-odbc (1:20.2.2+dfsg-1ubuntu2) ...\n",
            "Setting up cron (3.0pl1-128.1ubuntu1) ...\n",
            "Adding group `crontab' (GID 110) ...\n",
            "Done.\n",
            "Created symlink /etc/systemd/system/multi-user.target.wants/cron.service → /lib/systemd/system/cron.service.\n",
            "update-rc.d: warning: start and stop actions are no longer supported; falling back to defaults\n",
            "invoke-rc.d: could not determine current runlevel\n",
            "invoke-rc.d: policy-rc.d denied execution of start.\n",
            "Setting up logrotate (3.11.0-0.1ubuntu1) ...\n",
            "Setting up erlang-parsetools (1:20.2.2+dfsg-1ubuntu2) ...\n",
            "Setting up erlang-public-key (1:20.2.2+dfsg-1ubuntu2) ...\n",
            "Setting up erlang-snmp (1:20.2.2+dfsg-1ubuntu2) ...\n",
            "Setting up erlang-ssl (1:20.2.2+dfsg-1ubuntu2) ...\n",
            "Setting up erlang-inets (1:20.2.2+dfsg-1ubuntu2) ...\n",
            "Setting up erlang-tools (1:20.2.2+dfsg-1ubuntu2) ...\n",
            "Setting up erlang-diameter (1:20.2.2+dfsg-1ubuntu2) ...\n",
            "Setting up erlang-ssh (1:20.2.2+dfsg-1ubuntu2) ...\n",
            "Setting up erlang-os-mon (1:20.2.2+dfsg-1ubuntu2) ...\n",
            "Setting up erlang-eldap (1:20.2.2+dfsg-1ubuntu2) ...\n",
            "Setting up erlang-edoc (1:20.2.2+dfsg-1ubuntu2) ...\n",
            "Setting up erlang-corba (1:20.2.2+dfsg-1ubuntu2) ...\n",
            "Setting up erlang-erl-docgen (1:20.2.2+dfsg-1ubuntu2) ...\n",
            "Setting up erlang-nox (1:20.2.2+dfsg-1ubuntu2) ...\n",
            "Setting up rabbitmq-server (3.6.10-1ubuntu0.5) ...\n",
            "Adding group `rabbitmq' (GID 111) ...\n",
            "Done.\n",
            "Adding system user `rabbitmq' (UID 106) ...\n",
            "Adding new user `rabbitmq' (UID 106) with group `rabbitmq' ...\n",
            "Not creating home directory `/var/lib/rabbitmq'.\n",
            "Created symlink /etc/systemd/system/multi-user.target.wants/rabbitmq-server.service → /lib/systemd/system/rabbitmq-server.service.\n",
            "invoke-rc.d: could not determine current runlevel\n",
            "invoke-rc.d: policy-rc.d denied execution of start.\n",
            "Processing triggers for systemd (237-3ubuntu10.52) ...\n",
            "Processing triggers for man-db (2.8.3-2ubuntu0.1) ...\n",
            "Processing triggers for libc-bin (2.27-3ubuntu1.3) ...\n",
            "/sbin/ldconfig.real: /usr/local/lib/python3.7/dist-packages/ideep4py/lib/libmkldnn.so.0 is not a symbolic link\n",
            "\n"
          ]
        }
      ]
    },
    {
      "cell_type": "code",
      "metadata": {
        "id": "afvuMcgL4POc",
        "colab": {
          "base_uri": "https://localhost:8080/"
        },
        "outputId": "98fd78bd-2664-4a09-e621-e572c222f3b7"
      },
      "source": [
        "!pip install -U flower"
      ],
      "execution_count": 4,
      "outputs": [
        {
          "output_type": "stream",
          "name": "stdout",
          "text": [
            "Collecting flower\n",
            "  Downloading flower-1.0.0-py2.py3-none-any.whl (457 kB)\n",
            "\u001b[?25l\r\u001b[K     |▊                               | 10 kB 25.3 MB/s eta 0:00:01\r\u001b[K     |█▍                              | 20 kB 28.4 MB/s eta 0:00:01\r\u001b[K     |██▏                             | 30 kB 33.3 MB/s eta 0:00:01\r\u001b[K     |██▉                             | 40 kB 37.3 MB/s eta 0:00:01\r\u001b[K     |███▋                            | 51 kB 25.8 MB/s eta 0:00:01\r\u001b[K     |████▎                           | 61 kB 26.2 MB/s eta 0:00:01\r\u001b[K     |█████                           | 71 kB 25.5 MB/s eta 0:00:01\r\u001b[K     |█████▊                          | 81 kB 27.2 MB/s eta 0:00:01\r\u001b[K     |██████▌                         | 92 kB 28.7 MB/s eta 0:00:01\r\u001b[K     |███████▏                        | 102 kB 29.0 MB/s eta 0:00:01\r\u001b[K     |███████▉                        | 112 kB 29.0 MB/s eta 0:00:01\r\u001b[K     |████████▋                       | 122 kB 29.0 MB/s eta 0:00:01\r\u001b[K     |█████████▎                      | 133 kB 29.0 MB/s eta 0:00:01\r\u001b[K     |██████████                      | 143 kB 29.0 MB/s eta 0:00:01\r\u001b[K     |██████████▊                     | 153 kB 29.0 MB/s eta 0:00:01\r\u001b[K     |███████████▌                    | 163 kB 29.0 MB/s eta 0:00:01\r\u001b[K     |████████████▏                   | 174 kB 29.0 MB/s eta 0:00:01\r\u001b[K     |█████████████                   | 184 kB 29.0 MB/s eta 0:00:01\r\u001b[K     |█████████████▋                  | 194 kB 29.0 MB/s eta 0:00:01\r\u001b[K     |██████████████▎                 | 204 kB 29.0 MB/s eta 0:00:01\r\u001b[K     |███████████████                 | 215 kB 29.0 MB/s eta 0:00:01\r\u001b[K     |███████████████▊                | 225 kB 29.0 MB/s eta 0:00:01\r\u001b[K     |████████████████▌               | 235 kB 29.0 MB/s eta 0:00:01\r\u001b[K     |█████████████████▏              | 245 kB 29.0 MB/s eta 0:00:01\r\u001b[K     |██████████████████              | 256 kB 29.0 MB/s eta 0:00:01\r\u001b[K     |██████████████████▋             | 266 kB 29.0 MB/s eta 0:00:01\r\u001b[K     |███████████████████▍            | 276 kB 29.0 MB/s eta 0:00:01\r\u001b[K     |████████████████████            | 286 kB 29.0 MB/s eta 0:00:01\r\u001b[K     |████████████████████▊           | 296 kB 29.0 MB/s eta 0:00:01\r\u001b[K     |█████████████████████▌          | 307 kB 29.0 MB/s eta 0:00:01\r\u001b[K     |██████████████████████▏         | 317 kB 29.0 MB/s eta 0:00:01\r\u001b[K     |███████████████████████         | 327 kB 29.0 MB/s eta 0:00:01\r\u001b[K     |███████████████████████▋        | 337 kB 29.0 MB/s eta 0:00:01\r\u001b[K     |████████████████████████▍       | 348 kB 29.0 MB/s eta 0:00:01\r\u001b[K     |█████████████████████████       | 358 kB 29.0 MB/s eta 0:00:01\r\u001b[K     |█████████████████████████▉      | 368 kB 29.0 MB/s eta 0:00:01\r\u001b[K     |██████████████████████████▌     | 378 kB 29.0 MB/s eta 0:00:01\r\u001b[K     |███████████████████████████▏    | 389 kB 29.0 MB/s eta 0:00:01\r\u001b[K     |████████████████████████████    | 399 kB 29.0 MB/s eta 0:00:01\r\u001b[K     |████████████████████████████▋   | 409 kB 29.0 MB/s eta 0:00:01\r\u001b[K     |█████████████████████████████▍  | 419 kB 29.0 MB/s eta 0:00:01\r\u001b[K     |██████████████████████████████  | 430 kB 29.0 MB/s eta 0:00:01\r\u001b[K     |██████████████████████████████▉ | 440 kB 29.0 MB/s eta 0:00:01\r\u001b[K     |███████████████████████████████▌| 450 kB 29.0 MB/s eta 0:00:01\r\u001b[K     |████████████████████████████████| 457 kB 29.0 MB/s \n",
            "\u001b[?25hRequirement already satisfied: celery>=5.0.5 in /usr/local/lib/python3.7/dist-packages (from flower) (5.2.1)\n",
            "Requirement already satisfied: pytz in /usr/local/lib/python3.7/dist-packages (from flower) (2018.9)\n",
            "Requirement already satisfied: tornado<7.0.0,>=5.0.0 in /usr/local/lib/python3.7/dist-packages (from flower) (5.1.1)\n",
            "Requirement already satisfied: humanize in /usr/local/lib/python3.7/dist-packages (from flower) (0.5.1)\n",
            "Requirement already satisfied: prometheus-client>=0.8.0 in /usr/local/lib/python3.7/dist-packages (from flower) (0.12.0)\n",
            "Requirement already satisfied: vine<6.0,>=5.0.0 in /usr/local/lib/python3.7/dist-packages (from celery>=5.0.5->flower) (5.0.0)\n",
            "Requirement already satisfied: click-plugins>=1.1.1 in /usr/local/lib/python3.7/dist-packages (from celery>=5.0.5->flower) (1.1.1)\n",
            "Requirement already satisfied: click-didyoumean>=0.0.3 in /usr/local/lib/python3.7/dist-packages (from celery>=5.0.5->flower) (0.3.0)\n",
            "Requirement already satisfied: billiard<4.0,>=3.6.4.0 in /usr/local/lib/python3.7/dist-packages (from celery>=5.0.5->flower) (3.6.4.0)\n",
            "Requirement already satisfied: setuptools in /usr/local/lib/python3.7/dist-packages (from celery>=5.0.5->flower) (57.4.0)\n",
            "Requirement already satisfied: click-repl>=0.2.0 in /usr/local/lib/python3.7/dist-packages (from celery>=5.0.5->flower) (0.2.0)\n",
            "Requirement already satisfied: kombu<6.0,>=5.2.2 in /usr/local/lib/python3.7/dist-packages (from celery>=5.0.5->flower) (5.2.2)\n",
            "Requirement already satisfied: click<9.0,>=8.0 in /usr/local/lib/python3.7/dist-packages (from celery>=5.0.5->flower) (8.0.3)\n",
            "Requirement already satisfied: importlib-metadata in /usr/local/lib/python3.7/dist-packages (from click<9.0,>=8.0->celery>=5.0.5->flower) (4.8.2)\n",
            "Requirement already satisfied: six in /usr/local/lib/python3.7/dist-packages (from click-repl>=0.2.0->celery>=5.0.5->flower) (1.15.0)\n",
            "Requirement already satisfied: prompt-toolkit in /usr/local/lib/python3.7/dist-packages (from click-repl>=0.2.0->celery>=5.0.5->flower) (1.0.18)\n",
            "Requirement already satisfied: amqp<6.0.0,>=5.0.6 in /usr/local/lib/python3.7/dist-packages (from kombu<6.0,>=5.2.2->celery>=5.0.5->flower) (5.0.6)\n",
            "Requirement already satisfied: cached-property in /usr/local/lib/python3.7/dist-packages (from kombu<6.0,>=5.2.2->celery>=5.0.5->flower) (1.5.2)\n",
            "Requirement already satisfied: typing-extensions>=3.6.4 in /usr/local/lib/python3.7/dist-packages (from importlib-metadata->click<9.0,>=8.0->celery>=5.0.5->flower) (3.10.0.2)\n",
            "Requirement already satisfied: zipp>=0.5 in /usr/local/lib/python3.7/dist-packages (from importlib-metadata->click<9.0,>=8.0->celery>=5.0.5->flower) (3.6.0)\n",
            "Requirement already satisfied: wcwidth in /usr/local/lib/python3.7/dist-packages (from prompt-toolkit->click-repl>=0.2.0->celery>=5.0.5->flower) (0.2.5)\n",
            "Installing collected packages: flower\n",
            "Successfully installed flower-1.0.0\n"
          ]
        }
      ]
    },
    {
      "cell_type": "code",
      "metadata": {
        "id": "ikzR2Yu77cK6",
        "colab": {
          "base_uri": "https://localhost:8080/"
        },
        "outputId": "15709d6a-1e10-4f2d-8443-c9508c8a3fef"
      },
      "source": [
        "!celery --version"
      ],
      "execution_count": 5,
      "outputs": [
        {
          "output_type": "stream",
          "name": "stdout",
          "text": [
            "5.2.1 (dawn-chorus)\n"
          ]
        }
      ]
    },
    {
      "cell_type": "code",
      "metadata": {
        "id": "oWLu6bHP7klf",
        "colab": {
          "base_uri": "https://localhost:8080/"
        },
        "outputId": "bef18462-4f06-4379-f2e3-36a90e22e858"
      },
      "source": [
        "!service rabbitmq-server start\n",
        "!rabbitmqctl status"
      ],
      "execution_count": 6,
      "outputs": [
        {
          "output_type": "stream",
          "name": "stdout",
          "text": [
            " * Starting RabbitMQ Messaging Server rabbitmq-server\n",
            "   ...done.\n",
            "Status of node rabbit@021733a5f0fa\n",
            "[{pid,4514},\n",
            " {running_applications,\n",
            "     [{rabbit,\"RabbitMQ\",\"3.6.10\"},\n",
            "      {mnesia,\"MNESIA  CXC 138 12\",\"4.15.3\"},\n",
            "      {ranch,\"Socket acceptor pool for TCP protocols.\",\"1.3.0\"},\n",
            "      {ssl,\"Erlang/OTP SSL application\",\"8.2.3\"},\n",
            "      {public_key,\"Public key infrastructure\",\"1.5.2\"},\n",
            "      {asn1,\"The Erlang ASN1 compiler version 5.0.4\",\"5.0.4\"},\n",
            "      {rabbit_common,\n",
            "          \"Modules shared by rabbitmq-server and rabbitmq-erlang-client\",\n",
            "          \"3.6.10\"},\n",
            "      {xmerl,\"XML parser\",\"1.3.16\"},\n",
            "      {crypto,\"CRYPTO\",\"4.2\"},\n",
            "      {os_mon,\"CPO  CXC 138 46\",\"2.4.4\"},\n",
            "      {compiler,\"ERTS  CXC 138 10\",\"7.1.4\"},\n",
            "      {syntax_tools,\"Syntax tools\",\"2.1.4\"},\n",
            "      {sasl,\"SASL  CXC 138 11\",\"3.1.1\"},\n",
            "      {stdlib,\"ERTS  CXC 138 10\",\"3.4.3\"},\n",
            "      {kernel,\"ERTS  CXC 138 10\",\"5.4.1\"}]},\n",
            " {os,{unix,linux}},\n",
            " {erlang_version,\n",
            "     \"Erlang/OTP 20 [erts-9.2] [source] [64-bit] [smp:2:2] [ds:2:2:10] [async-threads:64] [kernel-poll:true]\\n\"},\n",
            " {memory,\n",
            "     [{total,64782752},\n",
            "      {connection_readers,0},\n",
            "      {connection_writers,0},\n",
            "      {connection_channels,0},\n",
            "      {connection_other,0},\n",
            "      {queue_procs,2744},\n",
            "      {queue_slave_procs,0},\n",
            "      {plugins,0},\n",
            "      {other_proc,20314032},\n",
            "      {mnesia,61776},\n",
            "      {metrics,184328},\n",
            "      {mgmt_db,0},\n",
            "      {msg_index,114136},\n",
            "      {other_ets,1760000},\n",
            "      {binary,58616},\n",
            "      {code,21269579},\n",
            "      {atom,891849},\n",
            "      {other_system,20307212}]},\n",
            " {alarms,[]},\n",
            " {listeners,[{clustering,25672,\"::\"},{amqp,5672,\"::\"}]},\n",
            " {vm_memory_high_watermark,0.4},\n",
            " {vm_memory_limit,5448877670},\n",
            " {disk_free_limit,50000000},\n",
            " {disk_free,70840111104},\n",
            " {file_descriptors,\n",
            "     [{total_limit,1048476},\n",
            "      {total_used,2},\n",
            "      {sockets_limit,943626},\n",
            "      {sockets_used,0}]},\n",
            " {processes,[{limit,1048576},{used,154}]},\n",
            " {run_queue,0},\n",
            " {uptime,3},\n",
            " {kernel,{net_ticktime,60}}]\n"
          ]
        }
      ]
    },
    {
      "cell_type": "markdown",
      "metadata": {
        "id": "D-hyHHvF7s1k"
      },
      "source": [
        "**How to create a task with Celery**"
      ]
    },
    {
      "cell_type": "markdown",
      "metadata": {
        "id": "6dGhNxlZKi7I"
      },
      "source": [
        "Задачи(Tasks) являются строительными блоками приложений для сельдерея.\n",
        "\n",
        "Задача - это класс, который может быть создан из любого вызываемого объекта. Он выполняет двойную роль, поскольку определяет, что происходит при вызове задачи (отправляет сообщение), так и то, что происходит, когда обрабатывающий узел получает это сообщение."
      ]
    },
    {
      "cell_type": "code",
      "metadata": {
        "id": "v96zwDoJ7sU9"
      },
      "source": [
        "def addTask():\n",
        "  \"\"\"\n",
        "from celery import Celery\n",
        "\n",
        "app = Celery('addTask',broker='amqp://guest@localhost//')\n",
        "\n",
        "@app.task\n",
        "def add(x, y):\n",
        "  return x + y\n",
        "  \"\"\"\n",
        "\n",
        "# addTask.py\n",
        "with open('/content/addTask.py', 'w') as f:\n",
        "  f.write(addTask.__doc__)\n"
      ],
      "execution_count": 7,
      "outputs": []
    },
    {
      "cell_type": "code",
      "metadata": {
        "id": "LSExPeqG7_0Y"
      },
      "source": [
        "import addTask\n",
        "if __name__ == '__main__':\n",
        "  result = addTask.add.delay(5,5)"
      ],
      "execution_count": 8,
      "outputs": []
    },
    {
      "cell_type": "code",
      "metadata": {
        "id": "LYQldR8c8y3O",
        "colab": {
          "base_uri": "https://localhost:8080/"
        },
        "outputId": "ef9ebacd-940c-4647-9fb2-520361888abd"
      },
      "source": [
        "!celery -A addTask worker --loglevel=info"
      ],
      "execution_count": 9,
      "outputs": [
        {
          "output_type": "stream",
          "name": "stdout",
          "text": [
            "/usr/local/lib/python3.7/dist-packages/celery/platforms.py:841: SecurityWarning: You're running the worker with superuser privileges: this is\n",
            "absolutely not recommended!\n",
            "\n",
            "Please specify a different user using the --uid option.\n",
            "\n",
            "User information: uid=0 euid=0 gid=0 egid=0\n",
            "\n",
            "  uid=uid, euid=euid, gid=gid, egid=egid,\n",
            "\u001b[1;36m \n",
            " -------------- celery@021733a5f0fa v5.2.1 (dawn-chorus)\n",
            "--- ***** ----- \n",
            "-- ******* ---- Linux-5.4.104+-x86_64-with-Ubuntu-18.04-bionic 2021-11-25 18:55:33\n",
            "- *** --- * --- \n",
            "- ** ---------- [config]\n",
            "- ** ---------- .> app:         addTask:0x7f0c06e47b10\n",
            "- ** ---------- .> transport:   amqp://guest:**@localhost:5672//\n",
            "- ** ---------- .> results:     disabled://\n",
            "- *** --- * --- .> concurrency: 2 (prefork)\n",
            "-- ******* ---- .> task events: OFF (enable -E to monitor tasks in this worker)\n",
            "--- ***** ----- \n",
            " -------------- [queues]\n",
            "                .> celery           exchange=celery(direct) key=celery\n",
            "                \n",
            "\u001b[0m\u001b[0m\n",
            "[tasks]\n",
            "  . addTask.add\n",
            "\u001b[0m\n",
            "[2021-11-25 18:55:33,690: INFO/MainProcess] Connected to amqp://guest:**@127.0.0.1:5672//\n",
            "[2021-11-25 18:55:33,714: INFO/MainProcess] mingle: searching for neighbors\n",
            "[2021-11-25 18:55:34,791: INFO/MainProcess] mingle: all alone\n",
            "[2021-11-25 18:55:34,831: INFO/MainProcess] celery@021733a5f0fa ready.\n",
            "[2021-11-25 18:55:34,832: INFO/MainProcess] Task addTask.add[228de1ec-0bc6-4c39-b3ad-a9af505f7657] received\n",
            "[2021-11-25 18:55:34,935: INFO/ForkPoolWorker-2] Task addTask.add[228de1ec-0bc6-4c39-b3ad-a9af505f7657] succeeded in 0.0005309640000632498s: 10\n",
            "\n",
            "worker: Hitting Ctrl+C again will terminate all running tasks!\n",
            "\n",
            "worker: Warm shutdown (MainProcess)\n",
            "\n",
            "worker: Cold shutdown (MainProcess)\n"
          ]
        }
      ]
    },
    {
      "cell_type": "markdown",
      "metadata": {
        "id": "IdRgtbpwdlAF"
      },
      "source": [
        "**Scientific computing with SCOOP**"
      ]
    },
    {
      "cell_type": "markdown",
      "metadata": {
        "id": "EGFI9Eq5AI33"
      },
      "source": [
        "SCOOP - это библиотека, которая в основном используется для научных вычислительных задач. В качестве примера в учебнике рассмотрено параллальное выполнение алгоритма Монте-Карло для вычисления числа Пи, требующий больших вычислительных затрат."
      ]
    },
    {
      "cell_type": "code",
      "metadata": {
        "id": "yjdpEFzMeYFH",
        "colab": {
          "base_uri": "https://localhost:8080/",
          "height": 366
        },
        "outputId": "554d49cd-cdae-42cc-cf3f-432d194cb9d5"
      },
      "source": [
        "!pip install SCOOP"
      ],
      "execution_count": 10,
      "outputs": [
        {
          "output_type": "stream",
          "name": "stdout",
          "text": [
            "Collecting SCOOP\n",
            "  Downloading scoop-0.7.1.1.tar.gz (603 kB)\n",
            "\u001b[?25l\r\u001b[K     |▌                               | 10 kB 23.0 MB/s eta 0:00:01\r\u001b[K     |█                               | 20 kB 27.5 MB/s eta 0:00:01\r\u001b[K     |█▋                              | 30 kB 31.0 MB/s eta 0:00:01\r\u001b[K     |██▏                             | 40 kB 35.4 MB/s eta 0:00:01\r\u001b[K     |██▊                             | 51 kB 34.3 MB/s eta 0:00:01\r\u001b[K     |███▎                            | 61 kB 37.1 MB/s eta 0:00:01\r\u001b[K     |███▉                            | 71 kB 27.8 MB/s eta 0:00:01\r\u001b[K     |████▍                           | 81 kB 28.3 MB/s eta 0:00:01\r\u001b[K     |█████                           | 92 kB 27.0 MB/s eta 0:00:01\r\u001b[K     |█████▍                          | 102 kB 28.7 MB/s eta 0:00:01\r\u001b[K     |██████                          | 112 kB 28.7 MB/s eta 0:00:01\r\u001b[K     |██████▌                         | 122 kB 28.7 MB/s eta 0:00:01\r\u001b[K     |███████                         | 133 kB 28.7 MB/s eta 0:00:01\r\u001b[K     |███████▋                        | 143 kB 28.7 MB/s eta 0:00:01\r\u001b[K     |████████▏                       | 153 kB 28.7 MB/s eta 0:00:01\r\u001b[K     |████████▊                       | 163 kB 28.7 MB/s eta 0:00:01\r\u001b[K     |█████████▎                      | 174 kB 28.7 MB/s eta 0:00:01\r\u001b[K     |█████████▉                      | 184 kB 28.7 MB/s eta 0:00:01\r\u001b[K     |██████████▎                     | 194 kB 28.7 MB/s eta 0:00:01\r\u001b[K     |██████████▉                     | 204 kB 28.7 MB/s eta 0:00:01\r\u001b[K     |███████████▍                    | 215 kB 28.7 MB/s eta 0:00:01\r\u001b[K     |████████████                    | 225 kB 28.7 MB/s eta 0:00:01\r\u001b[K     |████████████▌                   | 235 kB 28.7 MB/s eta 0:00:01\r\u001b[K     |█████████████                   | 245 kB 28.7 MB/s eta 0:00:01\r\u001b[K     |█████████████▋                  | 256 kB 28.7 MB/s eta 0:00:01\r\u001b[K     |██████████████▏                 | 266 kB 28.7 MB/s eta 0:00:01\r\u001b[K     |██████████████▊                 | 276 kB 28.7 MB/s eta 0:00:01\r\u001b[K     |███████████████▏                | 286 kB 28.7 MB/s eta 0:00:01\r\u001b[K     |███████████████▊                | 296 kB 28.7 MB/s eta 0:00:01\r\u001b[K     |████████████████▎               | 307 kB 28.7 MB/s eta 0:00:01\r\u001b[K     |████████████████▉               | 317 kB 28.7 MB/s eta 0:00:01\r\u001b[K     |█████████████████▍              | 327 kB 28.7 MB/s eta 0:00:01\r\u001b[K     |██████████████████              | 337 kB 28.7 MB/s eta 0:00:01\r\u001b[K     |██████████████████▌             | 348 kB 28.7 MB/s eta 0:00:01\r\u001b[K     |███████████████████             | 358 kB 28.7 MB/s eta 0:00:01\r\u001b[K     |███████████████████▋            | 368 kB 28.7 MB/s eta 0:00:01\r\u001b[K     |████████████████████            | 378 kB 28.7 MB/s eta 0:00:01\r\u001b[K     |████████████████████▋           | 389 kB 28.7 MB/s eta 0:00:01\r\u001b[K     |█████████████████████▏          | 399 kB 28.7 MB/s eta 0:00:01\r\u001b[K     |█████████████████████▊          | 409 kB 28.7 MB/s eta 0:00:01\r\u001b[K     |██████████████████████▎         | 419 kB 28.7 MB/s eta 0:00:01\r\u001b[K     |██████████████████████▉         | 430 kB 28.7 MB/s eta 0:00:01\r\u001b[K     |███████████████████████▍        | 440 kB 28.7 MB/s eta 0:00:01\r\u001b[K     |████████████████████████        | 450 kB 28.7 MB/s eta 0:00:01\r\u001b[K     |████████████████████████▌       | 460 kB 28.7 MB/s eta 0:00:01\r\u001b[K     |█████████████████████████       | 471 kB 28.7 MB/s eta 0:00:01\r\u001b[K     |█████████████████████████▌      | 481 kB 28.7 MB/s eta 0:00:01\r\u001b[K     |██████████████████████████      | 491 kB 28.7 MB/s eta 0:00:01\r\u001b[K     |██████████████████████████▋     | 501 kB 28.7 MB/s eta 0:00:01\r\u001b[K     |███████████████████████████▏    | 512 kB 28.7 MB/s eta 0:00:01\r\u001b[K     |███████████████████████████▊    | 522 kB 28.7 MB/s eta 0:00:01\r\u001b[K     |████████████████████████████▎   | 532 kB 28.7 MB/s eta 0:00:01\r\u001b[K     |████████████████████████████▉   | 542 kB 28.7 MB/s eta 0:00:01\r\u001b[K     |█████████████████████████████▍  | 552 kB 28.7 MB/s eta 0:00:01\r\u001b[K     |█████████████████████████████▉  | 563 kB 28.7 MB/s eta 0:00:01\r\u001b[K     |██████████████████████████████▍ | 573 kB 28.7 MB/s eta 0:00:01\r\u001b[K     |███████████████████████████████ | 583 kB 28.7 MB/s eta 0:00:01\r\u001b[K     |███████████████████████████████▌| 593 kB 28.7 MB/s eta 0:00:01\r\u001b[K     |████████████████████████████████| 603 kB 28.7 MB/s \n",
            "\u001b[?25hRequirement already satisfied: greenlet>=0.3.4 in /usr/local/lib/python3.7/dist-packages (from SCOOP) (1.1.2)\n",
            "Requirement already satisfied: pyzmq>=13.1.0 in /usr/local/lib/python3.7/dist-packages (from SCOOP) (22.3.0)\n",
            "Collecting argparse>=1.1\n",
            "  Downloading argparse-1.4.0-py2.py3-none-any.whl (23 kB)\n",
            "Building wheels for collected packages: SCOOP\n",
            "  Building wheel for SCOOP (setup.py) ... \u001b[?25l\u001b[?25hdone\n",
            "  Created wheel for SCOOP: filename=scoop-0.7.1.1-py3-none-any.whl size=72145 sha256=297c9f79feff7d5714bc8f9fccdc2bf3267eaffea8c84b89262d306e26965b6f\n",
            "  Stored in directory: /root/.cache/pip/wheels/24/19/e9/6e3e7c0323cc36bf1e4993d69b2db27d6b4e806ed57d411f44\n",
            "Successfully built SCOOP\n",
            "Installing collected packages: argparse, SCOOP\n",
            "Successfully installed SCOOP-0.7.1.1 argparse-1.4.0\n"
          ]
        },
        {
          "output_type": "display_data",
          "data": {
            "application/vnd.colab-display-data+json": {
              "pip_warning": {
                "packages": [
                  "argparse"
                ]
              }
            }
          },
          "metadata": {}
        }
      ]
    },
    {
      "cell_type": "markdown",
      "metadata": {
        "id": "ZpFzjMg2ggmg"
      },
      "source": [
        "В примере из учебника обнаружены следуюшие опечатки: \n",
        "\n",
        "*   NameError: name 'evaluate_points_in_circle' is not defined. Должна быть функция 'evaluate_number_of_points_in_unit_circle'\n",
        "*   NameError: name 'Taskresult' is not defined. Должна быть переменная 'Taskresult' вместо 'taskresult'\n",
        "\n",
        "\n"
      ]
    },
    {
      "cell_type": "code",
      "metadata": {
        "id": "6tYStJdefKyp",
        "colab": {
          "base_uri": "https://localhost:8080/"
        },
        "outputId": "c6f769fd-e41f-4b0f-bf74-6bb2ce6687fc"
      },
      "source": [
        "def pi_calculus_with_montecarlo_method():\n",
        "  \"\"\"\n",
        "import math\n",
        "from random import random\n",
        "from scoop import futures\n",
        "from time import time\n",
        "\n",
        "def evaluate_number_of_points_in_unit_circle(attempts):\n",
        "  points_fallen_in_unit_disk = 0\n",
        "  for i in range (0,attempts):\n",
        "    x = random()\n",
        "    y = random()\n",
        "    radius = math.sqrt(x*x + y*y)\n",
        "    #the test is ok if the point fall in the unit circle\n",
        "    if radius < 1 :\n",
        "      #if ok the number of points in a disk is increased\n",
        "      points_fallen_in_unit_disk = points_fallen_in_unit_disk + 1\n",
        "  return points_fallen_in_unit_disk\n",
        "\n",
        "def pi_calculus_with_Montecarlo_Method(workers, attempts):\n",
        " print(\"number of workers %i - number of attempts %i\" %(workers,attempts))\n",
        " bt = time()\n",
        " #in this point we call scoop.futures.map function\n",
        " #the evaluate_number_of_points_in_unit_circle function is executed in an asynchronously way\n",
        " #and several call this function can be made concurrently\n",
        " evaluate_task =  futures.map(evaluate_number_of_points_in_unit_circle, [attempts] * workers)\n",
        " Taskresult= sum(evaluate_task)\n",
        " print (\"%i points fallen in a unit disk after \" %(Taskresult/attempts))\n",
        " piValue = (4. * Taskresult/ float(workers * attempts))\n",
        "\n",
        " computationalTime = time() - bt\n",
        " print(\"value of pi = \" + str(piValue))\n",
        " print (\"error percentage = \" +  str((((abs(piValue - math.pi)) * 100) / math.pi)))\n",
        " print(\"total time: \" + str(computationalTime))\n",
        "\n",
        "if __name__ == \"__main__\":\n",
        "  for i in range (1,4):\n",
        "    #let's fix the numbers of workers...only two,\n",
        "    #but it could be much greater\n",
        "    pi_calculus_with_Montecarlo_Method(i*1000, i*1000)\n",
        "    print(\" \")\n",
        "  \"\"\"\n",
        "\n",
        "# pi_calculus_with_montecarlo_method.py\n",
        "with open('/content/pi_calculus_with_montecarlo_method.py', 'w') as f:\n",
        "  f.write(pi_calculus_with_montecarlo_method.__doc__)\n",
        "  \n",
        "!python -m scoop pi_calculus_with_montecarlo_method.py\n"
      ],
      "execution_count": 11,
      "outputs": [
        {
          "output_type": "stream",
          "name": "stdout",
          "text": [
            "[2021-11-25 18:56:31,953] launcher  INFO    SCOOP 0.7 1.1 on linux using Python 3.7.12 (default, Sep 10 2021, 00:21:48) [GCC 7.5.0], API: 1013\n",
            "[2021-11-25 18:56:31,953] launcher  INFO    Deploying 2 worker(s) over 1 host(s).\n",
            "[2021-11-25 18:56:31,953] launcher  INFO    Worker distribution: \n",
            "[2021-11-25 18:56:31,953] launcher  INFO       127.0.0.1:\t1 + origin\n",
            "number of workers 1000 - number of attempts 1000\n",
            "784 points fallen in a unit disk after \n",
            "value of pi = 3.139792\n",
            "error percentage = 0.05731658392235075\n",
            "total time: 0.8658866882324219\n",
            " \n",
            "number of workers 2000 - number of attempts 2000\n",
            "1570 points fallen in a unit disk after \n",
            "value of pi = 3.141516\n",
            "error percentage = 0.0024399595442562965\n",
            "total time: 2.356513500213623\n",
            " \n",
            "number of workers 3000 - number of attempts 3000\n",
            "2355 points fallen in a unit disk after \n",
            "value of pi = 3.141228888888889\n",
            "error percentage = 0.011578990054244743\n",
            "total time: 4.511167049407959\n",
            " \n",
            "[2021-11-25 18:56:40,227] launcher  (127.0.0.1:42021) INFO    Root process is done.\n",
            "[2021-11-25 18:56:40,228] launcher  (127.0.0.1:42021) INFO    Finished cleaning spawned subprocesses.\n"
          ]
        }
      ]
    },
    {
      "cell_type": "markdown",
      "metadata": {
        "id": "0GxERFjqi2RC"
      },
      "source": [
        "**Handling map functions with SCOOP**"
      ]
    },
    {
      "cell_type": "markdown",
      "metadata": {
        "id": "FaTU_sqS_BCX"
      },
      "source": [
        "С помощью библиотеки SCOOP можно определить более одной функции map, они позволяют выполнять асинхронные\n",
        "вычисления, которые могут быть переданы на обрабатыющие узлы.\n",
        "В данном примере сравниваются функции futures.mapReduce из библиотеки SCOOP и встроеная функция map стандарнтной библиотеки. Из результатов работы можем видеть, что использования механизма mapReduce позволяет уменьшить время выполнения почти в 2 раза."
      ]
    },
    {
      "cell_type": "code",
      "metadata": {
        "id": "O8zU4tHD8XBc",
        "colab": {
          "base_uri": "https://localhost:8080/"
        },
        "outputId": "54f8a8d5-67e1-4b54-e1db-a21df63590cb"
      },
      "source": [
        "def map_reduce():\n",
        "  \"\"\"\n",
        "import operator\n",
        "import time\n",
        "from scoop import futures\n",
        "\n",
        "def simulateWorkload(inputData):\n",
        "  time.sleep(0.01)\n",
        "  return sum(inputData)\n",
        "\n",
        "def CompareMapReduce():\n",
        "  mapScoopTime = time.time()\n",
        "  res = futures.mapReduce(simulateWorkload, operator.add, list([a] * a for a in range(1000)),)\n",
        "  mapScoopTime = time.time() - mapScoopTime\n",
        "\n",
        "  print(\"futures.map in SCOOP executed in {0:.3f}s with result:{1}\".format(mapScoopTime, res))\n",
        "\n",
        "  mapPythonTime = time.time()\n",
        "  res = sum(map(simulateWorkload,list([a] * a for a in range(1000))))\n",
        "  mapPythonTime = time.time() - mapPythonTime\n",
        "  print(\"map Python executed in: {0:.3f}s with result: {1}\".format(mapPythonTime,res))\n",
        "\n",
        "if __name__ == '__main__':\n",
        "  CompareMapReduce()\n",
        "  \"\"\"\n",
        "\n",
        "# pi_calculus_with_montecarlo_method.py\n",
        "with open('/content/map_reduce.py', 'w') as f:\n",
        "  f.write(map_reduce.__doc__)\n",
        "  \n",
        "!python -m scoop map_reduce.py"
      ],
      "execution_count": 12,
      "outputs": [
        {
          "output_type": "stream",
          "name": "stdout",
          "text": [
            "[2021-11-25 18:56:40,432] launcher  INFO    SCOOP 0.7 1.1 on linux using Python 3.7.12 (default, Sep 10 2021, 00:21:48) [GCC 7.5.0], API: 1013\n",
            "[2021-11-25 18:56:40,433] launcher  INFO    Deploying 2 worker(s) over 1 host(s).\n",
            "[2021-11-25 18:56:40,433] launcher  INFO    Worker distribution: \n",
            "[2021-11-25 18:56:40,433] launcher  INFO       127.0.0.1:\t1 + origin\n",
            "futures.map in SCOOP executed in 5.569s with result:332833500\n",
            "map Python executed in: 10.183s with result: 332833500\n",
            "[2021-11-25 18:56:56,744] launcher  (127.0.0.1:34509) INFO    Root process is done.\n",
            "[2021-11-25 18:56:56,745] launcher  (127.0.0.1:34509) INFO    Finished cleaning spawned subprocesses.\n"
          ]
        }
      ]
    },
    {
      "cell_type": "markdown",
      "metadata": {
        "id": "RA4EtWU3QC37"
      },
      "source": [
        "**Remote Method Invocation with Pyro4**"
      ]
    },
    {
      "cell_type": "code",
      "metadata": {
        "colab": {
          "base_uri": "https://localhost:8080/"
        },
        "id": "huGE6uUNQFCe",
        "outputId": "737da177-5d74-491b-957e-bfea32c12bf5"
      },
      "source": [
        "!pip install Pyro4"
      ],
      "execution_count": 27,
      "outputs": [
        {
          "output_type": "stream",
          "name": "stdout",
          "text": [
            "Requirement already satisfied: Pyro4 in /usr/local/lib/python3.7/dist-packages (4.81)\n",
            "Requirement already satisfied: serpent>=1.27 in /usr/local/lib/python3.7/dist-packages (from Pyro4) (1.40)\n"
          ]
        }
      ]
    },
    {
      "cell_type": "markdown",
      "metadata": {
        "id": "hZ2PEWnSUqyK"
      },
      "source": [
        "Для корректной работы программы необходимо использовать декоратор @Pyro4.expose, иначе возникает следующая ошибка:\n",
        "\n",
        "```\n",
        "doesn't expose any methods or attributes. Did you forget setting @expose on them?\n",
        "```"
      ]
    },
    {
      "cell_type": "code",
      "metadata": {
        "id": "HF9YfnUtNkuA"
      },
      "source": [
        "def server():\n",
        "  \"\"\"\n",
        "import Pyro4\n",
        "\n",
        "@Pyro4.expose\n",
        "class Server(object):\n",
        "  def welcomeMessage(self, name):\n",
        "    return (\"Hi welcome \" + str (name))\n",
        "\n",
        "  def shutdown(self):\n",
        "    print('shutting down...')\n",
        "    self.running = False\n",
        "\n",
        "def startServer():\n",
        "  server = Server()\n",
        "  daemon = Pyro4.Daemon()\n",
        "  ns = Pyro4.locateNS()\n",
        "  uri = daemon.register(server)\n",
        "  ns.register(\"server\", uri)\n",
        "  print(\"Ready. Object uri =\", uri)\n",
        "  daemon.requestLoop()\n",
        "  daemon.close()\n",
        "\n",
        "if __name__ == \"__main__\":\n",
        "  startServer()\n",
        "  \"\"\"\n",
        "\n",
        "# server.py\n",
        "with open('/content/server.py', 'w') as f:\n",
        "  f.write(server.__doc__)\n",
        "\n",
        "def client():\n",
        "  \"\"\"\n",
        "import Pyro4\n",
        "\n",
        "uri = input(\"What is the Pyro uri of the greeting object? \").strip()\n",
        "name = input(\"What is your name? \").strip()\n",
        "server = Pyro4.Proxy(\"PYRONAME:server\")\n",
        "print(server.welcomeMessage(name))\n",
        "server.shutdown()\n",
        "server._pyroRelease()\n",
        "print('client exiting')\n",
        "  \"\"\"\n",
        "\n",
        "# client.py\n",
        "with open('/content/client.py', 'w') as f:\n",
        "  f.write(client.__doc__)\n"
      ],
      "execution_count": 2,
      "outputs": []
    },
    {
      "cell_type": "markdown",
      "metadata": {
        "id": "303Qfq47hOku"
      },
      "source": [
        "Немного схитрим и поставим таймаут в 30 секунд на выполнение процессов для корректного отображения лабораторной, т.к. один из процессов выполняется бесконечно долго."
      ]
    },
    {
      "cell_type": "code",
      "metadata": {
        "colab": {
          "base_uri": "https://localhost:8080/"
        },
        "id": "AgwzBmCCNmKs",
        "outputId": "37ce07f2-4b96-44ca-ec5b-430ef94bc7b0"
      },
      "source": [
        "!timeout -s KILL 30 python -m Pyro4.naming & timeout -s KILL 30 python server.py & timeout -s KILL 30 python client.py"
      ],
      "execution_count": 4,
      "outputs": [
        {
          "output_type": "stream",
          "name": "stdout",
          "text": [
            "What is the Pyro uri of the greeting object? Not starting broadcast server for localhost.\n",
            "NS running on localhost:9090 (127.0.0.1)\n",
            "Warning: HMAC key not set. Anyone can connect to this server!\n",
            "URI = PYRO:Pyro.NameServer@localhost:9090\n",
            "Ready. Object uri = PYRO:obj_09235af1e69e40ae919531a94ade2eec@localhost:41363\n",
            "PYRO:obj_09235af1e69e40ae919531a94ade2eec@localhost:41363\n",
            "What is your name? Stanislav\n",
            "Hi welcome Stanislav\n",
            "shutting down...\n",
            "client exiting\n"
          ]
        }
      ]
    },
    {
      "cell_type": "markdown",
      "metadata": {
        "id": "g8Z5i9OnhvOH"
      },
      "source": [
        "**Chaining objects with Pyro4**"
      ]
    },
    {
      "cell_type": "markdown",
      "metadata": {
        "id": "d2iWetb2q3m1"
      },
      "source": [
        "Возникает ошибка при выполнении кода из учебника:\n",
        "```\n",
        " NameError: name 'chain' is not defined\n",
        "```\n",
        "Опечатка в функции server_2 и server_3\n",
        "\n",
        "```\n",
        "obj = chain.chainTopology(this_server, next)\n",
        "```\n",
        "Должно быть:\n",
        "```\n",
        "obj = chainTopology.Chain(this_server, next)\n",
        "```"
      ]
    },
    {
      "cell_type": "markdown",
      "metadata": {
        "id": "HNVUZ02psUjl"
      },
      "source": [
        "Pyro4.errors.NamingError: unknown name: example.chain.A"
      ]
    },
    {
      "cell_type": "markdown",
      "metadata": {
        "id": "1qA_cNm5sP5_"
      },
      "source": [
        "Возникает ошибка при выполнении функции кода из учебника:\n",
        "```\n",
        " obj = Pyro4.core.Proxy(\"PYRONAME:example.chain.A\")\n",
        "```\n",
        "Опечатка в функции client\n",
        "\n",
        "```\n",
        "obj = Pyro4.core.Proxy(\"PYRONAME:example.chain.A\")\n",
        "```\n",
        "Должно быть:\n",
        "```\n",
        "obj = Pyro4.core.Proxy(\"PYRONAME:example.chainTopology.1\")\n",
        "```\n",
        "\n"
      ]
    },
    {
      "cell_type": "markdown",
      "metadata": {
        "id": "FioQkYPRuOto"
      },
      "source": [
        "Возникает ошибка при выполнении функции кода из учебника:\n",
        "```\n",
        "Pyro4.errors.NamingError: unknown name: example.chainTopology.1\n",
        "```\n",
        "Опечатка в функции client\n",
        "\n",
        "```\n",
        "Pyro4.errors.NamingError: unknown name: example.chainTopology.1\n",
        "```\n",
        "Должно быть:\n",
        "```\n",
        "self.next = Pyro4.core.Proxy(\"PYRONAME:example.chainTopology.\" + self.nextName)\n",
        "\n",
        "```\n",
        "\n"
      ]
    },
    {
      "cell_type": "code",
      "metadata": {
        "id": "__WCSLB7h46F"
      },
      "source": [
        "def client():\n",
        "  \"\"\"\n",
        "from __future__ import print_function\n",
        "import Pyro4\n",
        "\n",
        "obj = Pyro4.core.Proxy(\"PYRONAME:example.chainTopology.1\")\n",
        "print(\"Result=%s\" % obj.process([\"hello\"]))\n",
        "  \"\"\"\n",
        "# client.py\n",
        "with open('/content/client.py', 'w') as f:\n",
        "  f.write(client.__doc__)\n",
        "\n",
        "def server_1():\n",
        "  \"\"\"\n",
        "from __future__ import print_function\n",
        "import Pyro4\n",
        "import chainTopology\n",
        "\n",
        "this = \"1\"\n",
        "next = \"2\"\n",
        "servername = \"example.chainTopology.\" + this\n",
        "daemon = Pyro4.core.Daemon()\n",
        "obj = chainTopology.Chain(this, next)\n",
        "uri = daemon.register(obj)\n",
        "ns = Pyro4.locateNS()\n",
        "ns.register(servername, uri)\n",
        "\n",
        "# enter the service loop.\n",
        "print(\"server_%s started \" % this)\n",
        "daemon.requestLoop()\n",
        "  \"\"\"\n",
        "\n",
        "# server_1.py\n",
        "with open('/content/server_1.py', 'w') as f:\n",
        "  f.write(server_1.__doc__)\n",
        "\n",
        "\n",
        "\n",
        "def server_2():\n",
        "  \"\"\"\n",
        "from __future__ import print_function\n",
        "import Pyro4\n",
        "import chainTopology\n",
        "\n",
        "this = \"2\"\n",
        "next = \"3\"\n",
        "servername = \"example.chainTopology.\" + this\n",
        "daemon = Pyro4.core.Daemon()\n",
        "obj = chainTopology.Chain(this, next)\n",
        "uri = daemon.register(obj)\n",
        "ns = Pyro4.locateNS()\n",
        "ns.register(servername, uri)\n",
        "# enter the service loop.\n",
        "print(\"server_%s started \" % this)\n",
        "daemon.requestLoop()\n",
        "  \"\"\"\n",
        "\n",
        "# server_2.py\n",
        "with open('/content/server_2.py', 'w') as f:\n",
        "  f.write(server_2.__doc__)\n",
        "\n",
        "\n",
        "def server_3():\n",
        "  \"\"\"\n",
        "from __future__ import print_function\n",
        "import Pyro4\n",
        "import chainTopology\n",
        "\n",
        "this = \"3\"\n",
        "next = \"1\"\n",
        "servername = \"example.chainTopology.\" + this\n",
        "daemon = Pyro4.core.Daemon()\n",
        "obj = chainTopology.Chain(this, next)\n",
        "uri = daemon.register(obj)\n",
        "ns = Pyro4.locateNS()\n",
        "ns.register(servername, uri)\n",
        "# enter the service loop.\n",
        "print(\"server_%s started \" % this)\n",
        "daemon.requestLoop()\n",
        "  \"\"\"\n",
        "# server_3.py\n",
        "with open('/content/server_3.py', 'w') as f:\n",
        "  f.write(server_3.__doc__)\n",
        "\n",
        "def chainTopology():\n",
        "  \"\"\"\n",
        "from __future__ import print_function\n",
        "import Pyro4\n",
        "\n",
        "@Pyro4.expose\n",
        "class Chain(object):\n",
        "    def __init__(self, name, next):\n",
        "        self.name = name\n",
        "        self.nextName = next\n",
        "        self.next = None\n",
        "\n",
        "    def process(self, message):\n",
        "        if self.next is None:\n",
        "            self.next = Pyro4.core.Proxy(\"PYRONAME:example.chainTopology.\" + self.nextName)\n",
        "        if self.name in message:\n",
        "            print(\"Back at %s; the chain is closed!\" % self.name)\n",
        "            return [\"complete at \" + self.name]\n",
        "        else:\n",
        "            print(\"%s forwarding the message to the object %s\" % (self.name, self.nextName))\n",
        "            message.append(self.name)\n",
        "            result = self.next.process(message)\n",
        "            result.insert(0, \"passed on from \" + self.name)\n",
        "            return result\n",
        "            \n",
        "  \"\"\"\n",
        "# chainTopology.py \n",
        "with open('/content/chainTopology.py', 'w') as f:\n",
        "  f.write(chainTopology.__doc__)"
      ],
      "execution_count": 27,
      "outputs": []
    },
    {
      "cell_type": "code",
      "metadata": {
        "id": "eHOKV589h4wO",
        "outputId": "0fa82f2d-69a7-4fc7-ef36-b53ee71f65eb",
        "colab": {
          "base_uri": "https://localhost:8080/"
        }
      },
      "source": [
        "!timeout -s KILL 5 python -m Pyro4.naming & \\\n",
        "timeout -s KILL 5 python server_1.py & \\\n",
        "timeout -s KILL 5 python server_2.py & \\\n",
        "timeout -s KILL 5 python server_3.py & \\\n",
        "timeout -s KILL 5 python client.py\n"
      ],
      "execution_count": 28,
      "outputs": [
        {
          "output_type": "stream",
          "name": "stdout",
          "text": [
            "Not starting broadcast server for localhost.\n",
            "NS running on localhost:9090 (127.0.0.1)\n",
            "Warning: HMAC key not set. Anyone can connect to this server!\n",
            "URI = PYRO:Pyro.NameServer@localhost:9090\n",
            "server_2 started \n",
            "server_3 started \n",
            "server_1 started \n",
            "1 forwarding the message to the object 2\n",
            "2 forwarding the message to the object 3\n",
            "3 forwarding the message to the object 1\n",
            "Back at 1; the chain is closed!\n",
            "Result=['passed on from 1', 'passed on from 2', 'passed on from 3', 'complete at 1']\n"
          ]
        }
      ]
    },
    {
      "cell_type": "markdown",
      "metadata": {
        "id": "2VUdLmRbyqAL"
      },
      "source": [
        "**Developing a client-server application with\n",
        "Pyro4**"
      ]
    }
  ]
}