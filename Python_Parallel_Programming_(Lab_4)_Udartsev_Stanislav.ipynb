{
  "nbformat": 4,
  "nbformat_minor": 0,
  "metadata": {
    "colab": {
      "name": "Python Parallel Programming (Lab 4) - Udartsev Stanislav.ipynb",
      "provenance": [],
      "authorship_tag": "ABX9TyPRtFltHDdWBhB/zwwGH95F",
      "include_colab_link": true
    },
    "kernelspec": {
      "name": "python3",
      "display_name": "Python 3"
    },
    "language_info": {
      "name": "python"
    }
  },
  "cells": [
    {
      "cell_type": "markdown",
      "metadata": {
        "id": "view-in-github",
        "colab_type": "text"
      },
      "source": [
        "<a href=\"https://colab.research.google.com/github/Cru1zzz3/python-parallel-programming-cookbook/blob/main/Python_Parallel_Programming_(Lab_4)_Udartsev_Stanislav.ipynb\" target=\"_parent\"><img src=\"https://colab.research.google.com/assets/colab-badge.svg\" alt=\"Open In Colab\"/></a>"
      ]
    },
    {
      "cell_type": "markdown",
      "metadata": {
        "id": "_32deH2i69Sw"
      },
      "source": [
        "**Using the concurrent.futures Python\n",
        "modules**"
      ]
    },
    {
      "cell_type": "markdown",
      "metadata": {
        "id": "7C28yxJbHBWv"
      },
      "source": [
        "Используя пула потоков или процессов (pooling) указывает на специального менеджера, который используется для\n",
        "оптимизации и упрощения использования потоков и/или процессов в программе. С его помощью можно отправить задачу (или задачи), которые должны быть выполнены, менеджеру. Пул оснащен внутренней очередью ожидающих выполнения задач и рядом потоков или\n",
        "процессов, которые их выполняют.\n",
        "\n",
        "Из вывода можно увидеть, что наименьшее время занимает использования пула процессов."
      ]
    },
    {
      "cell_type": "code",
      "metadata": {
        "colab": {
          "base_uri": "https://localhost:8080/"
        },
        "id": "GWQGHKNl64KH",
        "outputId": "8fbc9321-18cf-4293-852c-3c0400a84e05"
      },
      "source": [
        "import concurrent.futures\n",
        "import time\n",
        "\n",
        "number_list = [1,2,3,4,5,6,7,8,9,10]\n",
        "\n",
        "def evaluate_item(x):\n",
        "  #count...just to make an operation\n",
        "  result_item = count(x)\n",
        "  #print the input item and the result\n",
        "  print (\"item \" + str(x) + \" result \" + str(result_item))\n",
        "\n",
        "def count(number) :\n",
        "  for i in range(0,10000000):\n",
        "    i=i+1\n",
        "  return i*number\n",
        "\n",
        "if __name__ == \"__main__\":\n",
        "  ##Sequential Execution\n",
        "  print(\"\\nSequential Execution:\")\n",
        "  start_time = time.process_time()\n",
        "  for item in number_list:\n",
        "    evaluate_item(item)\n",
        "    print (\"Sequential execution in \" + str(time.process_time() - start_time), \"seconds\")\n",
        "\n",
        "  ##Thread pool Execution\n",
        "  print(\"\\nThread pool Execution:\")\n",
        "  start_time_1 = time.process_time()\n",
        "  with concurrent.futures.ThreadPoolExecutor(max_workers=5) as executor:\n",
        "    for item in number_list:\n",
        "      executor.submit(evaluate_item, item)\n",
        "      print (\"Thread pool execution in \" + str(time.process_time() - start_time_1), \"seconds\")\n",
        "\n",
        "  ##Process pool Execution\n",
        "  print(\"\\nProcess pool Execution:\")\n",
        "  start_time_2 = time.process_time()\n",
        "  with concurrent.futures.ProcessPoolExecutor(max_workers=5) as executor:\n",
        "    for item in number_list:\n",
        "      executor.submit(evaluate_item, item)\n",
        "      print (\"Process pool execution in \" + str(time.process_time() - start_time_2), \"seconds\")"
      ],
      "execution_count": null,
      "outputs": [
        {
          "output_type": "stream",
          "name": "stdout",
          "text": [
            "\n",
            "Sequential Execution:\n",
            "item 1 result 10000000\n",
            "Sequential execution in 0.6619279889999987 seconds\n",
            "item 2 result 20000000\n",
            "Sequential execution in 1.3247391139999962 seconds\n",
            "item 3 result 30000000\n",
            "Sequential execution in 1.9858085959999983 seconds\n",
            "item 4 result 40000000\n",
            "Sequential execution in 2.660087007999998 seconds\n",
            "item 5 result 50000000\n",
            "Sequential execution in 3.3117808319999966 seconds\n",
            "item 6 result 60000000\n",
            "Sequential execution in 3.971531376999998 seconds\n",
            "item 7 result 70000000\n",
            "Sequential execution in 4.636356452000001 seconds\n",
            "item 8 result 80000000\n",
            "Sequential execution in 5.307656193999996 seconds\n",
            "item 9 result 90000000\n",
            "Sequential execution in 5.971374175000001 seconds\n",
            "item 10 result 100000000\n",
            "Sequential execution in 6.635407960000002 seconds\n",
            "\n",
            "Thread pool Execution:\n",
            "Thread pool execution in 0.005431237999999894 seconds\n",
            "Thread pool execution in 0.022353432000002726 seconds\n",
            "Thread pool execution in 0.12701058300000057 seconds\n",
            "Thread pool execution in 0.14444479700000556 seconds\n",
            "Thread pool execution in 0.1815273469999994 seconds\n",
            "Thread pool execution in 0.18173027000000275 seconds\n",
            "Thread pool execution in 0.18182448800000373 seconds\n",
            "Thread pool execution in 0.1819300260000034 seconds\n",
            "Thread pool execution in 0.1820285010000049 seconds\n",
            "Thread pool execution in 0.18212624699999935 seconds\n",
            "item 5 result 50000000\n",
            "item 3 result 30000000\n",
            "item 1 result 10000000\n",
            "item 2 result 20000000\n",
            "item 4 result 40000000\n",
            "item 6 result 60000000\n",
            "item 7 result 70000000\n",
            "item 8 result 80000000\n",
            "item 9 result 90000000\n",
            "item 10 result 100000000\n",
            "\n",
            "Process pool Execution:\n",
            "Process pool execution in 0.033759258000003456 seconds\n",
            "Process pool execution in 0.03444480400000316 seconds\n",
            "Process pool execution in 0.03457426100000305 seconds\n",
            "Process pool execution in 0.03464686899999947 seconds\n",
            "Process pool execution in 0.03474979899999653 seconds\n",
            "Process pool execution in 0.034839544000000444 seconds\n",
            "Process pool execution in 0.034929075999997394 seconds\n",
            "Process pool execution in 0.03544736700000328 seconds\n",
            "Process pool execution in 0.035554777999998066 seconds\n",
            "Process pool execution in 0.03564004799999765 seconds\n",
            "item 2 result 20000000\n",
            "item 4 result 40000000\n",
            "item 5 result 50000000\n",
            "item 3 result 30000000\n",
            "item 1 result 10000000\n",
            "item 6 result 60000000\n",
            "item 10 result 100000000\n",
            "item 9 result 90000000\n",
            "item 8 result 80000000\n",
            "item 7 result 70000000\n"
          ]
        }
      ]
    },
    {
      "cell_type": "markdown",
      "metadata": {
        "id": "KLp68MNyIkU1"
      },
      "source": [
        "**Event loop management with Asyncio**"
      ]
    },
    {
      "cell_type": "markdown",
      "metadata": {
        "id": "ObQOYmUN-FXP"
      },
      "source": [
        "Для любой функции asyncio для запуска в colab нельзя вызвать цикл.run_forever(...), так как цикл, который вы получите от asyncio.get_event_loop(), будет активным (running=True). И при вызове loop.run_forever() отобразиться ошибка \"**RuntimeError: This event loop is already running**\"\n",
        "\n",
        "Выходом из этой ситауции будет запуск этого скрипта напрямую через python в colab из отдельного файла:"
      ]
    },
    {
      "cell_type": "code",
      "metadata": {
        "colab": {
          "base_uri": "https://localhost:8080/"
        },
        "id": "obot8Wzb7Ti-",
        "outputId": "89efb2fc-7854-4089-f2a4-3ef9c9a9c114"
      },
      "source": [
        "def asyncio_loop():\n",
        "  \"\"\"\n",
        "import asyncio\n",
        "import datetime\n",
        "import time\n",
        "\n",
        "def function_1(end_time, loop):\n",
        "  print (\"function_1 called\")\n",
        "  if (loop.time() + 1.0) < end_time:\n",
        "    loop.call_later(1, function_2, end_time, loop)\n",
        "  else:\n",
        "    loop.stop()\n",
        "\n",
        "\n",
        "def function_2(end_time, loop):\n",
        "  print (\"function_2 called \")\n",
        "  if (loop.time() + 1.0) < end_time:\n",
        "    loop.call_later(1, function_3, end_time, loop)\n",
        "  else:\n",
        "    loop.stop()\n",
        "\n",
        "def function_3(end_time, loop):\n",
        "  print (\"function_3 called\")\n",
        "  if (loop.time() + 1.0) < end_time:\n",
        "    loop.call_later(1, function_1, end_time, loop)\n",
        "  else:\n",
        "    loop.stop()\n",
        "\n",
        "def function_4(end_time, loop):\n",
        "  print (\"function_5 called\")\n",
        "  if (loop.time() + 1.0) < end_time:\n",
        "    loop.call_later(1, function_4, end_time, loop)\n",
        "  else:\n",
        "    loop.stop()\n",
        "\n",
        "loop = asyncio.get_event_loop()\n",
        "\n",
        "end_loop = loop.time() + 9.0\n",
        "loop.call_soon(function_1, end_loop, loop)\n",
        "#loop.call_soon(function_4, end_loop, loop)\n",
        "\n",
        "loop.run_forever()\n",
        "loop.close()\n",
        "  \"\"\"\n",
        "\n",
        "# asyncio_loop.py\n",
        "with open('/content/asyncio_loop.py', 'w') as f:\n",
        "  f.write(asyncio_loop.__doc__)\n",
        "\n",
        "\n",
        "!python '/content/asyncio_loop.py'"
      ],
      "execution_count": null,
      "outputs": [
        {
          "output_type": "stream",
          "name": "stdout",
          "text": [
            "function_1 called\n",
            "function_2 called \n",
            "function_3 called\n",
            "function_1 called\n",
            "function_2 called \n",
            "function_3 called\n",
            "function_1 called\n",
            "function_2 called \n",
            "function_3 called\n"
          ]
        }
      ]
    },
    {
      "cell_type": "markdown",
      "metadata": {
        "id": "_IWT2wj9_9Cn"
      },
      "source": [
        "**Handling coroutines with Asyncio**"
      ]
    },
    {
      "cell_type": "markdown",
      "metadata": {
        "id": "H7yHtEefSltZ"
      },
      "source": [
        "Корутины(coroutines) вычисляют один вычислительный шаг, а также не используют  функцию для координации результатов между собой, в отличии от подпрограмм. Корутины соединяются вместе, образуя конвейер, без какой-либо надзорной функции, ответственной за их вызов в определенном порядке. В корутине точка выполнения может быть приостановлена и возобновлена позже после отслеживания ее локального состояния за прошедшее время. Имея пул корутин, можно чередовать их вычисления: запускать первую, пока она не вернет управление, затем запускать вторую и так далее. "
      ]
    },
    {
      "cell_type": "code",
      "metadata": {
        "colab": {
          "base_uri": "https://localhost:8080/"
        },
        "id": "RiR7h5lj__BL",
        "outputId": "f1f01ed6-f2ff-4d0d-958d-843827ed9901"
      },
      "source": [
        "def asyncio_state_machine():\n",
        "  \"\"\"\n",
        "import asyncio\n",
        "import time\n",
        "from random import randint\n",
        "\n",
        "@asyncio.coroutine\n",
        "def StartState():\n",
        "  print (\"Start State called \\\\n\")\n",
        "  input_value = randint(0,1)\n",
        "  time.sleep(1)\n",
        "  if (input_value == 0):\n",
        "    result = yield from State2(input_value)\n",
        "  else :\n",
        "    result = yield from State1(input_value)\n",
        "  print(\"Resume of the Transition : \\\\nStart State calling \" + result)\n",
        "\n",
        "@asyncio.coroutine\n",
        "def State1(transition_value):\n",
        "  outputValue = str((\"State 1 with transition value = %s \\\\n\" %(transition_value)))\n",
        "  input_value = randint(0,1)\n",
        "  time.sleep(1)\n",
        "  print(\"...Evaluating...\")\n",
        "  if (input_value == 0):\n",
        "    result = yield from State3(input_value)\n",
        "  else :\n",
        "    result = yield from State2(input_value)\n",
        "  result = \"State 1 calling \" + result\n",
        "  return (outputValue + str(result))\n",
        "\n",
        "@asyncio.coroutine\n",
        "def State2(transition_value):\n",
        "  outputValue = str((\"State 2 with transition value = %s \\\\n\"  %(transition_value)))\n",
        "  input_value = randint(0,1)\n",
        "  time.sleep(1)\n",
        "  print(\"...Evaluating...\")\n",
        "  if (input_value == 0):\n",
        "    result = yield from State1(input_value)\n",
        "  else :\n",
        "    result = yield from State3(input_value)\n",
        "  result = \"State 2 calling \" + result\n",
        "  return (outputValue + str(result))\n",
        "\n",
        "@asyncio.coroutine\n",
        "def State3(transition_value):\n",
        "  outputValue = str((\"State 3 with transition value = %s \\\\n\" %(transition_value)))\n",
        "  input_value = randint(0,1)\n",
        "  time.sleep(1)\n",
        "  print(\"...Evaluating...\")\n",
        "  if (input_value == 0):\n",
        "    result = yield from State1(input_value)\n",
        "  else :\n",
        "    result = yield from EndState(input_value)\n",
        "  result = \"State 3 calling \" + result\n",
        "  return (outputValue + str(result))\n",
        "\n",
        "@asyncio.coroutine\n",
        "def EndState(transition_value):\n",
        "  outputValue = str((\"End State with transition value = %s \\\\n\" %(transition_value)))\n",
        "  print(\"...Stop Computation...\")\n",
        "  return (outputValue )\n",
        "\n",
        "\n",
        "if __name__ == \"__main__\":\n",
        "  print(\"Finite State Machine simulation with Asyncio Coroutine\")\n",
        "  loop = asyncio.get_event_loop()\n",
        "  loop.run_until_complete(StartState())\n",
        "\n",
        "  \"\"\"\n",
        "  \n",
        "# asyncio_state_machine.py\n",
        "with open('/content/asyncio_state_machine.py', 'w') as f:\n",
        "  f.write(asyncio_state_machine.__doc__)\n",
        "\n",
        "\n",
        "!python '/content/asyncio_state_machine.py'"
      ],
      "execution_count": null,
      "outputs": [
        {
          "output_type": "stream",
          "name": "stdout",
          "text": [
            "Finite State Machine simulation with Asyncio Coroutine\n",
            "Start State called \n",
            "\n",
            "...Evaluating...\n",
            "...Evaluating...\n",
            "...Evaluating...\n",
            "...Evaluating...\n",
            "...Evaluating...\n",
            "...Evaluating...\n",
            "...Evaluating...\n",
            "...Evaluating...\n",
            "...Stop Computation...\n",
            "Resume of the Transition : \n",
            "Start State calling State 1 with transition value = 1 \n",
            "State 1 calling State 2 with transition value = 1 \n",
            "State 2 calling State 1 with transition value = 0 \n",
            "State 1 calling State 2 with transition value = 1 \n",
            "State 2 calling State 3 with transition value = 1 \n",
            "State 3 calling State 1 with transition value = 0 \n",
            "State 1 calling State 2 with transition value = 1 \n",
            "State 2 calling State 3 with transition value = 1 \n",
            "State 3 calling End State with transition value = 1 \n",
            "\n"
          ]
        }
      ]
    },
    {
      "cell_type": "markdown",
      "metadata": {
        "id": "QwuW_RueNZJn"
      },
      "source": [
        "**Task manipulation with Asyncio**"
      ]
    },
    {
      "cell_type": "markdown",
      "metadata": {
        "id": "u3eaIBPUPAch"
      },
      "source": [
        "Asyncio предназначен для обработки асинхронных процессов и одновременного выполнения задач в цикле\n",
        "событий (event loop). Для того, чтобы использовать задачу в корутине и обеспечить асинхронность используется класс Task() для обертывания. Это позволяет независимо выполняемым задачам выполняться одновременно с\n",
        "другими задачами в том же цикле событий. При обёртывании корутины в задачу, она подключает\n",
        "задачу к циклу событий, а затем автоматически запускается при старте цикла, обеспечивая тем самым\n",
        "механизм автоматического управления корутиной."
      ]
    },
    {
      "cell_type": "code",
      "metadata": {
        "colab": {
          "base_uri": "https://localhost:8080/"
        },
        "id": "ikDnvmV9NwEZ",
        "outputId": "4794cc68-8abd-465f-9492-f999da5ae612"
      },
      "source": [
        "def asyncio_Task():\n",
        "  \"\"\"\n",
        "import asyncio\n",
        "\n",
        "@asyncio.coroutine\n",
        "def factorial(number):\n",
        "  f = 1\n",
        "  for i in range(2, number+1):\n",
        "    print(\"Asyncio.Task: Compute factorial(%s)\" % (i))\n",
        "    yield from asyncio.sleep(1)\n",
        "    f *= i\n",
        "  print(\"Asyncio.Task - factorial(%s) = %s\" % (number, f))\n",
        "\n",
        "@asyncio.coroutine\n",
        "def fibonacci(number):\n",
        "  a, b = 0, 1\n",
        "  for i in range(number):\n",
        "    print(\"Asyncio.Task: Compute fibonacci (%s)\" % (i))\n",
        "    yield from asyncio.sleep(1)\n",
        "    a, b = b, a + b\n",
        "  print(\"Asyncio.Task - fibonacci(%s) = %s\" % (number, a))\n",
        "\n",
        "\n",
        "@asyncio.coroutine\n",
        "def binomialCoeff(n, k):\n",
        "  result = 1\n",
        "  for i in range(1, k+1):\n",
        "    result = result * (n-i+1) / i\n",
        "    print(\"Asyncio.Task: Compute binomialCoeff (%s)\" % (i))\n",
        "    yield from asyncio.sleep(1)\n",
        "  print(\"Asyncio.Task - binomialCoeff(%s , %s) = %s\" % (n,k,result))\n",
        "\n",
        "\n",
        "if __name__ == \"__main__\":\n",
        "  tasks = [asyncio.Task(factorial(10)), asyncio.Task(fibonacci(10)), asyncio.Task(binomialCoeff(20,10))]\n",
        "  loop = asyncio.get_event_loop()\n",
        "  loop.run_until_complete(asyncio.wait(tasks))\n",
        "  loop.close()\n",
        "  \"\"\"\n",
        "\n",
        "# asyncio_Task.py\n",
        "with open('/content/asyncio_Task.py', 'w') as f:\n",
        "  f.write(asyncio_Task.__doc__)\n",
        "\n",
        "\n",
        "!python '/content/asyncio_Task.py'\n",
        "\n"
      ],
      "execution_count": null,
      "outputs": [
        {
          "output_type": "stream",
          "name": "stdout",
          "text": [
            "Asyncio.Task: Compute factorial(2)\n",
            "Asyncio.Task: Compute fibonacci (0)\n",
            "Asyncio.Task: Compute binomialCoeff (1)\n",
            "Asyncio.Task: Compute factorial(3)\n",
            "Asyncio.Task: Compute fibonacci (1)\n",
            "Asyncio.Task: Compute binomialCoeff (2)\n",
            "Asyncio.Task: Compute factorial(4)\n",
            "Asyncio.Task: Compute fibonacci (2)\n",
            "Asyncio.Task: Compute binomialCoeff (3)\n",
            "Asyncio.Task: Compute factorial(5)\n",
            "Asyncio.Task: Compute fibonacci (3)\n",
            "Asyncio.Task: Compute binomialCoeff (4)\n",
            "Asyncio.Task: Compute factorial(6)\n",
            "Asyncio.Task: Compute fibonacci (4)\n",
            "Asyncio.Task: Compute binomialCoeff (5)\n",
            "Asyncio.Task: Compute factorial(7)\n",
            "Asyncio.Task: Compute fibonacci (5)\n",
            "Asyncio.Task: Compute binomialCoeff (6)\n",
            "Asyncio.Task: Compute factorial(8)\n",
            "Asyncio.Task: Compute fibonacci (6)\n",
            "Asyncio.Task: Compute binomialCoeff (7)\n",
            "Asyncio.Task: Compute factorial(9)\n",
            "Asyncio.Task: Compute fibonacci (7)\n",
            "Asyncio.Task: Compute binomialCoeff (8)\n",
            "Asyncio.Task: Compute factorial(10)\n",
            "Asyncio.Task: Compute fibonacci (8)\n",
            "Asyncio.Task: Compute binomialCoeff (9)\n",
            "Asyncio.Task - factorial(10) = 3628800\n",
            "Asyncio.Task: Compute fibonacci (9)\n",
            "Asyncio.Task: Compute binomialCoeff (10)\n",
            "Asyncio.Task - fibonacci(10) = 55\n",
            "Asyncio.Task - binomialCoeff(20 , 10) = 184756.0\n"
          ]
        }
      ]
    },
    {
      "cell_type": "markdown",
      "metadata": {
        "id": "1r_Mb8ztDpK9"
      },
      "source": [
        "**Dealing with Asyncio and Futures**"
      ]
    },
    {
      "cell_type": "markdown",
      "metadata": {
        "id": "YwOAh3XpLdDY"
      },
      "source": [
        "Ключевым компонентом модуля Asyncio является класс Future. Это очень похоже на\n",
        "concurrent.futures.Futures, адаптированный для механизма\n",
        "event_loop Asyncio. Асинхронный класс Future предоставляет результат, который еще не доступен, т.е. это некоторая абстракцию чего-то, что\n",
        "еще предстоит выполнить.\n"
      ]
    },
    {
      "cell_type": "code",
      "metadata": {
        "id": "ebXvD7Y3Dp68"
      },
      "source": [
        "def Asyncio_future():\n",
        "  \"\"\"\n",
        "import asyncio\n",
        "import sys\n",
        "\n",
        "#SUM OF N INTEGERS\n",
        "@asyncio.coroutine\n",
        "def first_coroutine(future,N):\n",
        "  count = 0\n",
        "  for i in range(1,N+1):\n",
        "    count=count + i\n",
        "  yield from asyncio.sleep(4)\n",
        "  future.set_result(\"first coroutine (sum of N integers) result = \"  + str(count))\n",
        "\n",
        "#FACTORIAL(N)\n",
        "@asyncio.coroutine\n",
        "def second_coroutine(future,N):\n",
        "  count = 1\n",
        "  for i in range(2, N+1):\n",
        "    count *= i\n",
        "  yield from asyncio.sleep(3)\n",
        "  future.set_result(\"second coroutine (factorial) result = \" + str(count))\n",
        "\n",
        "def got_result(future):\n",
        "  print(future.result())\n",
        "\n",
        "if __name__ == \"__main__\":\n",
        "  N1 = int(sys.argv[1])\n",
        "  N2 = int(sys.argv[2])\n",
        "\n",
        "  loop = asyncio.get_event_loop()\n",
        "  future1 = asyncio.Future()\n",
        "  future2 = asyncio.Future()\n",
        "\n",
        "  tasks = [\n",
        "    first_coroutine(future1,N1),\n",
        "    second_coroutine(future2,N2)]\n",
        "\n",
        "  future1.add_done_callback(got_result)\n",
        "  future2.add_done_callback(got_result)\n",
        "\n",
        "  loop.run_until_complete(asyncio.wait(tasks))\n",
        "  loop.close()\n",
        "  \"\"\"\n",
        "\n",
        " # Asyncio_future.py\n",
        "with open('/content/Asyncio_future.py', 'w') as f:\n",
        "  f.write(Asyncio_future.__doc__)"
      ],
      "execution_count": null,
      "outputs": []
    },
    {
      "cell_type": "code",
      "metadata": {
        "colab": {
          "base_uri": "https://localhost:8080/"
        },
        "id": "17LR5FryEw7f",
        "outputId": "db04c22a-8e0e-4dec-d509-e0b9ee41238b"
      },
      "source": [
        "!python '/content/Asyncio_future.py'  1 1"
      ],
      "execution_count": null,
      "outputs": [
        {
          "output_type": "stream",
          "name": "stdout",
          "text": [
            "second coroutine (factorial) result = 1\n",
            "first coroutine (sum of N integers) result = 1\n"
          ]
        }
      ]
    },
    {
      "cell_type": "code",
      "metadata": {
        "colab": {
          "base_uri": "https://localhost:8080/"
        },
        "id": "4hG9bNXkEyR0",
        "outputId": "a2e28260-a655-46ba-d340-6e2fb0cfdacf"
      },
      "source": [
        "!python '/content/Asyncio_future.py'  2 2 "
      ],
      "execution_count": null,
      "outputs": [
        {
          "output_type": "stream",
          "name": "stdout",
          "text": [
            "second coroutine (factorial) result = 2\n",
            "first coroutine (sum of N integers) result = 3\n"
          ]
        }
      ]
    },
    {
      "cell_type": "code",
      "metadata": {
        "colab": {
          "base_uri": "https://localhost:8080/"
        },
        "id": "raca1ucuEzjo",
        "outputId": "f65e523d-dcb6-4680-ecf5-bed491843a68"
      },
      "source": [
        "!python '/content/Asyncio_future.py'  3 3"
      ],
      "execution_count": null,
      "outputs": [
        {
          "output_type": "stream",
          "name": "stdout",
          "text": [
            "second coroutine (factorial) result = 6\n",
            "first coroutine (sum of N integers) result = 6\n"
          ]
        }
      ]
    },
    {
      "cell_type": "code",
      "metadata": {
        "colab": {
          "base_uri": "https://localhost:8080/"
        },
        "id": "xbGuH7HVE1mM",
        "outputId": "ee0a53e8-a462-4561-c16a-9423479f51fa"
      },
      "source": [
        "!python '/content/Asyncio_future.py'  5 5 "
      ],
      "execution_count": null,
      "outputs": [
        {
          "output_type": "stream",
          "name": "stdout",
          "text": [
            "second coroutine (factorial) result = 120\n",
            "first coroutine (sum of N integers) result = 15\n"
          ]
        }
      ]
    },
    {
      "cell_type": "code",
      "metadata": {
        "colab": {
          "base_uri": "https://localhost:8080/"
        },
        "id": "PzPSYmdIHM-Y",
        "outputId": "c819a484-7adf-47ad-8c2c-c3100fdb36c9"
      },
      "source": [
        "!python '/content/Asyncio_future.py'  1 10"
      ],
      "execution_count": null,
      "outputs": [
        {
          "output_type": "stream",
          "name": "stdout",
          "text": [
            "second coroutine (factorial) result = 3628800\n",
            "first coroutine (sum of N integers) result = 1\n"
          ]
        }
      ]
    },
    {
      "cell_type": "markdown",
      "metadata": {
        "id": "XhORcVfdM2ll"
      },
      "source": [
        "**Выводы**\n",
        "\n",
        "В данной лабораторной работе была рассмотрена концепцию асинхронного программирования для параллельного выполнения вычислительных задач.\n",
        "\n",
        "В данной работе рассмотрена работа с  библиотеками concurrent.futures, позволяющая работать с пулом потоков и процессов, а также с библиотекой  asyncio, позволяющая выполнять код асинхронно. \n",
        "\n",
        "Асинхронное программирование убирает блокирующую операцию из основного потока программы разделяя программу на отдельные единицы выполнения, работающие параллельно от основного потока или процесса. Некоторые способы организации асинхронного кода были представлены в книге: цикл событий(event loop), корутины(coroutines), futures. "
      ]
    }
  ]
}