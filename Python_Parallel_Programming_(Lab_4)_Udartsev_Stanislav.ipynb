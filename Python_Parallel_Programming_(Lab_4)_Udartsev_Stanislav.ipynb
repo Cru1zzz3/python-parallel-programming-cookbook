{
  "nbformat": 4,
  "nbformat_minor": 0,
  "metadata": {
    "colab": {
      "name": "Python Parallel Programming (Lab 4) - Udartsev Stanislav.ipynb",
      "provenance": [],
      "authorship_tag": "ABX9TyPG3CNgZvfT58nY6agh1sKP",
      "include_colab_link": true
    },
    "kernelspec": {
      "name": "python3",
      "display_name": "Python 3"
    },
    "language_info": {
      "name": "python"
    }
  },
  "cells": [
    {
      "cell_type": "markdown",
      "metadata": {
        "id": "view-in-github",
        "colab_type": "text"
      },
      "source": [
        "<a href=\"https://colab.research.google.com/github/Cru1zzz3/python-parallel-programming-cookbook/blob/main/Python_Parallel_Programming_(Lab_4)_Udartsev_Stanislav.ipynb\" target=\"_parent\"><img src=\"https://colab.research.google.com/assets/colab-badge.svg\" alt=\"Open In Colab\"/></a>"
      ]
    },
    {
      "cell_type": "markdown",
      "metadata": {
        "id": "_32deH2i69Sw"
      },
      "source": [
        "**Using the concurrent.futures Python\n",
        "modules**"
      ]
    },
    {
      "cell_type": "markdown",
      "metadata": {
        "id": "7C28yxJbHBWv"
      },
      "source": [
        "Используя пула потоков или процессов (pooling) указывает на специального менеджера, который используется для\n",
        "оптимизации и упрощения использования потоков и/или процессов в программе. С его помощью можно отправить задачу (или задачи), которые должны быть выполнены, менеджеру. Пул оснащен внутренней очередью ожидающих выполнения задач и рядом потоков или\n",
        "процессов, которые их выполняют."
      ]
    },
    {
      "cell_type": "code",
      "metadata": {
        "colab": {
          "base_uri": "https://localhost:8080/"
        },
        "id": "GWQGHKNl64KH",
        "outputId": "6d0ba769-f376-4ffc-81b7-02af82e86f4e"
      },
      "source": [
        "import concurrent.futures\n",
        "import time\n",
        "\n",
        "number_list = [1,2,3,4,5,6,7,8,9,10]\n",
        "\n",
        "def evaluate_item(x):\n",
        "  #count...just to make an operation\n",
        "  result_item = count(x)\n",
        "  #print the input item and the result\n",
        "  print (\"item \" + str(x) + \" result \" + str(result_item))\n",
        "\n",
        "def count(number) :\n",
        "  for i in range(0,10000000):\n",
        "    i=i+1\n",
        "  return i*number\n",
        "\n",
        "if __name__ == \"__main__\":\n",
        "  ##Sequential Execution\n",
        "  print(\"\\nSequential Execution:\")\n",
        "  start_time = time.process_time()\n",
        "  for item in number_list:\n",
        "    evaluate_item(item)\n",
        "    print (\"Sequential execution in \" + str(time.process_time() - start_time), \"seconds\")\n",
        "\n",
        "  ##Thread pool Execution\n",
        "  print(\"\\nThread pool Execution:\")\n",
        "  start_time_1 = time.process_time()\n",
        "  with concurrent.futures.ThreadPoolExecutor(max_workers=5) as executor:\n",
        "    for item in number_list:\n",
        "      executor.submit(evaluate_item, item)\n",
        "      print (\"Thread pool execution in \" + str(time.process_time() - start_time_1), \"seconds\")\n",
        "\n",
        "  ##Process pool Execution\n",
        "  print(\"\\nProcess pool Execution:\")\n",
        "  start_time_2 = time.process_time()\n",
        "  with concurrent.futures.ProcessPoolExecutor(max_workers=5) as executor:\n",
        "    for item in number_list:\n",
        "      executor.submit(evaluate_item, item)\n",
        "      print (\"Process pool execution in \" + str(time.process_time() - start_time_2), \"seconds\")"
      ],
      "execution_count": 7,
      "outputs": [
        {
          "output_type": "stream",
          "name": "stdout",
          "text": [
            "\n",
            "Sequential Execution:\n",
            "item 1 result 10000000\n",
            "Sequential execution in 0.6684678820000016 seconds\n",
            "item 2 result 20000000\n",
            "Sequential execution in 1.3276265709999997 seconds\n",
            "item 3 result 30000000\n",
            "Sequential execution in 1.9795539270000013 seconds\n",
            "item 4 result 40000000\n",
            "Sequential execution in 2.644781601000002 seconds\n",
            "item 5 result 50000000\n",
            "Sequential execution in 3.3095933029999998 seconds\n",
            "item 6 result 60000000\n",
            "Sequential execution in 3.962080982 seconds\n",
            "item 7 result 70000000\n",
            "Sequential execution in 4.626675780999999 seconds\n",
            "item 8 result 80000000\n",
            "Sequential execution in 5.294901711000001 seconds\n",
            "item 9 result 90000000\n",
            "Sequential execution in 5.945193436 seconds\n",
            "item 10 result 100000000\n",
            "Sequential execution in 6.609510094000001 seconds\n",
            "\n",
            "Thread pool Execution:\n",
            "Thread pool execution in 0.006094169000000704 seconds\n",
            "Thread pool execution in 0.04298867099999981 seconds\n",
            "Thread pool execution in 0.07502853000000087 seconds\n",
            "Thread pool execution in 0.08566785400000043 seconds\n",
            "Thread pool execution in 0.10136766600000158 seconds\n",
            "Thread pool execution in 0.10152164800000207 seconds\n",
            "Thread pool execution in 0.10512993800000103 seconds\n",
            "Thread pool execution in 0.14204445800000087 seconds\n",
            "Thread pool execution in 0.15257868400000163 seconds\n",
            "Thread pool execution in 0.15270883600000218 seconds\n",
            "item 2 result 20000000\n",
            "item 4 result 40000000\n",
            "item 1 result 10000000\n",
            "item 3 result 30000000\n",
            "item 5 result 50000000\n",
            "item 6 result 60000000\n",
            "item 7 result 70000000\n",
            "item 9 result 90000000\n",
            "item 8 result 80000000\n",
            "item 10 result 100000000\n",
            "\n",
            "Process pool Execution:\n",
            "Process pool execution in 0.032860260999999724 seconds\n",
            "Process pool execution in 0.03352531999999897 seconds\n",
            "Process pool execution in 0.033641458999998264 seconds\n",
            "Process pool execution in 0.03374225099999961 seconds\n",
            "Process pool execution in 0.033832687000000305 seconds\n",
            "Process pool execution in 0.03394629800000004 seconds\n",
            "Process pool execution in 0.03401652099999808 seconds\n",
            "Process pool execution in 0.03414378600000134 seconds\n",
            "Process pool execution in 0.034221328000000995 seconds\n",
            "Process pool execution in 0.03430631199999823 seconds\n",
            "item 2 result 20000000\n",
            "item 5 result 50000000\n",
            "item 4 result 40000000\n",
            "item 3 result 30000000\n",
            "item 1 result 10000000\n",
            "item 6 result 60000000\n",
            "item 10 result 100000000\n",
            "item 7 result 70000000\n",
            "item 8 result 80000000\n",
            "item 9 result 90000000\n"
          ]
        }
      ]
    },
    {
      "cell_type": "markdown",
      "metadata": {
        "id": "KLp68MNyIkU1"
      },
      "source": [
        "**Event loop management with Asyncio**"
      ]
    }
  ]
}