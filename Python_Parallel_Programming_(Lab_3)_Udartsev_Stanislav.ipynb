{
  "nbformat": 4,
  "nbformat_minor": 0,
  "metadata": {
    "colab": {
      "name": "Python Parallel Programming (Lab 3) - Udartsev Stanislav.ipynb",
      "provenance": [],
      "authorship_tag": "ABX9TyPQj3voaqmF8YxSb7qmxO1P",
      "include_colab_link": true
    },
    "kernelspec": {
      "name": "python3",
      "display_name": "Python 3"
    },
    "language_info": {
      "name": "python"
    }
  },
  "cells": [
    {
      "cell_type": "markdown",
      "metadata": {
        "id": "view-in-github",
        "colab_type": "text"
      },
      "source": [
        "<a href=\"https://colab.research.google.com/github/Cru1zzz3/python-parallel-programming-cookbook/blob/main/Python_Parallel_Programming_(Lab_3)_Udartsev_Stanislav.ipynb\" target=\"_parent\"><img src=\"https://colab.research.google.com/assets/colab-badge.svg\" alt=\"Open In Colab\"/></a>"
      ]
    },
    {
      "cell_type": "markdown",
      "metadata": {
        "id": "JyByeJs7Ubj7"
      },
      "source": [
        "**How to spawn a process**"
      ]
    },
    {
      "cell_type": "code",
      "metadata": {
        "colab": {
          "base_uri": "https://localhost:8080/",
          "height": 0
        },
        "id": "SUif7OmIWpTx",
        "outputId": "a87fb063-3ed3-4f38-e2af-a9d09829cf18"
      },
      "source": [
        "import multiprocessing\n",
        "\n",
        "def foo(i):\n",
        "  print ('called function in process: %s' %i)\n",
        "  return\n",
        "\n",
        "if __name__ == '__main__':\n",
        "  Process_jobs = []\n",
        "  for i in range(5):\n",
        "    p = multiprocessing.Process(target=foo, args=(i,))\n",
        "    Process_jobs.append(p)\n",
        "    p.start()\n",
        "    p.join()\n"
      ],
      "execution_count": 4,
      "outputs": [
        {
          "output_type": "stream",
          "name": "stdout",
          "text": [
            "called function in process: 0\n",
            "called function in process: 1\n",
            "called function in process: 2\n",
            "called function in process: 3\n",
            "called function in process: 4\n"
          ]
        }
      ]
    },
    {
      "cell_type": "markdown",
      "metadata": {
        "id": "aqa1ea_TYKr4"
      },
      "source": [
        "**How to name a process**"
      ]
    },
    {
      "cell_type": "markdown",
      "metadata": {
        "id": "l2LLPzQXY7i0"
      },
      "source": [
        "Процесс обращения к имени процесса схож с тем, что был во второй главе во время обращения к имени потока."
      ]
    },
    {
      "cell_type": "code",
      "metadata": {
        "colab": {
          "base_uri": "https://localhost:8080/",
          "height": 0
        },
        "id": "wFF-6XQTYJm5",
        "outputId": "98a5ff27-77a8-4c7c-9817-099f68f3e9c8"
      },
      "source": [
        "import multiprocessing\n",
        "import time\n",
        "\n",
        "def foo():\n",
        "  name = multiprocessing.current_process().name\n",
        "  print(\"Starting %s \\n\" %name)\n",
        "  time.sleep(3)\n",
        "  print(\"Exiting %s \\n %name\")\n",
        "\n",
        "if __name__ == '__main__':\n",
        "  process_with_name = multiprocessing.Process(name='foo_process', target=foo)\n",
        "  process_with_name.daemon = True\n",
        "  process_with_default_name = multiprocessing.Process(target=foo)\n",
        "  process_with_name.start()\n",
        "  process_with_default_name.start()"
      ],
      "execution_count": 6,
      "outputs": [
        {
          "output_type": "stream",
          "name": "stdout",
          "text": [
            "Starting foo_process \n",
            "\n",
            "Starting Process-19 \n",
            "\n"
          ]
        }
      ]
    },
    {
      "cell_type": "markdown",
      "metadata": {
        "id": "PJ4DBvILZMrx"
      },
      "source": [
        "**How to run a process in the background**"
      ]
    },
    {
      "cell_type": "code",
      "metadata": {
        "colab": {
          "base_uri": "https://localhost:8080/"
        },
        "id": "yfdHpjE2ZLrB",
        "outputId": "a434bce0-b447-4928-b8f4-a0726a8fcc05"
      },
      "source": [
        "import multiprocessing\n",
        "import time\n",
        "\n",
        "def foo():\n",
        " name = multiprocessing.current_process().name\n",
        " print (\"Starting %s \\n\" %name)\n",
        " time.sleep(3)\n",
        " print (\"Exiting %s \\n\" %name)\n",
        "\n",
        "if __name__ == '__main__':\n",
        "  background_process = multiprocessing.Process(name='background_process', target=foo)\n",
        "  background_process.daemon = True\n",
        "\n",
        "  NO_background_process = multiprocessing.Process(name='NO_background_process', target=foo)\n",
        "  NO_background_process.daemon = False\n",
        "\n",
        "  background_process.start()\n",
        "  NO_background_process.start()\n",
        "  \n",
        "  background_process.join()\n",
        "  NO_background_process.join()\n",
        "\n"
      ],
      "execution_count": 12,
      "outputs": [
        {
          "output_type": "stream",
          "name": "stdout",
          "text": [
            "Starting background_process \n",
            "\n",
            "Starting NO_background_process \n",
            "\n",
            "Exiting background_process \n",
            "\n",
            "Exiting NO_background_process \n",
            "\n"
          ]
        }
      ]
    },
    {
      "cell_type": "markdown",
      "metadata": {
        "id": "tMaoHEPRa3VH"
      },
      "source": [
        "**How to kill a process**"
      ]
    }
  ]
}