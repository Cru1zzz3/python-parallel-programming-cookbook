{
  "nbformat": 4,
  "nbformat_minor": 0,
  "metadata": {
    "colab": {
      "name": "Python Parallel Programming (Lab 3) - Udartsev Stanislav.ipynb",
      "provenance": [],
      "authorship_tag": "ABX9TyOAcilBDbtYD4udULujkY9W",
      "include_colab_link": true
    },
    "kernelspec": {
      "name": "python3",
      "display_name": "Python 3"
    },
    "language_info": {
      "name": "python"
    }
  },
  "cells": [
    {
      "cell_type": "markdown",
      "metadata": {
        "id": "view-in-github",
        "colab_type": "text"
      },
      "source": [
        "<a href=\"https://colab.research.google.com/github/Cru1zzz3/python-parallel-programming-cookbook/blob/main/Python_Parallel_Programming_(Lab_3)_Udartsev_Stanislav.ipynb\" target=\"_parent\"><img src=\"https://colab.research.google.com/assets/colab-badge.svg\" alt=\"Open In Colab\"/></a>"
      ]
    },
    {
      "cell_type": "markdown",
      "metadata": {
        "id": "JyByeJs7Ubj7"
      },
      "source": [
        "**How to spawn a process**"
      ]
    },
    {
      "cell_type": "markdown",
      "metadata": {
        "id": "yZZ2W9qv4Ww2"
      },
      "source": [
        "Для создания процессов используется библиотека multithreading"
      ]
    },
    {
      "cell_type": "code",
      "metadata": {
        "colab": {
          "base_uri": "https://localhost:8080/"
        },
        "id": "SUif7OmIWpTx",
        "outputId": "82e83f0f-fc83-45a5-a4d8-9c8b5baec502"
      },
      "source": [
        "import multiprocessing\n",
        "\n",
        "def foo(i):\n",
        "  print ('called function in process: %s' %i)\n",
        "  return\n",
        "\n",
        "if __name__ == '__main__':\n",
        "  Process_jobs = []\n",
        "  for i in range(5):\n",
        "    p = multiprocessing.Process(target=foo, args=(i,))\n",
        "    Process_jobs.append(p)\n",
        "    p.start()\n",
        "    p.join()\n"
      ],
      "execution_count": 1,
      "outputs": [
        {
          "output_type": "stream",
          "name": "stdout",
          "text": [
            "called function in process: 0\n",
            "called function in process: 1\n",
            "called function in process: 2\n",
            "called function in process: 3\n",
            "called function in process: 4\n"
          ]
        }
      ]
    },
    {
      "cell_type": "markdown",
      "metadata": {
        "id": "aqa1ea_TYKr4"
      },
      "source": [
        "**How to name a process**"
      ]
    },
    {
      "cell_type": "markdown",
      "metadata": {
        "id": "l2LLPzQXY7i0"
      },
      "source": [
        "Процесс обращения к имени процесса схож с тем, что был во второй главе во время обращения к имени потока."
      ]
    },
    {
      "cell_type": "code",
      "metadata": {
        "colab": {
          "base_uri": "https://localhost:8080/"
        },
        "id": "wFF-6XQTYJm5",
        "outputId": "e1660ebf-28b7-4280-bafc-85a135d1ec2e"
      },
      "source": [
        "import multiprocessing\n",
        "import time\n",
        "\n",
        "def foo():\n",
        "  name = multiprocessing.current_process().name\n",
        "  print(\"Starting %s \\n\" %name)\n",
        "  time.sleep(3)\n",
        "  print(\"Exiting %s \\n %name\")\n",
        "\n",
        "if __name__ == '__main__':\n",
        "  process_with_name = multiprocessing.Process(name='foo_process', target=foo)\n",
        "  process_with_name.daemon = True\n",
        "  process_with_default_name = multiprocessing.Process(target=foo)\n",
        "  process_with_name.start()\n",
        "  process_with_default_name.start()"
      ],
      "execution_count": 2,
      "outputs": [
        {
          "output_type": "stream",
          "name": "stdout",
          "text": [
            "Starting foo_process \n",
            "Starting Process-7 \n",
            "\n",
            "\n"
          ]
        }
      ]
    },
    {
      "cell_type": "markdown",
      "metadata": {
        "id": "PJ4DBvILZMrx"
      },
      "source": [
        "**How to run a process in the background**"
      ]
    },
    {
      "cell_type": "markdown",
      "metadata": {
        "id": "_H6C_lOb4ojV"
      },
      "source": [
        "Создание просцесса демона с помощью обращания к атрибуту.daemon = True означает, что подпроцесс автоматически завершается после завершения родительского процесса, чтобы предотвратить несвязанные процессы можно добавив метод .join() после метода .start(), чтобы родительский процесс не заканчивался раньше дочернего процесса; вместо этого родительский процесс будет ждать завершения дочернего процесса."
      ]
    },
    {
      "cell_type": "code",
      "metadata": {
        "colab": {
          "base_uri": "https://localhost:8080/"
        },
        "id": "yfdHpjE2ZLrB",
        "outputId": "4d349bb1-36f6-46af-c883-e1dd73fc48c7"
      },
      "source": [
        "import multiprocessing\n",
        "import time\n",
        "\n",
        "def foo():\n",
        " name = multiprocessing.current_process().name\n",
        " print (\"Starting %s \\n\" %name)\n",
        " time.sleep(3)\n",
        " print (\"Exiting %s \\n\" %name)\n",
        "\n",
        "if __name__ == '__main__':\n",
        "  background_process = multiprocessing.Process(name='background_process', target=foo)\n",
        "  background_process.daemon = True\n",
        "\n",
        "  NO_background_process = multiprocessing.Process(name='NO_background_process', target=foo)\n",
        "  NO_background_process.daemon = False\n",
        "\n",
        "  background_process.start()\n",
        "  NO_background_process.start()\n",
        "  \n",
        "  background_process.join()\n",
        "  NO_background_process.join()\n",
        "\n"
      ],
      "execution_count": 3,
      "outputs": [
        {
          "output_type": "stream",
          "name": "stdout",
          "text": [
            "Starting background_process \n",
            "Starting NO_background_process \n",
            "\n",
            "\n",
            "Exiting NO_background_process \n",
            "Exiting background_process \n",
            "\n",
            "\n"
          ]
        }
      ]
    },
    {
      "cell_type": "markdown",
      "metadata": {
        "id": "tMaoHEPRa3VH"
      },
      "source": [
        "**How to kill a process**"
      ]
    },
    {
      "cell_type": "markdown",
      "metadata": {
        "id": "xYGcWmwqTqlH"
      },
      "source": [
        "Опрос статуса процесса можно с помощью метода .is_alive(). Убить процесс с помощью метода .terminate()    "
      ]
    },
    {
      "cell_type": "code",
      "metadata": {
        "colab": {
          "base_uri": "https://localhost:8080/"
        },
        "id": "2Bd21CSugi9P",
        "outputId": "8b344dda-a699-4d3a-eb2b-9c09de6a2bb1"
      },
      "source": [
        "import multiprocessing\n",
        "import time\n",
        "\n",
        "def foo():\n",
        " print ('Starting function')\n",
        " time.sleep(0.1)\n",
        " print ('Finished function')\n",
        "\n",
        "if __name__ ==  '__main__':\n",
        "  p = multiprocessing.Process(target=foo)\n",
        "  print ('Process before execution:', p, p.is_alive())\n",
        "  p.start()\n",
        "  print ('Process running:', p, p.is_alive())\n",
        "  p.terminate()\n",
        "  print ('Process terminated:', p, p.is_alive())\n",
        "  p.join()\n",
        "  print ('Process joined:', p, p.is_alive())\n",
        "  print ('Process exit code:', p.exitcode)\n"
      ],
      "execution_count": 4,
      "outputs": [
        {
          "output_type": "stream",
          "name": "stdout",
          "text": [
            "Process before execution: <Process(Process-10, initial)> False\n",
            "Process running: <Process(Process-10, started)> True\n",
            "Process terminated: <Process(Process-10, started)> True\n",
            "Process joined: <Process(Process-10, stopped[SIGTERM])> False\n",
            "Process exit code: -15\n"
          ]
        }
      ]
    },
    {
      "cell_type": "markdown",
      "metadata": {
        "id": "fT8miU0KU5oU"
      },
      "source": [
        "**How to use a process in a subclass**"
      ]
    },
    {
      "cell_type": "markdown",
      "metadata": {
        "id": "A4wLuVBP5kbo"
      },
      "source": [
        "Наследование от класса Proccess аналогично наследованию от класса Thread представленному в прошлой главе"
      ]
    },
    {
      "cell_type": "code",
      "metadata": {
        "colab": {
          "base_uri": "https://localhost:8080/"
        },
        "id": "tI2R5UGyU5FT",
        "outputId": "f72f21fb-6eec-4480-82be-c6566460822b"
      },
      "source": [
        "import multiprocessing\n",
        "\n",
        "class MyProcess(multiprocessing.Process):\n",
        "  def run(self):\n",
        "    print ('called run method in process: %s' %self.name)\n",
        "    return\n",
        "\n",
        "if __name__ == '__main__':\n",
        " jobs = []\n",
        " for i in range(5):\n",
        "  p = MyProcess ()\n",
        "  jobs.append(p)\n",
        "  p.start()\n",
        "  p.join()"
      ],
      "execution_count": 5,
      "outputs": [
        {
          "output_type": "stream",
          "name": "stdout",
          "text": [
            "called run method in process: MyProcess-11\n",
            "called run method in process: MyProcess-12\n",
            "called run method in process: MyProcess-13\n",
            "called run method in process: MyProcess-14\n",
            "called run method in process: MyProcess-15\n"
          ]
        }
      ]
    },
    {
      "cell_type": "markdown",
      "metadata": {
        "id": "aSOYhGQyVfWJ"
      },
      "source": [
        "**How to exchange objects between\n",
        "processes**"
      ]
    },
    {
      "cell_type": "markdown",
      "metadata": {
        "id": "wPt4zohccukz"
      },
      "source": [
        "Обмен объектами с помощью очереди между процессами  схож с представленным  в прошлой главе обмен объектами с помощью очереди между потоками"
      ]
    },
    {
      "cell_type": "code",
      "metadata": {
        "colab": {
          "base_uri": "https://localhost:8080/"
        },
        "id": "zsYFsuF7VhP0",
        "outputId": "93e70678-43cd-4756-89bd-aa1c11fd1744"
      },
      "source": [
        "import multiprocessing\n",
        "import random\n",
        "import time\n",
        "\n",
        "class producer(multiprocessing.Process):\n",
        "  def __init__(self, queue):\n",
        "    multiprocessing.Process.__init__(self)\n",
        "    self.queue = queue\n",
        "    \n",
        "  def run(self) :\n",
        "    for i in range(10):\n",
        "      item = random.randint(0, 256)\n",
        "      self.queue.put(item)\n",
        "      print (\"Process Producer : item %d appended to queue %s\" % (item,self.name))\n",
        "      time.sleep(1)\n",
        "      print (\"The size of queue is %s\" % self.queue.qsize())\n",
        "\n",
        "class consumer(multiprocessing.Process):\n",
        "  def __init__(self, queue):\n",
        "    multiprocessing.Process.__init__(self)\n",
        "    self.queue = queue\n",
        "\n",
        "  def run(self):\n",
        "    while True:\n",
        "      if (self.queue.empty()):\n",
        "        print(\"the queue is empty\")\n",
        "        break\n",
        "      else :\n",
        "        time.sleep(2)\n",
        "        item = self.queue.get()\n",
        "        print ('Process Consumer : item %d popped from by %s \\n' % (item, self.name))\n",
        "        time.sleep(1)\n",
        "\n",
        "if __name__ == '__main__':\n",
        "  queue = multiprocessing.Queue()\n",
        "  process_producer = producer(queue)\n",
        "  process_consumer = consumer(queue)\n",
        "  process_producer.start()\n",
        "  process_consumer.start()\n",
        "  process_producer.join()\n",
        "  process_consumer.join()\n",
        "\n"
      ],
      "execution_count": 6,
      "outputs": [
        {
          "output_type": "stream",
          "name": "stdout",
          "text": [
            "Process Producer : item 58 appended to queue producer-16\n",
            "The size of queue is 1\n",
            "Process Producer : item 120 appended to queue producer-16\n",
            "Process Consumer : item 58 popped from by consumer-17 \n",
            "\n",
            "The size of queue is 1\n",
            "Process Producer : item 204 appended to queue producer-16\n",
            "The size of queue is 2\n",
            "Process Producer : item 253 appended to queue producer-16\n",
            "The size of queue is 3\n",
            "Process Producer : item 175 appended to queue producer-16\n",
            "Process Consumer : item 120 popped from by consumer-17 \n",
            "\n",
            "The size of queue is 3\n",
            "Process Producer : item 73 appended to queue producer-16\n",
            "The size of queue is 4\n",
            "Process Producer : item 170 appended to queue producer-16\n",
            "The size of queue is 5\n",
            "Process Producer : item 71 appended to queue producer-16\n",
            "Process Consumer : item 204 popped from by consumer-17 \n",
            "\n",
            "The size of queue is 5\n",
            "Process Producer : item 75 appended to queue producer-16\n",
            "The size of queue is 6\n",
            "Process Producer : item 252 appended to queue producer-16\n",
            "The size of queue is 7\n",
            "Process Consumer : item 253 popped from by consumer-17 \n",
            "\n",
            "Process Consumer : item 175 popped from by consumer-17 \n",
            "\n",
            "Process Consumer : item 73 popped from by consumer-17 \n",
            "\n",
            "Process Consumer : item 170 popped from by consumer-17 \n",
            "\n",
            "Process Consumer : item 71 popped from by consumer-17 \n",
            "\n",
            "Process Consumer : item 75 popped from by consumer-17 \n",
            "\n",
            "Process Consumer : item 252 popped from by consumer-17 \n",
            "\n",
            "the queue is empty\n"
          ]
        }
      ]
    },
    {
      "cell_type": "markdown",
      "metadata": {
        "id": "yXXaeJIccwvd"
      },
      "source": [
        "2. Using pipes to exchange objects "
      ]
    },
    {
      "cell_type": "markdown",
      "metadata": {
        "id": "t7P9q-HY6Lur"
      },
      "source": [
        "Объект Pipe представляет собой удобный инструмент для двустороннего обмена данными между процессами "
      ]
    },
    {
      "cell_type": "code",
      "metadata": {
        "colab": {
          "base_uri": "https://localhost:8080/"
        },
        "id": "gBnKnJz9dei5",
        "outputId": "0f58575f-9942-43e3-e92f-dc553bfddf6e"
      },
      "source": [
        "import multiprocessing\n",
        "\n",
        "def create_items(pipe):\n",
        "  output_pipe, _ = pipe\n",
        "  for item in range(10):\n",
        "    output_pipe.send(item)\n",
        "  output_pipe.close()\n",
        "\n",
        "def multiply_items(pipe_1, pipe_2):\n",
        "  close, input_pipe = pipe_1\n",
        "  close.close()\n",
        "  output_pipe, _ = pipe_2\n",
        "  try:\n",
        "    while True:\n",
        "      item = input_pipe.recv()\n",
        "      output_pipe.send(item * item)\n",
        "  except EOFError:\n",
        "    output_pipe.close()\n",
        "\n",
        "if __name__== '__main__':\n",
        "  #First process pipe with numbers from 0 to 9\n",
        "  pipe_1 = multiprocessing.Pipe(True)\n",
        "  process_pipe_1 = multiprocessing.Process(target=create_items, args=(pipe_1,))\n",
        "  process_pipe_1.start()\n",
        "  #second pipe,\n",
        "  pipe_2 = multiprocessing.Pipe(True)\n",
        "  process_pipe_2 = multiprocessing.Process(target=multiply_items, args=(pipe_1, pipe_2,))\n",
        "  process_pipe_2.start()\n",
        "  pipe_1[0].close()\n",
        "  pipe_2[0].close()\n",
        "  try:\n",
        "    while True:\n",
        "      print(pipe_2[1].recv())\n",
        "  except EOFError:\n",
        "    print(\"End\")"
      ],
      "execution_count": 7,
      "outputs": [
        {
          "output_type": "stream",
          "name": "stdout",
          "text": [
            "0\n",
            "1\n",
            "4\n",
            "9\n",
            "16\n",
            "25\n",
            "36\n",
            "49\n",
            "64\n",
            "81\n",
            "End\n"
          ]
        }
      ]
    },
    {
      "cell_type": "markdown",
      "metadata": {
        "id": "j7mRouZKhRKH"
      },
      "source": [
        "**How to synchronize processes**"
      ]
    },
    {
      "cell_type": "markdown",
      "metadata": {
        "id": "XqNZZqoHzuaH"
      },
      "source": [
        "Примитивы синхронизации очень похожи на те, которые встречались в прошлой лабораторной работе при использовании библиотеки multithreading. Добавляется новый примитив синхронизации Barrier. Процессы могут продолжить свою работу, только при достижении порогового значения барьера, таким образом можно добиться синхронизации. \n",
        "\n",
        "В примере из книги значения времени при достижении барьерного значения "
      ]
    },
    {
      "cell_type": "code",
      "metadata": {
        "colab": {
          "base_uri": "https://localhost:8080/"
        },
        "id": "bAbNFfzH77yX",
        "outputId": "5ee89a10-4ced-4427-8428-0b0c7cd73bf2"
      },
      "source": [
        "import multiprocessing\n",
        "from multiprocessing import Barrier, Lock, Process\n",
        "from time import time\n",
        "from datetime import datetime\n",
        "\n",
        "def test_with_barrier(synchronizer, serializer):\n",
        "  name = multiprocessing.current_process().name\n",
        "  synchronizer.wait()\n",
        "  now = time()\n",
        "  with serializer:\n",
        "    print(\"process %s ----> %s\" %(name,datetime.fromtimestamp(now)))\n",
        "\n",
        "def test_without_barrier():\n",
        "  name = multiprocessing.current_process().name\n",
        "  now = time()\n",
        "  print(\"process %s ----> %s\" %(name ,datetime.fromtimestamp(now)))\n",
        "\n",
        "if __name__ == '__main__':\n",
        "  synchronizer = Barrier(2)\n",
        "  serializer = Lock()\n",
        "  Process(name='p1 - test_with_barrier', target=test_with_barrier, args=(synchronizer, serializer)).start()\n",
        "  Process(name='p2 - test_with_barrier', target=test_with_barrier, args=(synchronizer, serializer)).start()\n",
        "  Process(name='p3 - test_without_barrier', target=test_without_barrier).start()\n",
        "  Process(name='p4 - test_without_barrier', target=test_without_barrier).start()\n",
        "\n",
        "\n",
        "\n"
      ],
      "execution_count": 8,
      "outputs": [
        {
          "output_type": "stream",
          "name": "stdout",
          "text": [
            "process p1 - test_with_barrier ----> 2021-11-23 13:09:23.965643\n",
            "process p2 - test_with_barrier ----> 2021-11-23 13:09:23.971558\n",
            "process p3 - test_without_barrier ----> 2021-11-23 13:09:23.982636\n",
            "process p4 - test_without_barrier ----> 2021-11-23 13:09:23.993535\n"
          ]
        }
      ]
    },
    {
      "cell_type": "markdown",
      "metadata": {
        "id": "ULvB2WED0jKs"
      },
      "source": [
        "**How to manage a state between processes**"
      ]
    },
    {
      "cell_type": "markdown",
      "metadata": {
        "id": "V4U_sNau4Unl"
      },
      "source": [
        "Благодаря объекту Manager() данные могут быть доступны между несколькими процессами. В нашем случае объектом данных выступает словарь, доступный каждому процессу, значения которого вычисляются внутри каждого из процессов."
      ]
    },
    {
      "cell_type": "code",
      "metadata": {
        "colab": {
          "base_uri": "https://localhost:8080/"
        },
        "id": "DYrAlE2i018Z",
        "outputId": "ae37bb18-4234-415e-e15a-a72f7b482fe9"
      },
      "source": [
        "import multiprocessing\n",
        "\n",
        "def worker(dictionary, key, item):\n",
        "  dictionary[key] = item\n",
        "  print(\"key = \", key, \"value = \", item)\n",
        "\n",
        "if __name__ == \"__main__\":\n",
        "  mgr = multiprocessing.Manager()\n",
        "  dictionary = mgr.dict()\n",
        "  jobs = [multiprocessing.Process(target=worker, args=(dictionary, i, i*2)) for i in range(10)]\n",
        "  for j in jobs: \n",
        "    j.start()\n",
        "  for j in jobs:\n",
        "    j.join()\n",
        "  print(\"Results:\", dictionary)"
      ],
      "execution_count": 9,
      "outputs": [
        {
          "output_type": "stream",
          "name": "stdout",
          "text": [
            "key =  0 value =  0\n",
            "key =  2 value =  4\n",
            "key =  1 value =  2\n",
            "key =  4 value =  8\n",
            "key =  3 value =  6\n",
            "key =  5 value =  10\n",
            "key =  6 value =  12\n",
            "key =  7 value =  14\n",
            "key =  8 value =  16\n",
            "key =  9 value =  18\n",
            "Results: {1: 2, 0: 0, 2: 4, 3: 6, 4: 8, 5: 10, 7: 14, 6: 12, 8: 16, 9: 18}\n"
          ]
        }
      ]
    },
    {
      "cell_type": "markdown",
      "metadata": {
        "id": "vSwvXTZT471f"
      },
      "source": [
        "**How to use a process pool**"
      ]
    },
    {
      "cell_type": "markdown",
      "metadata": {
        "id": "NSrNwMSr--Ly"
      },
      "source": [
        "Использования объекта Pool() позволяет выполнять вычисление функции параллельно, задавая необходимое параллельных процессов в пуле процессов. Для пула процессов можно применять метод  одноимённый встроенной функции .map(), которая применяет функцию к каждому элементу итерируемого объекта, но делает это параллельно."
      ]
    },
    {
      "cell_type": "code",
      "metadata": {
        "colab": {
          "base_uri": "https://localhost:8080/"
        },
        "id": "OMJ-a5jD47KU",
        "outputId": "94da344f-f069-43e4-f529-afeb400923b5"
      },
      "source": [
        "def function_square(data):\n",
        "  result = data*data\n",
        "  return result\n",
        "\n",
        "if __name__ == '__main__':\n",
        "  inputs = list(range(100))\n",
        "  pool = multiprocessing.Pool(processes=4)\n",
        "  pool_outputs = pool.map(function_square, inputs)\n",
        "  pool.close()\n",
        "  pool.join()\n",
        "  print ('Pool :', pool_outputs)"
      ],
      "execution_count": 10,
      "outputs": [
        {
          "output_type": "stream",
          "name": "stdout",
          "text": [
            "Pool : [0, 1, 4, 9, 16, 25, 36, 49, 64, 81, 100, 121, 144, 169, 196, 225, 256, 289, 324, 361, 400, 441, 484, 529, 576, 625, 676, 729, 784, 841, 900, 961, 1024, 1089, 1156, 1225, 1296, 1369, 1444, 1521, 1600, 1681, 1764, 1849, 1936, 2025, 2116, 2209, 2304, 2401, 2500, 2601, 2704, 2809, 2916, 3025, 3136, 3249, 3364, 3481, 3600, 3721, 3844, 3969, 4096, 4225, 4356, 4489, 4624, 4761, 4900, 5041, 5184, 5329, 5476, 5625, 5776, 5929, 6084, 6241, 6400, 6561, 6724, 6889, 7056, 7225, 7396, 7569, 7744, 7921, 8100, 8281, 8464, 8649, 8836, 9025, 9216, 9409, 9604, 9801]\n"
          ]
        }
      ]
    },
    {
      "cell_type": "markdown",
      "metadata": {
        "id": "_KT9FB3R_Wge"
      },
      "source": [
        "**Using the mpi4py Python module**"
      ]
    },
    {
      "cell_type": "markdown",
      "metadata": {
        "id": "tUatH4bfIbyf"
      },
      "source": [
        "Модуль mpi4py представляет собой обётку над библиотека языка С под названием MPI, котороая позволяет устанавливать взаимодействие процессов с использованием сообщений "
      ]
    },
    {
      "cell_type": "code",
      "metadata": {
        "colab": {
          "base_uri": "https://localhost:8080/"
        },
        "id": "TSRCIaBz_WJo",
        "outputId": "a30bf0a4-e5ee-46e0-ffdc-8f1071d80727"
      },
      "source": [
        "!pip install mpi4py"
      ],
      "execution_count": 11,
      "outputs": [
        {
          "output_type": "stream",
          "name": "stdout",
          "text": [
            "Requirement already satisfied: mpi4py in /usr/local/lib/python3.7/dist-packages (3.1.2)\n"
          ]
        }
      ]
    },
    {
      "cell_type": "markdown",
      "metadata": {
        "id": "Cq1iRsOSBQtZ"
      },
      "source": [
        ""
      ]
    },
    {
      "cell_type": "code",
      "metadata": {
        "colab": {
          "base_uri": "https://localhost:8080/"
        },
        "id": "FxzZ9OEmAjMO",
        "outputId": "8378b371-0430-4135-8ae6-5db92063019b"
      },
      "source": [
        "from google.colab import files\n",
        "\n",
        "def helloWorld_MPI():\n",
        "  \"\"\"\n",
        "from mpi4py import MPI\n",
        "comm = MPI.COMM_WORLD\n",
        "rank = comm.Get_rank()\n",
        "print ('hello world from process ', rank)\n",
        "  \"\"\"\n",
        "# helloWorld_MPI.py\n",
        "with open('/content/helloWorld_MPI.py', 'w') as f:\n",
        "  f.write(helloWorld_MPI.__doc__)\n",
        "\n",
        "! mpiexec --allow-run-as-root -n 5 python /content/helloWorld_MPI.py"
      ],
      "execution_count": 12,
      "outputs": [
        {
          "output_type": "stream",
          "name": "stdout",
          "text": [
            "hello world from process  2\n",
            "hello world from process  3\n",
            "hello world from process  4\n",
            "hello world from process  1\n",
            "hello world from process  0\n"
          ]
        }
      ]
    },
    {
      "cell_type": "markdown",
      "metadata": {
        "id": "OAWSa_3UKWm0"
      },
      "source": [
        "**Point-to-point communication**"
      ]
    },
    {
      "cell_type": "markdown",
      "metadata": {
        "id": "afqCxDfgPreZ"
      },
      "source": [
        "Общение между процессами в mpi4py можно с помощью point-to-point, оно подразумевает отправление и получение данных с явным указанием получателя  и отправляемых данных .send(data,dest) и отправителя .recv(source), соответственно."
      ]
    },
    {
      "cell_type": "code",
      "metadata": {
        "colab": {
          "base_uri": "https://localhost:8080/"
        },
        "id": "cfWNZHlLKnAa",
        "outputId": "8252fd54-6a18-472c-abc4-2f7ea74b719b"
      },
      "source": [
        "def pointToPointCommunication():\n",
        "  \"\"\"\n",
        "from mpi4py import MPI\n",
        "\n",
        "comm=MPI.COMM_WORLD\n",
        "rank = comm.rank\n",
        "print(\"my rank is : \", rank)\n",
        "\n",
        "if rank==0:\n",
        "  data = 10000000\n",
        "  destination_process = 4\n",
        "  comm.send(data,dest=destination_process)\n",
        "  print (\"sending data %s \" %data + \"to process %d\" %destination_process)\n",
        "\n",
        "if rank==1:\n",
        "  destination_process = 8\n",
        "  data= \"hello\"\n",
        "  comm.send(data,dest=destination_process)\n",
        "  print (\"sending data %s :\" %data + \"to process %d\" %destination_process)\n",
        "\n",
        "if rank==4:\n",
        "  data=comm.recv(source=0)\n",
        "  print (\"data received is = %s\" %data)\n",
        "\n",
        "if rank==8:\n",
        "  data1=comm.recv(source=1)\n",
        "  print (\"data1 received is = %s\" %data1)\n",
        "\n",
        "  \"\"\"\n",
        "  return 0\n",
        "\n",
        "  \n",
        "# pointToPointCommunication.py\n",
        "with open('/content/pointToPointCommunication.py', 'w') as f:\n",
        "  f.write(pointToPointCommunication.__doc__)\n",
        "\n",
        "! mpiexec --allow-run-as-root -n 9 python /content/pointToPointCommunication.py"
      ],
      "execution_count": 13,
      "outputs": [
        {
          "output_type": "stream",
          "name": "stdout",
          "text": [
            "my rank is :  2\n",
            "my rank is :  3\n",
            "my rank is :  5\n",
            "my rank is :  1\n",
            "my rank is :  8\n",
            "my rank is :  7\n",
            "sending data hello :to process 8\n",
            "my rank is :  4\n",
            "my rank is :  6\n",
            "my rank is :  0\n",
            "sending data 10000000 to process 4\n",
            "data1 received is = hello\n",
            "data received is = 10000000\n"
          ]
        }
      ]
    },
    {
      "cell_type": "markdown",
      "metadata": {
        "id": "ZaJpdwaaRTf7"
      },
      "source": [
        "**Avoiding deadlock problems**"
      ]
    },
    {
      "cell_type": "markdown",
      "metadata": {
        "id": "x8YDzyNZVZUc"
      },
      "source": [
        "В примере из книги опечатка, показан пример без взаимной блокировки.\n",
        "\n",
        "Взаимной блокировки при использовании метода общения point-to-point можно избежать используя неблокирующий порядок отправления/получения сообщения, либо с использованием метода comm.sendrecv(data_send,dest=destination_process,\n",
        "source=source_process), объединяюзий отправление и ожидание ответа от другого процесса."
      ]
    },
    {
      "cell_type": "code",
      "metadata": {
        "colab": {
          "base_uri": "https://localhost:8080/"
        },
        "id": "rSNCk4vHRZec",
        "outputId": "ebab9c0c-44fc-4d10-b41c-c9c03e69ea52"
      },
      "source": [
        "\n",
        "def deadLockProblems():\n",
        "  \"\"\"\n",
        "from mpi4py import MPI\n",
        "\n",
        "comm=MPI.COMM_WORLD\n",
        "rank = comm.rank\n",
        "print(\"my rank is : \" , rank)\n",
        "\n",
        "if rank==1:\n",
        "  data_send= \"a\"\n",
        "  destination_process = 5\n",
        "  source_process = 5\n",
        "\n",
        "  data_received=comm.recv(source=source_process)\n",
        "  comm.send(data_send,dest=destination_process)\n",
        "\n",
        "  print (\"sending data %s :\" %data_send + \" to process %d\" %destination_process)\n",
        "  print (\"data received is = %s\" %data_received)\n",
        "\n",
        "if rank==5:\n",
        "  data_send= \"b\"\n",
        "  destination_process = 1\n",
        "  source_process = 1\n",
        "\n",
        "  data_received=comm.recv(source=source_process)\n",
        "  comm.send(data_send,dest=destination_process)\n",
        "\n",
        "  print (\"sending data %s :\" %data_send + \" to process %d\" %destination_process)\n",
        "  print (\"data received is = %s\" %data_received)\n",
        "  \"\"\"\n",
        "\n",
        "# deadLockProblems.py\n",
        "with open('/content/deadLockProblems.py', 'w') as f:\n",
        "  f.write(deadLockProblems.__doc__)\n",
        "\n",
        "! mpiexec --allow-run-as-root -n 9 python /content/deadLockProblems.py"
      ],
      "execution_count": 14,
      "outputs": [
        {
          "output_type": "stream",
          "name": "stdout",
          "text": [
            "my rank is :  8\n",
            "my rank is :  5\n",
            "my rank is :  3\n",
            "my rank is :  7\n",
            "my rank is :  1\n",
            "my rank is :  2\n",
            "my rank is :  6\n",
            "my rank is :  4\n",
            "my rank is :  0\n"
          ]
        }
      ]
    },
    {
      "cell_type": "code",
      "metadata": {
        "colab": {
          "base_uri": "https://localhost:8080/"
        },
        "id": "kORrFkb4WAVj",
        "outputId": "2155e791-a6d0-4347-c2b7-bb2122426c9a"
      },
      "source": [
        "def deadLockNoProblems1():\n",
        "  \"\"\"\n",
        "from mpi4py import MPI\n",
        "\n",
        "comm=MPI.COMM_WORLD\n",
        "rank = comm.rank\n",
        "print(\"my rank is : \" , rank)\n",
        "\n",
        "if rank==1:\n",
        "  data_send= \"a\"\n",
        "  destination_process = 5\n",
        "  source_process = 5\n",
        "\n",
        "  comm.send(data_send,dest=destination_process)\n",
        "  data_received=comm.recv(source=source_process)\n",
        "\n",
        "  print (\"sending data %s :\" %data_send + \" to process %d\" %destination_process)\n",
        "  print (\"data received is = %s\" %data_received)\n",
        "\n",
        "if rank==5:\n",
        "  data_send= \"b\"\n",
        "  destination_process = 1\n",
        "  source_process = 1\n",
        "\n",
        "  data_received=comm.recv(source=source_process)\n",
        "  comm.send(data_send,dest=destination_process)\n",
        "\n",
        "  print (\"sending data %s :\" %data_send + \" to process %d\" %destination_process)\n",
        "  print (\"data received is = %s\" %data_received)\n",
        "  \"\"\"\n",
        "\n",
        "# deadLockProblems.py\n",
        "with open('/content/deadLockNoProblems1.py', 'w') as f:\n",
        "  f.write(deadLockNoProblems1.__doc__)\n",
        "\n",
        "! mpiexec --allow-run-as-root -n 9 python /content/deadLockNoProblems1.py"
      ],
      "execution_count": 15,
      "outputs": [
        {
          "output_type": "stream",
          "name": "stdout",
          "text": [
            "my rank is :  3\n",
            "my rank is :  0\n",
            "my rank is :  8\n",
            "my rank is :  5\n",
            "my rank is :  6\n",
            "my rank is :  4\n",
            "my rank is :  1\n",
            "sending data b : to process 1\n",
            "data received is = a\n",
            "sending data a : to process 5\n",
            "my rank is :  2\n",
            "data received is = b\n",
            "my rank is :  7\n"
          ]
        }
      ]
    },
    {
      "cell_type": "code",
      "metadata": {
        "colab": {
          "base_uri": "https://localhost:8080/"
        },
        "id": "ltgLcMCAWuLP",
        "outputId": "49f26cec-9e70-4243-f0e8-17a8cca19b18"
      },
      "source": [
        "def deadLockNoProblems2():\n",
        "  \"\"\"\n",
        "from mpi4py import MPI\n",
        "\n",
        "comm=MPI.COMM_WORLD\n",
        "rank = comm.rank\n",
        "print(\"my rank is : \" , rank)\n",
        "\n",
        "if rank==1:\n",
        "  data_send= \"a\"\n",
        "  destination_process = 5\n",
        "  source_process = 5\n",
        "\n",
        "  data_received=comm.sendrecv(data_send,dest=destination_process, source =source_process)\n",
        "\n",
        "  print (\"sending data %s :\" %data_send + \" to process %d\" %destination_process)\n",
        "  print (\"data received is = %s\" %data_received)\n",
        "\n",
        "if rank==5:\n",
        "  data_send= \"b\"\n",
        "  destination_process = 1\n",
        "  source_process = 1\n",
        "\n",
        "  data_received=comm.sendrecv(data_send,dest=destination_process, source=source_process)\n",
        "  print (\"sending data %s :\" %data_send + \" to process %d\" %destination_process)\n",
        "  print (\"data received is = %s\" %data_received)\n",
        "  \"\"\"\n",
        "\n",
        "# deadLockProblems.py\n",
        "with open('/content/deadLockNoProblems2.py', 'w') as f:\n",
        "  f.write(deadLockNoProblems2.__doc__)\n",
        "\n",
        "! mpiexec --allow-run-as-root -n 9 python /content/deadLockNoProblems2.py"
      ],
      "execution_count": 16,
      "outputs": [
        {
          "output_type": "stream",
          "name": "stdout",
          "text": [
            "my rank is :  2\n",
            "my rank is :  0\n",
            "my rank is :  3\n",
            "my rank is :  4\n",
            "my rank is :  5\n",
            "my rank is :  1\n",
            "sending data a : to process 5\n",
            "sending data b : to process 1\n",
            "data received is = a\n",
            "data received is = b\n",
            "my rank is :  8\n",
            "my rank is :  7\n",
            "my rank is :  6\n"
          ]
        }
      ]
    },
    {
      "cell_type": "markdown",
      "metadata": {
        "id": "UBX8J_QkXvqJ"
      },
      "source": [
        "**Collective communication using broadcast**"
      ]
    },
    {
      "cell_type": "markdown",
      "metadata": {
        "id": "RqStxpPTcZL-"
      },
      "source": [
        "Благодаря широковещательному механизму .bcast(), можно задавать корневой элемент, который будет являться источником данных для других процессов."
      ]
    },
    {
      "cell_type": "code",
      "metadata": {
        "colab": {
          "base_uri": "https://localhost:8080/"
        },
        "id": "8zuUIka2WAMu",
        "outputId": "347ae616-7350-4361-8e11-1021358b319f"
      },
      "source": [
        "def broadcast():\n",
        "  \"\"\"\n",
        "from mpi4py import MPI\n",
        "  \n",
        "comm = MPI.COMM_WORLD\n",
        "rank = comm.Get_rank()\n",
        "\n",
        "if rank == 0:\n",
        "  variable_to_share = 100\n",
        "\n",
        "else:\n",
        "  variable_to_share = None\n",
        "\n",
        "variable_to_share = comm.bcast(variable_to_share, root=0)\n",
        "\n",
        "print(\"process = %d\" %rank + \" variable shared = %d \" %variable_to_share)\n",
        "  \"\"\"\n",
        "  \n",
        "with open('/content/broadcast.py', 'w') as f:\n",
        "  f.write(broadcast.__doc__)\n",
        "\n",
        "! mpiexec --allow-run-as-root -n 10 python /content/broadcast.py\n"
      ],
      "execution_count": 17,
      "outputs": [
        {
          "output_type": "stream",
          "name": "stdout",
          "text": [
            "process = 8 variable shared = 100 \n",
            "process = 4 variable shared = 100 \n",
            "process = 0 variable shared = 100 \n",
            "process = 2 variable shared = 100 \n",
            "process = 6 variable shared = 100 \n",
            "process = 1 variable shared = 100 \n",
            "process = 5 variable shared = 100 \n",
            "process = 3 variable shared = 100 \n",
            "process = 9 variable shared = 100 \n",
            "process = 7 variable shared = 100 \n"
          ]
        }
      ]
    },
    {
      "cell_type": "markdown",
      "metadata": {
        "id": "XqoqqGBFczHn"
      },
      "source": [
        "**Collective communication using scatter**"
      ]
    },
    {
      "cell_type": "markdown",
      "metadata": {
        "id": "oy_ED9oNHV4t"
      },
      "source": [
        "Работа метода .scatter() очень похожа на широковещательную передачу, но имеет одно существенное отличие, в\n",
        "то время как comm.bcast отправляет одни и те же данные всем процессам прослушивания, comm.scatter может\n",
        "отправлять фрагменты данных в массиве различным процессам."
      ]
    },
    {
      "cell_type": "markdown",
      "metadata": {
        "id": "g2oXlf0nFACZ"
      },
      "source": [
        "В примере из учебника сделана ошибка. Вместо вывода значения полученного из буфера, написан вывод общедоступного массива. В случае, когда rank процесса не равен корневому процессу (rank=0), то значение общего массива array_to_share становится None, что приводит к ошибке целочисленного вывода и является логической ошибкой в выводе recvbuf = %d."
      ]
    },
    {
      "cell_type": "code",
      "metadata": {
        "colab": {
          "base_uri": "https://localhost:8080/"
        },
        "id": "IzL5Pn7Jswvx",
        "outputId": "c4bb2f78-ab63-4d3e-ec73-07773071cb2f"
      },
      "source": [
        "def scatter():\n",
        "  \"\"\"\n",
        "from mpi4py import MPI\n",
        "\n",
        "comm = MPI.COMM_WORLD\n",
        "rank = comm.Get_rank()\n",
        "\n",
        "if rank == 0:\n",
        "  array_to_share = [1, 2, 3, 4 ,5 ,6 ,7, 8 ,9 ,10]\n",
        "else:\n",
        "  array_to_share = None\n",
        "\n",
        "recvbuf = comm.scatter(array_to_share, root=0)\n",
        "print(\"process = %d\" % rank + \" recvbuf = %d \" %recvbuf)\n",
        "  \"\"\"\n",
        "  \n",
        "with open('/content/scatter.py', 'w') as f:\n",
        "  f.write(scatter.__doc__)\n",
        "\n",
        "! mpiexec --allow-run-as-root -n 10 python /content/scatter.py"
      ],
      "execution_count": 18,
      "outputs": [
        {
          "output_type": "stream",
          "name": "stdout",
          "text": [
            "process = 0 recvbuf = 1 \n",
            "process = 8 recvbuf = 9 \n",
            "process = 6 recvbuf = 7 \n",
            "process = 1 recvbuf = 2 \n",
            "process = 5 recvbuf = 6 \n",
            "process = 4 recvbuf = 5 \n",
            "process = 9 recvbuf = 10 \n",
            "process = 3 recvbuf = 4 \n",
            "process = 2 recvbuf = 3 \n",
            "process = 7 recvbuf = 8 \n"
          ]
        }
      ]
    },
    {
      "cell_type": "markdown",
      "metadata": {
        "id": "zO95301NJTvC"
      },
      "source": [
        "**Collective communication using gather**"
      ]
    },
    {
      "cell_type": "markdown",
      "metadata": {
        "id": "u6jTj2QZOca5"
      },
      "source": [
        "Метод .gather() выполняет функцию, обратную .scatter(). Корневой процесс является собирателем данных, с других процессов."
      ]
    },
    {
      "cell_type": "code",
      "metadata": {
        "colab": {
          "base_uri": "https://localhost:8080/"
        },
        "id": "nmOE4rV0JUuP",
        "outputId": "8e93ef83-bedb-483f-8727-dcadff4d1bf5"
      },
      "source": [
        "def gather():\n",
        "  \"\"\"\n",
        "from mpi4py import MPI\n",
        "\n",
        "comm = MPI.COMM_WORLD\n",
        "size = comm.Get_size()\n",
        "rank = comm.Get_rank()\n",
        "data = (rank+1)**2\n",
        "\n",
        "data = comm.gather(data, root=0)\n",
        "if rank == 0:\n",
        "  print (\"rank = %s \" %rank + \"...receiving data to other process\")\n",
        "  for i in range(1,size):\n",
        "    data[i] = (i+1)**2\n",
        "    value = data[i]\n",
        "    print(\" process %s receiving %s from process %s\" %(rank , value , i))\n",
        "  \"\"\"\n",
        "  \n",
        "with open('/content/gather.py', 'w') as f:\n",
        "  f.write(gather.__doc__)\n",
        "\n",
        "! mpiexec --allow-run-as-root -n 5 python /content/gather.py"
      ],
      "execution_count": 19,
      "outputs": [
        {
          "output_type": "stream",
          "name": "stdout",
          "text": [
            "rank = 0 ...receiving data to other process\n",
            " process 0 receiving 4 from process 1\n",
            " process 0 receiving 9 from process 2\n",
            " process 0 receiving 16 from process 3\n",
            " process 0 receiving 25 from process 4\n"
          ]
        }
      ]
    },
    {
      "cell_type": "markdown",
      "metadata": {
        "id": "4XKS2fPEOW2O"
      },
      "source": [
        "**Collective communication using Alltoall**"
      ]
    },
    {
      "cell_type": "markdown",
      "metadata": {
        "id": "b-AotVxzRrD0"
      },
      "source": [
        "Метод .alltoall() берет i-й объект из sendbuf задачи j и копирует его в j-й объект аргумента recvbuf задачи i."
      ]
    },
    {
      "cell_type": "code",
      "metadata": {
        "colab": {
          "base_uri": "https://localhost:8080/"
        },
        "id": "Qy_1W3-xP6Lh",
        "outputId": "3c8ceca6-8c1b-4def-a2ea-dfd1d8426c50"
      },
      "source": [
        "def alltoall():\n",
        "  \"\"\"\n",
        "from mpi4py import MPI\n",
        "import numpy\n",
        "\n",
        "comm = MPI.COMM_WORLD\n",
        "size = comm.Get_size()\n",
        "rank = comm.Get_rank()\n",
        "\n",
        "a_size = 1\n",
        "senddata = (rank+1)*numpy.arange(size,dtype=int)\n",
        "recvdata = numpy.empty(size*a_size,dtype=int)\n",
        "comm.Alltoall(senddata,recvdata)\n",
        "\n",
        "print(\" process %s sending %s receiving %s\" %(rank , senddata , recvdata))\n",
        "  \"\"\"\n",
        "  \n",
        "with open('/content/alltoall.py', 'w') as f:\n",
        "  f.write(alltoall.__doc__)\n",
        "\n",
        "! mpiexec --allow-run-as-root -n 5 python /content/alltoall.py"
      ],
      "execution_count": 20,
      "outputs": [
        {
          "output_type": "stream",
          "name": "stdout",
          "text": [
            " process 0 sending [0 1 2 3 4] receiving [0 0 0 0 0]\n",
            " process 2 sending [ 0  3  6  9 12] receiving [ 2  4  6  8 10]\n",
            " process 1 sending [0 2 4 6 8] receiving [1 2 3 4 5]\n",
            " process 3 sending [ 0  4  8 12 16] receiving [ 3  6  9 12 15]\n",
            " process 4 sending [ 0  5 10 15 20] receiving [ 4  8 12 16 20]\n"
          ]
        }
      ]
    },
    {
      "cell_type": "markdown",
      "metadata": {
        "id": "jvCOaLWTRJyL"
      },
      "source": [
        "**The reduction operation**"
      ]
    },
    {
      "cell_type": "markdown",
      "metadata": {
        "id": "QVcPwPWiUgva"
      },
      "source": [
        "Основнная суть операции reduction - сокращение данных, которая включает в себя сокращение набора чисел до меньшего набора чисел с помощью определённого набора операций (MPI.MAX/MIN/SUM/PROD/LAND/MAXLOC/MINLOC)."
      ]
    },
    {
      "cell_type": "markdown",
      "metadata": {
        "id": "OIK4DXX0TaSV"
      },
      "source": [
        "В тексте учебника опечатка, переменная a_size взята из предыдущего упражнения. В данном примере следует использовать переменную array_size"
      ]
    },
    {
      "cell_type": "code",
      "metadata": {
        "colab": {
          "base_uri": "https://localhost:8080/"
        },
        "id": "lt08d7gpRJfY",
        "outputId": "ed4877fe-f43c-42fa-8f3d-1b7f5e57def1"
      },
      "source": [
        "def reduction2():\n",
        "  \"\"\"\n",
        "import numpy\n",
        "import numpy as np\n",
        "from mpi4py import MPI\n",
        "\n",
        "comm = MPI.COMM_WORLD\n",
        "size = comm.size\n",
        "rank = comm.rank\n",
        "\n",
        "array_size = 3\n",
        "recvdata = numpy.zeros(array_size,dtype=numpy.int)\n",
        "senddata = (rank+1)*numpy.arange(array_size,dtype=numpy.int)\n",
        "print(\" process %s sending %s \" %(rank , senddata))\n",
        "comm.Reduce(senddata,recvdata,root=0,op=MPI.SUM)\n",
        "print ('on task',rank,'after Reduce: data = ',recvdata)\n",
        "  \"\"\"\n",
        "  \n",
        "with open('/content/reduction2.py', 'w') as f:\n",
        "  f.write(reduction2.__doc__)\n",
        "\n",
        "! mpiexec --allow-run-as-root -n 3 python /content/reduction2.py"
      ],
      "execution_count": 21,
      "outputs": [
        {
          "output_type": "stream",
          "name": "stdout",
          "text": [
            " process 0 sending [0 1 2] \n",
            " process 2 sending [0 3 6] \n",
            "on task 2 after Reduce: data =  [0 0 0]\n",
            " process 1 sending [0 2 4] \n",
            "on task 0 after Reduce: data =  [ 0  6 12]\n",
            "on task 1 after Reduce: data =  [0 0 0]\n"
          ]
        }
      ]
    },
    {
      "cell_type": "code",
      "metadata": {
        "id": "CUTAiykAyY06"
      },
      "source": [
        ""
      ],
      "execution_count": 21,
      "outputs": []
    },
    {
      "cell_type": "markdown",
      "metadata": {
        "id": "agMK6VyBVfBt"
      },
      "source": [
        "**How to optimize communication**"
      ]
    },
    {
      "cell_type": "markdown",
      "metadata": {
        "id": "ubNGWiIMwnIR"
      },
      "source": [
        "Для оптимизации коммуникации используются различные виртуальные топологии, что в свою очередь  позволяет коду быть более четким и читаемым.\n",
        "\n",
        "В данном примере реализована декартова топологию размером M×N. Кроме того,\n",
        "здесь определены набор координат, чтобы лучше понять, как расположены все процессы. Декартова топология выглядит следующим образом:\n",
        "\n",
        "![image.png](data:image/png;base64,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)"
      ]
    },
    {
      "cell_type": "markdown",
      "metadata": {
        "id": "gq8gQQfZykA6"
      },
      "source": [
        "Вывод данного примера отличается от вывода в примере из книги. Соседние значения справа/слева и вверх/вниз не принимают значения -1, потому что при использовании метода .Shift() в качестве входных парамтеров используются направление движения вдоль измерения/оси в декартовой топологии, а такаже величина сдвига. Поэтому соседи справа/слева и сверху/снизу будут являться одним и тем же номером процесса, а не отрицательным числом."
      ]
    },
    {
      "cell_type": "code",
      "metadata": {
        "id": "94DvSxDckuQ9",
        "outputId": "abda9f51-0a01-4f41-ff85-4c7c75ef8d9c",
        "colab": {
          "base_uri": "https://localhost:8080/"
        }
      },
      "source": [
        "def virtualTopology():\n",
        "  \"\"\"\n",
        "from mpi4py import MPI\n",
        "import numpy as np\n",
        "\n",
        "UP = 0\n",
        "DOWN = 1\n",
        "LEFT = 2\n",
        "RIGHT = 3\n",
        "neighbour_processes = [0,0,0,0]\n",
        "\n",
        "if __name__ == \"__main__\":\n",
        "  comm = MPI.COMM_WORLD\n",
        "  rank = comm.rank\n",
        "  size = comm.size\n",
        "\n",
        "  grid_rows = int(np.floor(np.sqrt(comm.size)))\n",
        "  grid_column = comm.size // grid_rows\n",
        "\n",
        "  if grid_rows*grid_column > size:\n",
        "    grid_column -= 1\n",
        "\n",
        "  if grid_rows*grid_column > size:\n",
        "    grid_rows -= 1\n",
        "\n",
        "  if (rank == 0) :\n",
        "    print(\"Building a %d x %d grid topology:\" % (grid_rows, grid_column))\n",
        "  \n",
        "  cartesian_communicator = comm.Create_cart((grid_rows, grid_column), periods=(True, True), reorder=True) \n",
        "  my_mpi_row, my_mpi_col = cartesian_communicator.Get_coords( cartesian_communicator.rank )\n",
        "\n",
        "  neighbour_processes[UP], neighbour_processes[DOWN] = cartesian_communicator.Shift(0,1)\n",
        "  neighbour_processes[LEFT], neighbour_processes[RIGHT] = cartesian_communicator.Shift(1,1)\n",
        "\n",
        "  print (\"Process = %s row = %s column = %s ----> \\\n",
        "   neighbour_processes[UP] = %s \\\n",
        "   neighbour_processes[DOWN] = %s \\\n",
        "   neighbour_processes[LEFT] =%s \\\n",
        "   neighbour_processes[RIGHT]=%s\" \\\n",
        "   %(rank, my_mpi_row, my_mpi_col,neighbour_processes[UP], neighbour_processes[DOWN], neighbour_processes[LEFT] , neighbour_processes[RIGHT]))\n",
        "\"\"\"\n",
        "\n",
        "  \n",
        "with open('/content/virtualTopology.py', 'w') as f:\n",
        "  f.write(virtualTopology.__doc__)\n",
        "\n",
        "! mpiexec --allow-run-as-root -n 4 python /content/virtualTopology.py  "
      ],
      "execution_count": 22,
      "outputs": [
        {
          "output_type": "stream",
          "name": "stdout",
          "text": [
            "Building a 2 x 2 grid topology:\n",
            "Process = 0 row = 0 column = 0 ---->    neighbour_processes[UP] = 2    neighbour_processes[DOWN] = 2    neighbour_processes[LEFT] =1    neighbour_processes[RIGHT]=1\n",
            "Process = 2 row = 1 column = 0 ---->    neighbour_processes[UP] = 0    neighbour_processes[DOWN] = 0    neighbour_processes[LEFT] =3    neighbour_processes[RIGHT]=3\n",
            "Process = 1 row = 0 column = 1 ---->    neighbour_processes[UP] = 3    neighbour_processes[DOWN] = 3    neighbour_processes[LEFT] =0    neighbour_processes[RIGHT]=0\n",
            "Process = 3 row = 1 column = 1 ---->    neighbour_processes[UP] = 1    neighbour_processes[DOWN] = 1    neighbour_processes[LEFT] =2    neighbour_processes[RIGHT]=2\n"
          ]
        }
      ]
    }
  ]
}