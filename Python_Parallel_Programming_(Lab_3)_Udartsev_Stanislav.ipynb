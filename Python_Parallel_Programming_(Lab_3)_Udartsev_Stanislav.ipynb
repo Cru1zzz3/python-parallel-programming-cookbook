{
  "nbformat": 4,
  "nbformat_minor": 0,
  "metadata": {
    "colab": {
      "name": "Python Parallel Programming (Lab 3) - Udartsev Stanislav.ipynb",
      "provenance": [],
      "authorship_tag": "ABX9TyNpKrMdh0Xw7LHPf3EevaRa",
      "include_colab_link": true
    },
    "kernelspec": {
      "name": "python3",
      "display_name": "Python 3"
    },
    "language_info": {
      "name": "python"
    }
  },
  "cells": [
    {
      "cell_type": "markdown",
      "metadata": {
        "id": "view-in-github",
        "colab_type": "text"
      },
      "source": [
        "<a href=\"https://colab.research.google.com/github/Cru1zzz3/python-parallel-programming-cookbook/blob/main/Python_Parallel_Programming_(Lab_3)_Udartsev_Stanislav.ipynb\" target=\"_parent\"><img src=\"https://colab.research.google.com/assets/colab-badge.svg\" alt=\"Open In Colab\"/></a>"
      ]
    },
    {
      "cell_type": "markdown",
      "metadata": {
        "id": "JyByeJs7Ubj7"
      },
      "source": [
        "**How to spawn a process**"
      ]
    },
    {
      "cell_type": "code",
      "metadata": {
        "colab": {
          "base_uri": "https://localhost:8080/",
          "height": 0
        },
        "id": "SUif7OmIWpTx",
        "outputId": "a87fb063-3ed3-4f38-e2af-a9d09829cf18"
      },
      "source": [
        "import multiprocessing\n",
        "\n",
        "def foo(i):\n",
        "  print ('called function in process: %s' %i)\n",
        "  return\n",
        "\n",
        "if __name__ == '__main__':\n",
        "  Process_jobs = []\n",
        "  for i in range(5):\n",
        "    p = multiprocessing.Process(target=foo, args=(i,))\n",
        "    Process_jobs.append(p)\n",
        "    p.start()\n",
        "    p.join()\n"
      ],
      "execution_count": 4,
      "outputs": [
        {
          "output_type": "stream",
          "name": "stdout",
          "text": [
            "called function in process: 0\n",
            "called function in process: 1\n",
            "called function in process: 2\n",
            "called function in process: 3\n",
            "called function in process: 4\n"
          ]
        }
      ]
    },
    {
      "cell_type": "markdown",
      "metadata": {
        "id": "aqa1ea_TYKr4"
      },
      "source": [
        "**How to name a process**"
      ]
    },
    {
      "cell_type": "markdown",
      "metadata": {
        "id": "l2LLPzQXY7i0"
      },
      "source": [
        "Процесс обращения к имени процесса схож с тем, что был во второй главе во время обращения к имени потока."
      ]
    },
    {
      "cell_type": "code",
      "metadata": {
        "colab": {
          "base_uri": "https://localhost:8080/",
          "height": 0
        },
        "id": "wFF-6XQTYJm5",
        "outputId": "98a5ff27-77a8-4c7c-9817-099f68f3e9c8"
      },
      "source": [
        "import multiprocessing\n",
        "import time\n",
        "\n",
        "def foo():\n",
        "  name = multiprocessing.current_process().name\n",
        "  print(\"Starting %s \\n\" %name)\n",
        "  time.sleep(3)\n",
        "  print(\"Exiting %s \\n %name\")\n",
        "\n",
        "if __name__ == '__main__':\n",
        "  process_with_name = multiprocessing.Process(name='foo_process', target=foo)\n",
        "  process_with_name.daemon = True\n",
        "  process_with_default_name = multiprocessing.Process(target=foo)\n",
        "  process_with_name.start()\n",
        "  process_with_default_name.start()"
      ],
      "execution_count": 6,
      "outputs": [
        {
          "output_type": "stream",
          "name": "stdout",
          "text": [
            "Starting foo_process \n",
            "\n",
            "Starting Process-19 \n",
            "\n"
          ]
        }
      ]
    },
    {
      "cell_type": "markdown",
      "metadata": {
        "id": "PJ4DBvILZMrx"
      },
      "source": [
        "**How to run a process in the background**"
      ]
    },
    {
      "cell_type": "code",
      "metadata": {
        "colab": {
          "base_uri": "https://localhost:8080/"
        },
        "id": "yfdHpjE2ZLrB",
        "outputId": "a434bce0-b447-4928-b8f4-a0726a8fcc05"
      },
      "source": [
        "import multiprocessing\n",
        "import time\n",
        "\n",
        "def foo():\n",
        " name = multiprocessing.current_process().name\n",
        " print (\"Starting %s \\n\" %name)\n",
        " time.sleep(3)\n",
        " print (\"Exiting %s \\n\" %name)\n",
        "\n",
        "if __name__ == '__main__':\n",
        "  background_process = multiprocessing.Process(name='background_process', target=foo)\n",
        "  background_process.daemon = True\n",
        "\n",
        "  NO_background_process = multiprocessing.Process(name='NO_background_process', target=foo)\n",
        "  NO_background_process.daemon = False\n",
        "\n",
        "  background_process.start()\n",
        "  NO_background_process.start()\n",
        "  \n",
        "  background_process.join()\n",
        "  NO_background_process.join()\n",
        "\n"
      ],
      "execution_count": 12,
      "outputs": [
        {
          "output_type": "stream",
          "name": "stdout",
          "text": [
            "Starting background_process \n",
            "\n",
            "Starting NO_background_process \n",
            "\n",
            "Exiting background_process \n",
            "\n",
            "Exiting NO_background_process \n",
            "\n"
          ]
        }
      ]
    },
    {
      "cell_type": "markdown",
      "metadata": {
        "id": "tMaoHEPRa3VH"
      },
      "source": [
        "**How to kill a process**"
      ]
    },
    {
      "cell_type": "markdown",
      "metadata": {
        "id": "xYGcWmwqTqlH"
      },
      "source": [
        "Опрос статуса процесса можно с помощью метода .is_alive(). Убить процесс с помощью метода .terminate()    "
      ]
    },
    {
      "cell_type": "code",
      "metadata": {
        "colab": {
          "base_uri": "https://localhost:8080/"
        },
        "id": "2Bd21CSugi9P",
        "outputId": "24524f0b-363c-49ab-dced-af83a0402715"
      },
      "source": [
        "import multiprocessing\n",
        "import time\n",
        "\n",
        "def foo():\n",
        " print ('Starting function')\n",
        " time.sleep(0.1)\n",
        " print ('Finished function')\n",
        "\n",
        "if __name__ ==  '__main__':\n",
        "  p = multiprocessing.Process(target=foo)\n",
        "  print ('Process before execution:', p, p.is_alive())\n",
        "  p.start()\n",
        "  print ('Process running:', p, p.is_alive())\n",
        "  p.terminate()\n",
        "  print ('Process terminated:', p, p.is_alive())\n",
        "  p.join()\n",
        "  print ('Process joined:', p, p.is_alive())\n",
        "  print ('Process exit code:', p.exitcode)\n"
      ],
      "execution_count": 14,
      "outputs": [
        {
          "output_type": "stream",
          "name": "stdout",
          "text": [
            "Process before execution: <Process(Process-31, initial)> False\n",
            "Process running: <Process(Process-31, started)> True\n",
            "Process terminated: <Process(Process-31, started)> True\n",
            "Process joined: <Process(Process-31, stopped[SIGTERM])> False\n",
            "Process exit code: -15\n"
          ]
        }
      ]
    },
    {
      "cell_type": "markdown",
      "metadata": {
        "id": "fT8miU0KU5oU"
      },
      "source": [
        "**How to use a process in a subclass**"
      ]
    },
    {
      "cell_type": "code",
      "metadata": {
        "colab": {
          "base_uri": "https://localhost:8080/"
        },
        "id": "tI2R5UGyU5FT",
        "outputId": "477599e2-e4de-4768-a39f-edcd62877b13"
      },
      "source": [
        "import multiprocessing\n",
        "\n",
        "class MyProcess(multiprocessing.Process):\n",
        "  def run(self):\n",
        "    print ('called run method in process: %s' %self.name)\n",
        "    return\n",
        "\n",
        "if __name__ == '__main__':\n",
        " jobs = []\n",
        " for i in range(5):\n",
        "  p = MyProcess ()\n",
        "  jobs.append(p)\n",
        "  p.start()\n",
        "  p.join()"
      ],
      "execution_count": 2,
      "outputs": [
        {
          "output_type": "stream",
          "name": "stdout",
          "text": [
            "called run method in process: MyProcess-1\n",
            "called run method in process: MyProcess-2\n",
            "called run method in process: MyProcess-3\n",
            "called run method in process: MyProcess-4\n",
            "called run method in process: MyProcess-5\n"
          ]
        }
      ]
    },
    {
      "cell_type": "markdown",
      "metadata": {
        "id": "aSOYhGQyVfWJ"
      },
      "source": [
        "**How to exchange objects between\n",
        "processes**"
      ]
    },
    {
      "cell_type": "markdown",
      "metadata": {
        "id": "wPt4zohccukz"
      },
      "source": [
        "1. Using queue to exchange objects"
      ]
    },
    {
      "cell_type": "code",
      "metadata": {
        "colab": {
          "base_uri": "https://localhost:8080/"
        },
        "id": "zsYFsuF7VhP0",
        "outputId": "258910ac-9c4f-4352-8c98-6f06144df433"
      },
      "source": [
        "import multiprocessing\n",
        "import random\n",
        "import time\n",
        "\n",
        "class producer(multiprocessing.Process):\n",
        "  def __init__(self, queue):\n",
        "    multiprocessing.Process.__init__(self)\n",
        "    self.queue = queue\n",
        "    \n",
        "  def run(self) :\n",
        "    for i in range(10):\n",
        "      item = random.randint(0, 256)\n",
        "      self.queue.put(item)\n",
        "      print (\"Process Producer : item %d appended to queue %s\" % (item,self.name))\n",
        "      time.sleep(1)\n",
        "      print (\"The size of queue is %s\" % self.queue.qsize())\n",
        "\n",
        "class consumer(multiprocessing.Process):\n",
        "  def __init__(self, queue):\n",
        "    multiprocessing.Process.__init__(self)\n",
        "    self.queue = queue\n",
        "\n",
        "  def run(self):\n",
        "    while True:\n",
        "      if (self.queue.empty()):\n",
        "        print(\"the queue is empty\")\n",
        "        break\n",
        "      else :\n",
        "        time.sleep(2)\n",
        "        item = self.queue.get()\n",
        "        print ('Process Consumer : item %d popped from by %s \\n' % (item, self.name))\n",
        "        time.sleep(1)\n",
        "\n",
        "if __name__ == '__main__':\n",
        "  queue = multiprocessing.Queue()\n",
        "  process_producer = producer(queue)\n",
        "  process_consumer = consumer(queue)\n",
        "  process_producer.start()\n",
        "  process_consumer.start()\n",
        "  process_producer.join()\n",
        "  process_consumer.join()\n",
        "\n"
      ],
      "execution_count": 3,
      "outputs": [
        {
          "output_type": "stream",
          "name": "stdout",
          "text": [
            "Process Producer : item 139 appended to queue producer-6\n",
            "The size of queue is 1\n",
            "Process Producer : item 5 appended to queue producer-6\n",
            "The size of queue is 1\n",
            "Process Producer : item 165 appended to queue producer-6\n",
            "Process Consumer : item 139 popped from by consumer-7 \n",
            "\n",
            "The size of queue is 2\n",
            "Process Producer : item 46 appended to queue producer-6\n",
            "The size of queue is 3\n",
            "Process Producer : item 200 appended to queue producer-6\n",
            "Process Consumer : item 5 popped from by consumer-7 \n",
            "The size of queue is 3\n",
            "\n",
            "Process Producer : item 200 appended to queue producer-6\n",
            "The size of queue is 4\n",
            "Process Producer : item 129 appended to queue producer-6\n",
            "The size of queue is 5\n",
            "Process Producer : item 191 appended to queue producer-6\n",
            "Process Consumer : item 165 popped from by consumer-7 \n",
            "\n",
            "The size of queue is 5\n",
            "Process Producer : item 243 appended to queue producer-6\n",
            "The size of queue is 6\n",
            "Process Producer : item 85 appended to queue producer-6\n",
            "The size of queue is 7\n",
            "Process Consumer : item 46 popped from by consumer-7 \n",
            "\n",
            "Process Consumer : item 200 popped from by consumer-7 \n",
            "\n",
            "Process Consumer : item 200 popped from by consumer-7 \n",
            "\n",
            "Process Consumer : item 129 popped from by consumer-7 \n",
            "\n",
            "Process Consumer : item 191 popped from by consumer-7 \n",
            "\n",
            "Process Consumer : item 243 popped from by consumer-7 \n",
            "\n",
            "Process Consumer : item 85 popped from by consumer-7 \n",
            "\n",
            "the queue is empty\n"
          ]
        }
      ]
    },
    {
      "cell_type": "markdown",
      "metadata": {
        "id": "yXXaeJIccwvd"
      },
      "source": [
        "2. Using pipes to exchange objects "
      ]
    },
    {
      "cell_type": "code",
      "metadata": {
        "colab": {
          "base_uri": "https://localhost:8080/"
        },
        "id": "gBnKnJz9dei5",
        "outputId": "4662783a-42ee-45dc-86ef-4f550a7741a3"
      },
      "source": [
        "import multiprocessing\n",
        "\n",
        "def create_items(pipe):\n",
        "  output_pipe, _ = pipe\n",
        "  for item in range(10):\n",
        "    output_pipe.send(item)\n",
        "  output_pipe.close()\n",
        "\n",
        "def multiply_items(pipe_1, pipe_2):\n",
        "  close, input_pipe = pipe_1\n",
        "  close.close()\n",
        "  output_pipe, _ = pipe_2\n",
        "  try:\n",
        "    while True:\n",
        "      item = input_pipe.recv()\n",
        "      output_pipe.send(item * item)\n",
        "  except EOFError:\n",
        "    output_pipe.close()\n",
        "\n",
        "if __name__== '__main__':\n",
        "  #First process pipe with numbers from 0 to 9\n",
        "  pipe_1 = multiprocessing.Pipe(True)\n",
        "  process_pipe_1 = multiprocessing.Process(target=create_items, args=(pipe_1,))\n",
        "  process_pipe_1.start()\n",
        "  #second pipe,\n",
        "  pipe_2 = multiprocessing.Pipe(True)\n",
        "  process_pipe_2 = multiprocessing.Process(target=multiply_items, args=(pipe_1, pipe_2,))\n",
        "  process_pipe_2.start()\n",
        "  pipe_1[0].close()\n",
        "  pipe_2[0].close()\n",
        "  try:\n",
        "    while True:\n",
        "      print(pipe_2[1].recv())\n",
        "  except EOFError:\n",
        "    print(\"End\")"
      ],
      "execution_count": 4,
      "outputs": [
        {
          "output_type": "stream",
          "name": "stdout",
          "text": [
            "0\n",
            "1\n",
            "4\n",
            "9\n",
            "16\n",
            "25\n",
            "36\n",
            "49\n",
            "64\n",
            "81\n",
            "End\n"
          ]
        }
      ]
    },
    {
      "cell_type": "markdown",
      "metadata": {
        "id": "j7mRouZKhRKH"
      },
      "source": [
        "**How to synchronize processes**"
      ]
    }
  ]
}