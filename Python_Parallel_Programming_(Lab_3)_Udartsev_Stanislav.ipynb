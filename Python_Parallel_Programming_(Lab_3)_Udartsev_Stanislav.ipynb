{
  "nbformat": 4,
  "nbformat_minor": 0,
  "metadata": {
    "colab": {
      "name": "Python Parallel Programming (Lab 3) - Udartsev Stanislav.ipynb",
      "provenance": [],
      "authorship_tag": "ABX9TyMexT5fMEAeAb0OkzWlJh6p",
      "include_colab_link": true
    },
    "kernelspec": {
      "name": "python3",
      "display_name": "Python 3"
    },
    "language_info": {
      "name": "python"
    }
  },
  "cells": [
    {
      "cell_type": "markdown",
      "metadata": {
        "id": "view-in-github",
        "colab_type": "text"
      },
      "source": [
        "<a href=\"https://colab.research.google.com/github/Cru1zzz3/python-parallel-programming-cookbook/blob/main/Python_Parallel_Programming_(Lab_3)_Udartsev_Stanislav.ipynb\" target=\"_parent\"><img src=\"https://colab.research.google.com/assets/colab-badge.svg\" alt=\"Open In Colab\"/></a>"
      ]
    },
    {
      "cell_type": "markdown",
      "metadata": {
        "id": "JyByeJs7Ubj7"
      },
      "source": [
        "**How to spawn a process**"
      ]
    },
    {
      "cell_type": "code",
      "metadata": {
        "colab": {
          "base_uri": "https://localhost:8080/"
        },
        "id": "SUif7OmIWpTx",
        "outputId": "a87fb063-3ed3-4f38-e2af-a9d09829cf18"
      },
      "source": [
        "import multiprocessing\n",
        "\n",
        "def foo(i):\n",
        "  print ('called function in process: %s' %i)\n",
        "  return\n",
        "\n",
        "if __name__ == '__main__':\n",
        "  Process_jobs = []\n",
        "  for i in range(5):\n",
        "    p = multiprocessing.Process(target=foo, args=(i,))\n",
        "    Process_jobs.append(p)\n",
        "    p.start()\n",
        "    p.join()\n"
      ],
      "execution_count": null,
      "outputs": [
        {
          "output_type": "stream",
          "name": "stdout",
          "text": [
            "called function in process: 0\n",
            "called function in process: 1\n",
            "called function in process: 2\n",
            "called function in process: 3\n",
            "called function in process: 4\n"
          ]
        }
      ]
    },
    {
      "cell_type": "markdown",
      "metadata": {
        "id": "aqa1ea_TYKr4"
      },
      "source": [
        "**How to name a process**"
      ]
    },
    {
      "cell_type": "markdown",
      "metadata": {
        "id": "l2LLPzQXY7i0"
      },
      "source": [
        "Процесс обращения к имени процесса схож с тем, что был во второй главе во время обращения к имени потока."
      ]
    },
    {
      "cell_type": "code",
      "metadata": {
        "colab": {
          "base_uri": "https://localhost:8080/"
        },
        "id": "wFF-6XQTYJm5",
        "outputId": "98a5ff27-77a8-4c7c-9817-099f68f3e9c8"
      },
      "source": [
        "import multiprocessing\n",
        "import time\n",
        "\n",
        "def foo():\n",
        "  name = multiprocessing.current_process().name\n",
        "  print(\"Starting %s \\n\" %name)\n",
        "  time.sleep(3)\n",
        "  print(\"Exiting %s \\n %name\")\n",
        "\n",
        "if __name__ == '__main__':\n",
        "  process_with_name = multiprocessing.Process(name='foo_process', target=foo)\n",
        "  process_with_name.daemon = True\n",
        "  process_with_default_name = multiprocessing.Process(target=foo)\n",
        "  process_with_name.start()\n",
        "  process_with_default_name.start()"
      ],
      "execution_count": null,
      "outputs": [
        {
          "output_type": "stream",
          "name": "stdout",
          "text": [
            "Starting foo_process \n",
            "\n",
            "Starting Process-19 \n",
            "\n"
          ]
        }
      ]
    },
    {
      "cell_type": "markdown",
      "metadata": {
        "id": "PJ4DBvILZMrx"
      },
      "source": [
        "**How to run a process in the background**"
      ]
    },
    {
      "cell_type": "code",
      "metadata": {
        "colab": {
          "base_uri": "https://localhost:8080/"
        },
        "id": "yfdHpjE2ZLrB",
        "outputId": "a434bce0-b447-4928-b8f4-a0726a8fcc05"
      },
      "source": [
        "import multiprocessing\n",
        "import time\n",
        "\n",
        "def foo():\n",
        " name = multiprocessing.current_process().name\n",
        " print (\"Starting %s \\n\" %name)\n",
        " time.sleep(3)\n",
        " print (\"Exiting %s \\n\" %name)\n",
        "\n",
        "if __name__ == '__main__':\n",
        "  background_process = multiprocessing.Process(name='background_process', target=foo)\n",
        "  background_process.daemon = True\n",
        "\n",
        "  NO_background_process = multiprocessing.Process(name='NO_background_process', target=foo)\n",
        "  NO_background_process.daemon = False\n",
        "\n",
        "  background_process.start()\n",
        "  NO_background_process.start()\n",
        "  \n",
        "  background_process.join()\n",
        "  NO_background_process.join()\n",
        "\n"
      ],
      "execution_count": null,
      "outputs": [
        {
          "output_type": "stream",
          "name": "stdout",
          "text": [
            "Starting background_process \n",
            "\n",
            "Starting NO_background_process \n",
            "\n",
            "Exiting background_process \n",
            "\n",
            "Exiting NO_background_process \n",
            "\n"
          ]
        }
      ]
    },
    {
      "cell_type": "markdown",
      "metadata": {
        "id": "tMaoHEPRa3VH"
      },
      "source": [
        "**How to kill a process**"
      ]
    },
    {
      "cell_type": "markdown",
      "metadata": {
        "id": "xYGcWmwqTqlH"
      },
      "source": [
        "Опрос статуса процесса можно с помощью метода .is_alive(). Убить процесс с помощью метода .terminate()    "
      ]
    },
    {
      "cell_type": "code",
      "metadata": {
        "colab": {
          "base_uri": "https://localhost:8080/"
        },
        "id": "2Bd21CSugi9P",
        "outputId": "24524f0b-363c-49ab-dced-af83a0402715"
      },
      "source": [
        "import multiprocessing\n",
        "import time\n",
        "\n",
        "def foo():\n",
        " print ('Starting function')\n",
        " time.sleep(0.1)\n",
        " print ('Finished function')\n",
        "\n",
        "if __name__ ==  '__main__':\n",
        "  p = multiprocessing.Process(target=foo)\n",
        "  print ('Process before execution:', p, p.is_alive())\n",
        "  p.start()\n",
        "  print ('Process running:', p, p.is_alive())\n",
        "  p.terminate()\n",
        "  print ('Process terminated:', p, p.is_alive())\n",
        "  p.join()\n",
        "  print ('Process joined:', p, p.is_alive())\n",
        "  print ('Process exit code:', p.exitcode)\n"
      ],
      "execution_count": null,
      "outputs": [
        {
          "output_type": "stream",
          "name": "stdout",
          "text": [
            "Process before execution: <Process(Process-31, initial)> False\n",
            "Process running: <Process(Process-31, started)> True\n",
            "Process terminated: <Process(Process-31, started)> True\n",
            "Process joined: <Process(Process-31, stopped[SIGTERM])> False\n",
            "Process exit code: -15\n"
          ]
        }
      ]
    },
    {
      "cell_type": "markdown",
      "metadata": {
        "id": "fT8miU0KU5oU"
      },
      "source": [
        "**How to use a process in a subclass**"
      ]
    },
    {
      "cell_type": "code",
      "metadata": {
        "colab": {
          "base_uri": "https://localhost:8080/"
        },
        "id": "tI2R5UGyU5FT",
        "outputId": "477599e2-e4de-4768-a39f-edcd62877b13"
      },
      "source": [
        "import multiprocessing\n",
        "\n",
        "class MyProcess(multiprocessing.Process):\n",
        "  def run(self):\n",
        "    print ('called run method in process: %s' %self.name)\n",
        "    return\n",
        "\n",
        "if __name__ == '__main__':\n",
        " jobs = []\n",
        " for i in range(5):\n",
        "  p = MyProcess ()\n",
        "  jobs.append(p)\n",
        "  p.start()\n",
        "  p.join()"
      ],
      "execution_count": null,
      "outputs": [
        {
          "output_type": "stream",
          "name": "stdout",
          "text": [
            "called run method in process: MyProcess-1\n",
            "called run method in process: MyProcess-2\n",
            "called run method in process: MyProcess-3\n",
            "called run method in process: MyProcess-4\n",
            "called run method in process: MyProcess-5\n"
          ]
        }
      ]
    },
    {
      "cell_type": "markdown",
      "metadata": {
        "id": "aSOYhGQyVfWJ"
      },
      "source": [
        "**How to exchange objects between\n",
        "processes**"
      ]
    },
    {
      "cell_type": "markdown",
      "metadata": {
        "id": "wPt4zohccukz"
      },
      "source": [
        "1. Using queue to exchange objects"
      ]
    },
    {
      "cell_type": "code",
      "metadata": {
        "colab": {
          "base_uri": "https://localhost:8080/"
        },
        "id": "zsYFsuF7VhP0",
        "outputId": "258910ac-9c4f-4352-8c98-6f06144df433"
      },
      "source": [
        "import multiprocessing\n",
        "import random\n",
        "import time\n",
        "\n",
        "class producer(multiprocessing.Process):\n",
        "  def __init__(self, queue):\n",
        "    multiprocessing.Process.__init__(self)\n",
        "    self.queue = queue\n",
        "    \n",
        "  def run(self) :\n",
        "    for i in range(10):\n",
        "      item = random.randint(0, 256)\n",
        "      self.queue.put(item)\n",
        "      print (\"Process Producer : item %d appended to queue %s\" % (item,self.name))\n",
        "      time.sleep(1)\n",
        "      print (\"The size of queue is %s\" % self.queue.qsize())\n",
        "\n",
        "class consumer(multiprocessing.Process):\n",
        "  def __init__(self, queue):\n",
        "    multiprocessing.Process.__init__(self)\n",
        "    self.queue = queue\n",
        "\n",
        "  def run(self):\n",
        "    while True:\n",
        "      if (self.queue.empty()):\n",
        "        print(\"the queue is empty\")\n",
        "        break\n",
        "      else :\n",
        "        time.sleep(2)\n",
        "        item = self.queue.get()\n",
        "        print ('Process Consumer : item %d popped from by %s \\n' % (item, self.name))\n",
        "        time.sleep(1)\n",
        "\n",
        "if __name__ == '__main__':\n",
        "  queue = multiprocessing.Queue()\n",
        "  process_producer = producer(queue)\n",
        "  process_consumer = consumer(queue)\n",
        "  process_producer.start()\n",
        "  process_consumer.start()\n",
        "  process_producer.join()\n",
        "  process_consumer.join()\n",
        "\n"
      ],
      "execution_count": null,
      "outputs": [
        {
          "output_type": "stream",
          "name": "stdout",
          "text": [
            "Process Producer : item 139 appended to queue producer-6\n",
            "The size of queue is 1\n",
            "Process Producer : item 5 appended to queue producer-6\n",
            "The size of queue is 1\n",
            "Process Producer : item 165 appended to queue producer-6\n",
            "Process Consumer : item 139 popped from by consumer-7 \n",
            "\n",
            "The size of queue is 2\n",
            "Process Producer : item 46 appended to queue producer-6\n",
            "The size of queue is 3\n",
            "Process Producer : item 200 appended to queue producer-6\n",
            "Process Consumer : item 5 popped from by consumer-7 \n",
            "The size of queue is 3\n",
            "\n",
            "Process Producer : item 200 appended to queue producer-6\n",
            "The size of queue is 4\n",
            "Process Producer : item 129 appended to queue producer-6\n",
            "The size of queue is 5\n",
            "Process Producer : item 191 appended to queue producer-6\n",
            "Process Consumer : item 165 popped from by consumer-7 \n",
            "\n",
            "The size of queue is 5\n",
            "Process Producer : item 243 appended to queue producer-6\n",
            "The size of queue is 6\n",
            "Process Producer : item 85 appended to queue producer-6\n",
            "The size of queue is 7\n",
            "Process Consumer : item 46 popped from by consumer-7 \n",
            "\n",
            "Process Consumer : item 200 popped from by consumer-7 \n",
            "\n",
            "Process Consumer : item 200 popped from by consumer-7 \n",
            "\n",
            "Process Consumer : item 129 popped from by consumer-7 \n",
            "\n",
            "Process Consumer : item 191 popped from by consumer-7 \n",
            "\n",
            "Process Consumer : item 243 popped from by consumer-7 \n",
            "\n",
            "Process Consumer : item 85 popped from by consumer-7 \n",
            "\n",
            "the queue is empty\n"
          ]
        }
      ]
    },
    {
      "cell_type": "markdown",
      "metadata": {
        "id": "yXXaeJIccwvd"
      },
      "source": [
        "2. Using pipes to exchange objects "
      ]
    },
    {
      "cell_type": "code",
      "metadata": {
        "colab": {
          "base_uri": "https://localhost:8080/"
        },
        "id": "gBnKnJz9dei5",
        "outputId": "4662783a-42ee-45dc-86ef-4f550a7741a3"
      },
      "source": [
        "import multiprocessing\n",
        "\n",
        "def create_items(pipe):\n",
        "  output_pipe, _ = pipe\n",
        "  for item in range(10):\n",
        "    output_pipe.send(item)\n",
        "  output_pipe.close()\n",
        "\n",
        "def multiply_items(pipe_1, pipe_2):\n",
        "  close, input_pipe = pipe_1\n",
        "  close.close()\n",
        "  output_pipe, _ = pipe_2\n",
        "  try:\n",
        "    while True:\n",
        "      item = input_pipe.recv()\n",
        "      output_pipe.send(item * item)\n",
        "  except EOFError:\n",
        "    output_pipe.close()\n",
        "\n",
        "if __name__== '__main__':\n",
        "  #First process pipe with numbers from 0 to 9\n",
        "  pipe_1 = multiprocessing.Pipe(True)\n",
        "  process_pipe_1 = multiprocessing.Process(target=create_items, args=(pipe_1,))\n",
        "  process_pipe_1.start()\n",
        "  #second pipe,\n",
        "  pipe_2 = multiprocessing.Pipe(True)\n",
        "  process_pipe_2 = multiprocessing.Process(target=multiply_items, args=(pipe_1, pipe_2,))\n",
        "  process_pipe_2.start()\n",
        "  pipe_1[0].close()\n",
        "  pipe_2[0].close()\n",
        "  try:\n",
        "    while True:\n",
        "      print(pipe_2[1].recv())\n",
        "  except EOFError:\n",
        "    print(\"End\")"
      ],
      "execution_count": null,
      "outputs": [
        {
          "output_type": "stream",
          "name": "stdout",
          "text": [
            "0\n",
            "1\n",
            "4\n",
            "9\n",
            "16\n",
            "25\n",
            "36\n",
            "49\n",
            "64\n",
            "81\n",
            "End\n"
          ]
        }
      ]
    },
    {
      "cell_type": "markdown",
      "metadata": {
        "id": "j7mRouZKhRKH"
      },
      "source": [
        "**How to synchronize processes**"
      ]
    },
    {
      "cell_type": "markdown",
      "metadata": {
        "id": "XqNZZqoHzuaH"
      },
      "source": [
        "Примитивы синхронизации очень похожи на те, которые встречались в прошлой лабораторной работе при использовании библиотеки multithreading. Добавляется новый примитив синхронизации Barrier. Процессы могут продолжить свою работу, только при достижении порогового значения барьера, таким образом можно добиться синхронизации. \n",
        "\n",
        "В примере из книги значения времени при достижении барьерного значения "
      ]
    },
    {
      "cell_type": "code",
      "metadata": {
        "id": "bAbNFfzH77yX",
        "outputId": "fbbc43da-fc97-4ffb-85b6-524cfc1fbdd7",
        "colab": {
          "base_uri": "https://localhost:8080/"
        }
      },
      "source": [
        "import multiprocessing\n",
        "from multiprocessing import Barrier, Lock, Process\n",
        "from time import time\n",
        "from datetime import datetime\n",
        "\n",
        "def test_with_barrier(synchronizer, serializer):\n",
        "  name = multiprocessing.current_process().name\n",
        "  synchronizer.wait()\n",
        "  now = time()\n",
        "  with serializer:\n",
        "    print(\"process %s ----> %s\" %(name,datetime.fromtimestamp(now)))\n",
        "\n",
        "def test_without_barrier():\n",
        "  name = multiprocessing.current_process().name\n",
        "  now = time()\n",
        "  print(\"process %s ----> %s\" %(name ,datetime.fromtimestamp(now)))\n",
        "\n",
        "if __name__ == '__main__':\n",
        "  synchronizer = Barrier(2)\n",
        "  serializer = Lock()\n",
        "  Process(name='p1 - test_with_barrier', target=test_with_barrier, args=(synchronizer, serializer)).start()\n",
        "  Process(name='p2 - test_with_barrier', target=test_with_barrier, args=(synchronizer, serializer)).start()\n",
        "  Process(name='p3 - test_without_barrier', target=test_without_barrier).start()\n",
        "  Process(name='p4 - test_without_barrier', target=test_without_barrier).start()\n",
        "\n",
        "\n",
        "\n"
      ],
      "execution_count": 1,
      "outputs": [
        {
          "output_type": "stream",
          "name": "stdout",
          "text": [
            "process p1 - test_with_barrier ----> 2021-11-22 09:25:34.575058\n",
            "process p2 - test_with_barrier ----> 2021-11-22 09:25:34.577652\n",
            "process p3 - test_without_barrier ----> 2021-11-22 09:25:34.606573\n",
            "process p4 - test_without_barrier ----> 2021-11-22 09:25:34.613505\n"
          ]
        }
      ]
    },
    {
      "cell_type": "markdown",
      "metadata": {
        "id": "ULvB2WED0jKs"
      },
      "source": [
        "**How to manage a state between processes**"
      ]
    },
    {
      "cell_type": "markdown",
      "metadata": {
        "id": "V4U_sNau4Unl"
      },
      "source": [
        "Благодаря объекту Manager() данные могут быть доступны между несколькими процессами. В нашем случае объектом данных выступает словарь, доступный каждому процессу, значения которого вычисляются внутри каждого из процессов."
      ]
    },
    {
      "cell_type": "code",
      "metadata": {
        "id": "DYrAlE2i018Z",
        "outputId": "66f744f9-7cd0-4e8b-dc4d-5117af6a2a7e",
        "colab": {
          "base_uri": "https://localhost:8080/"
        }
      },
      "source": [
        "import multiprocessing\n",
        "\n",
        "def worker(dictionary, key, item):\n",
        "  dictionary[key] = item\n",
        "  print(\"key = \", key, \"value = \", item)\n",
        "\n",
        "if __name__ == \"__main__\":\n",
        "  mgr = multiprocessing.Manager()\n",
        "  dictionary = mgr.dict()\n",
        "  jobs = [multiprocessing.Process(target=worker, args=(dictionary, i, i*2)) for i in range(10)]\n",
        "  for j in jobs: \n",
        "    j.start()\n",
        "  for j in jobs:\n",
        "    j.join()\n",
        "  print(\"Results:\", dictionary)"
      ],
      "execution_count": 5,
      "outputs": [
        {
          "output_type": "stream",
          "name": "stdout",
          "text": [
            "key =  0 value =  0\n",
            "key =  1 value =  2\n",
            "key =  2 value =  4\n",
            "key =  3 value =  6\n",
            "key =  4 value =  8\n",
            "key =  5 value =  10\n",
            "key =  6 value =  12\n",
            "key =  8 value =  16\n",
            "key =  7 value =  14\n",
            "key =  9 value =  18\n",
            "Results: {0: 0, 1: 2, 2: 4, 3: 6, 4: 8, 5: 10, 6: 12, 7: 14, 8: 16, 9: 18}\n"
          ]
        }
      ]
    },
    {
      "cell_type": "markdown",
      "metadata": {
        "id": "vSwvXTZT471f"
      },
      "source": [
        "**How to use a process pool**"
      ]
    },
    {
      "cell_type": "markdown",
      "metadata": {
        "id": "NSrNwMSr--Ly"
      },
      "source": [
        "Использования объекта Pool() позволяет выполнять вычисление функции параллельно, задавая необходимое параллельных процессов в пуле процессов. Для пула процессов можно применять метод  одноимённый встроенной функции .map(), которая применяет функцию к каждому элементу итерируемого объекта, но делает это параллельно."
      ]
    },
    {
      "cell_type": "code",
      "metadata": {
        "id": "OMJ-a5jD47KU",
        "outputId": "2707a00d-7f74-4c03-dfee-f160d6d850cb",
        "colab": {
          "base_uri": "https://localhost:8080/"
        }
      },
      "source": [
        "def function_square(data):\n",
        "  result = data*data\n",
        "  return result\n",
        "\n",
        "if __name__ == '__main__':\n",
        "  inputs = list(range(100))\n",
        "  pool = multiprocessing.Pool(processes=4)\n",
        "  pool_outputs = pool.map(function_square, inputs)\n",
        "  pool.close()\n",
        "  pool.join()\n",
        "  print ('Pool :', pool_outputs)"
      ],
      "execution_count": 19,
      "outputs": [
        {
          "output_type": "stream",
          "name": "stdout",
          "text": [
            "Pool : [0, 1, 4, 9, 16, 25, 36, 49, 64, 81, 100, 121, 144, 169, 196, 225, 256, 289, 324, 361, 400, 441, 484, 529, 576, 625, 676, 729, 784, 841, 900, 961, 1024, 1089, 1156, 1225, 1296, 1369, 1444, 1521, 1600, 1681, 1764, 1849, 1936, 2025, 2116, 2209, 2304, 2401, 2500, 2601, 2704, 2809, 2916, 3025, 3136, 3249, 3364, 3481, 3600, 3721, 3844, 3969, 4096, 4225, 4356, 4489, 4624, 4761, 4900, 5041, 5184, 5329, 5476, 5625, 5776, 5929, 6084, 6241, 6400, 6561, 6724, 6889, 7056, 7225, 7396, 7569, 7744, 7921, 8100, 8281, 8464, 8649, 8836, 9025, 9216, 9409, 9604, 9801]\n"
          ]
        }
      ]
    },
    {
      "cell_type": "markdown",
      "metadata": {
        "id": "_KT9FB3R_Wge"
      },
      "source": [
        "**Using the mpi4py Python module**"
      ]
    },
    {
      "cell_type": "markdown",
      "metadata": {
        "id": "tUatH4bfIbyf"
      },
      "source": [
        "Модуль mpi4py представляет собой обётку над библиотека языка С под названием MPI, котороая позволяет устанавливать взаимодействие процессов с использованием сообщений "
      ]
    },
    {
      "cell_type": "code",
      "metadata": {
        "id": "TSRCIaBz_WJo",
        "outputId": "99d78865-e7c0-4d7e-bc44-c67b08c1f276",
        "colab": {
          "base_uri": "https://localhost:8080/"
        }
      },
      "source": [
        "!pip install mpi4py"
      ],
      "execution_count": 20,
      "outputs": [
        {
          "output_type": "stream",
          "name": "stdout",
          "text": [
            "Collecting mpi4py\n",
            "  Downloading mpi4py-3.1.2.tar.gz (2.5 MB)\n",
            "\u001b[K     |████████████████████████████████| 2.5 MB 5.1 MB/s \n",
            "\u001b[?25h  Installing build dependencies ... \u001b[?25l\u001b[?25hdone\n",
            "  Getting requirements to build wheel ... \u001b[?25l\u001b[?25hdone\n",
            "    Preparing wheel metadata ... \u001b[?25l\u001b[?25hdone\n",
            "Building wheels for collected packages: mpi4py\n",
            "  Building wheel for mpi4py (PEP 517) ... \u001b[?25l\u001b[?25hdone\n",
            "  Created wheel for mpi4py: filename=mpi4py-3.1.2-cp37-cp37m-linux_x86_64.whl size=2183208 sha256=48f6a817f7419910af4626f24bdaa2a7fb8221f26c27290538963e80743f2243\n",
            "  Stored in directory: /root/.cache/pip/wheels/62/d6/0a/91ea5f998589bc72ca3fcf425c0e364baf8536753e1cd26ea4\n",
            "Successfully built mpi4py\n",
            "Installing collected packages: mpi4py\n",
            "Successfully installed mpi4py-3.1.2\n"
          ]
        }
      ]
    },
    {
      "cell_type": "markdown",
      "metadata": {
        "id": "Cq1iRsOSBQtZ"
      },
      "source": [
        ""
      ]
    },
    {
      "cell_type": "code",
      "metadata": {
        "id": "FxzZ9OEmAjMO",
        "outputId": "de52ff1a-fcbe-48df-a3e1-a5ca9f459b4f",
        "colab": {
          "base_uri": "https://localhost:8080/"
        }
      },
      "source": [
        "from google.colab import files\n",
        "\n",
        "# helloWorld_MPI.py\n",
        "with open('/content/helloWorld_MPI.py', 'w') as f:\n",
        "  f.write( \n",
        "      \"from mpi4py import MPI\\n\" \n",
        "      \"comm = MPI.COMM_WORLD\\n\"\n",
        "      \"rank = comm.Get_rank()\\n\"\n",
        "      \"print ('hello world from process ', rank)\")\n",
        "\n",
        "! mpiexec --allow-run-as-root -np 5 python /content/helloWorld_MPI.py"
      ],
      "execution_count": 47,
      "outputs": [
        {
          "output_type": "stream",
          "name": "stdout",
          "text": [
            "hello world from process  1\n",
            "hello world from process  0\n",
            "hello world from process  2\n",
            "hello world from process  4\n",
            "hello world from process  3\n"
          ]
        }
      ]
    },
    {
      "cell_type": "markdown",
      "metadata": {
        "id": "OAWSa_3UKWm0"
      },
      "source": [
        "**Point-to-point communication**"
      ]
    },
    {
      "cell_type": "code",
      "metadata": {
        "id": "cfWNZHlLKnAa"
      },
      "source": [
        ""
      ],
      "execution_count": null,
      "outputs": []
    }
  ]
}