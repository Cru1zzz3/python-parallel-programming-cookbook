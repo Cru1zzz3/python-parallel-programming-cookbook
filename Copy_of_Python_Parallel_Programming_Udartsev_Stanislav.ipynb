{
  "nbformat": 4,
  "nbformat_minor": 0,
  "metadata": {
    "colab": {
      "name": "Copy of Python Parallel Programming - Udartsev Stanislav.ipynb",
      "provenance": [],
      "collapsed_sections": [],
      "authorship_tag": "ABX9TyMHxnmNrqg5wSO/BD7CY4zW",
      "include_colab_link": true
    },
    "kernelspec": {
      "name": "python3",
      "display_name": "Python 3"
    },
    "language_info": {
      "name": "python"
    }
  },
  "cells": [
    {
      "cell_type": "markdown",
      "metadata": {
        "id": "view-in-github",
        "colab_type": "text"
      },
      "source": [
        "<a href=\"https://colab.research.google.com/github/Cru1zzz3/python-parallel-programming-cookbook/blob/main/Copy_of_Python_Parallel_Programming_Udartsev_Stanislav.ipynb\" target=\"_parent\"><img src=\"https://colab.research.google.com/assets/colab-badge.svg\" alt=\"Open In Colab\"/></a>"
      ]
    },
    {
      "cell_type": "markdown",
      "metadata": {
        "id": "GPtU3lLySVEO"
      },
      "source": [
        "Лабораторная №1. Ударцев Станислав"
      ]
    },
    {
      "cell_type": "markdown",
      "metadata": {
        "id": "Q7qCcyNjbMIx"
      },
      "source": [
        "Chapter 1: Getting Started with\n",
        "Parallel Computing\n",
        "and Python"
      ]
    },
    {
      "cell_type": "code",
      "metadata": {
        "id": "4LPVyWn-SoLi"
      },
      "source": [
        "def called_Process():\n",
        "  print (\"Hello Python Parallel Cookbook!!\")\n",
        "  closeInput = input(\"Press ENTER to exit\")\n",
        "  print(\"Closing calledProcess\")"
      ],
      "execution_count": 3,
      "outputs": []
    },
    {
      "cell_type": "code",
      "metadata": {
        "id": "XH-d3sUaSpsg"
      },
      "source": [
        "import os\n",
        "import sys\n",
        "\n",
        "def calling_Process():\n",
        "  program = \"python\"\n",
        "  print(\"Process calling\")\n",
        "  arguments = [\"called_Process()\"] # В качестве входного аргумента используем ранее определённую нами функцию\n",
        "\n",
        "  # Эта часть кода не работает, т.к.  Google Collab не поддерживает execvp\n",
        "  # os.execvp(program, (program,) + tuple(arguments))\n",
        "  # поэтому при вызове функции будем просто вызывать функцию called_Process()\n",
        "  called_Process()\n",
        "  print(\"Good Bye!!\")"
      ],
      "execution_count": 8,
      "outputs": []
    },
    {
      "cell_type": "code",
      "metadata": {
        "id": "da-9hdjfStS_",
        "colab": {
          "base_uri": "https://localhost:8080/"
        },
        "outputId": "f8132cf1-6c81-4dd2-960a-9e94785b1c52"
      },
      "source": [
        "print(calling_Process())"
      ],
      "execution_count": 9,
      "outputs": [
        {
          "output_type": "stream",
          "name": "stdout",
          "text": [
            "Process calling\n",
            "Hello Python Parallel Cookbook!!\n",
            "Press ENTER to exit\n",
            "Closing calledProcess\n",
            "Good Bye!!\n",
            "None\n"
          ]
        }
      ]
    },
    {
      "cell_type": "markdown",
      "metadata": {
        "id": "2311VgVzeodX"
      },
      "source": [
        "**Start working with threads in Python**"
      ]
    },
    {
      "cell_type": "code",
      "metadata": {
        "id": "a7PIA4t9em8o"
      },
      "source": [
        "from threading import Thread\n",
        "\n",
        "from time import sleep\n",
        "\n",
        "class CookBook(Thread):\n",
        "  def __init__(self):\n",
        "    Thread.__init__(self)\n",
        "    self.message = \"Hello Parallel Python CookBook!!\\n\"\n",
        "\n",
        "\n",
        "  def print_message(self):\n",
        "    print (self.message)\n",
        "\n",
        "\n",
        "  def run(self):\n",
        "    print (\"Thread Starting\\n\")\n",
        "    x=0\n",
        "    while (x < 10):\n",
        "      self.print_message()\n",
        "      sleep(2)\n",
        "      x += 1\n",
        "    print (\"Thread Ended\\n\")\n",
        "\n",
        "\n"
      ],
      "execution_count": 10,
      "outputs": []
    },
    {
      "cell_type": "code",
      "metadata": {
        "id": "uuEjY4BiTJdW",
        "colab": {
          "base_uri": "https://localhost:8080/"
        },
        "outputId": "00b3a4b4-72b8-4dca-c03a-0daa6c68c6ce"
      },
      "source": [
        "print (\"Process Started\")\n",
        "\n",
        "hello_Python = CookBook()\n",
        "\n",
        "# hello_Python.start() вызов только метода .start() не работает, потому что основной поток закрывается раньше,\n",
        "# чем закончит свою работу поток с выводом сообщения\n",
        "hello_Python.start()\n",
        "\n",
        "#для корректной работы необходимо дополнить пример вызовом метода .join(), который позволяет ожидать завершение \n",
        "#потоков отличных от главного, прежде чем закрыть основной процесс\n",
        " \n",
        "hello_Python.join() #\n",
        "\n",
        "print (\"Process Ended\")\n"
      ],
      "execution_count": 11,
      "outputs": [
        {
          "output_type": "stream",
          "name": "stdout",
          "text": [
            "Process Started\n",
            "Thread Starting\n",
            "\n",
            "Hello Parallel Python CookBook!!\n",
            "\n",
            "Hello Parallel Python CookBook!!\n",
            "\n",
            "Hello Parallel Python CookBook!!\n",
            "\n",
            "Hello Parallel Python CookBook!!\n",
            "\n",
            "Hello Parallel Python CookBook!!\n",
            "\n",
            "Hello Parallel Python CookBook!!\n",
            "\n",
            "Hello Parallel Python CookBook!!\n",
            "\n",
            "Hello Parallel Python CookBook!!\n",
            "\n",
            "Hello Parallel Python CookBook!!\n",
            "\n",
            "Hello Parallel Python CookBook!!\n",
            "\n",
            "Thread Ended\n",
            "\n",
            "Process Ended\n"
          ]
        }
      ]
    }
  ]
}